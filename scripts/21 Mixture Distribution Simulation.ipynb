{
 "cells": [
  {
   "cell_type": "code",
   "execution_count": 123,
   "metadata": {},
   "outputs": [],
   "source": [
    "import numpy as np\n",
    "from scipy import stats\n",
    "import random\n",
    "import collections\n",
    "\n",
    "import matplotlib.pyplot as plt\n",
    "\n",
    "plt.style.use('grayscale')"
   ]
  },
  {
   "cell_type": "code",
   "execution_count": 137,
   "metadata": {},
   "outputs": [],
   "source": [
    "len_time_window = 1000\n",
    "\n",
    "session_frequency = 15\n",
    "\n",
    "daily_birth_lambda = 4/3\n",
    "\n",
    "daily_births_array = np.random.poisson(daily_birth_lambda, size=len_time_window)"
   ]
  },
  {
   "cell_type": "code",
   "execution_count": 138,
   "metadata": {},
   "outputs": [],
   "source": [
    "ctr=0\n",
    "child_bday_dict={}\n",
    "for idx,i in enumerate(daily_births_array):\n",
    "    for j in range(i):\n",
    "        child_bday_dict.update({ctr:idx})\n",
    "        ctr+=1"
   ]
  },
  {
   "cell_type": "code",
   "execution_count": 139,
   "metadata": {},
   "outputs": [],
   "source": [
    "session_days = [i+5 for i in range(1000) if i%14==0]"
   ]
  },
  {
   "cell_type": "code",
   "execution_count": 140,
   "metadata": {},
   "outputs": [],
   "source": [
    "inaction_end_day = [[np.floor(idx+stats.expon.rvs(loc=0, scale=10)) for j in range(i)] for idx, i in enumerate(daily_births_array)]\n",
    "\n",
    "flat_inaction_end_day = [x for xs in inaction_end_day for x in xs]\n",
    "\n",
    "session_days = [i+5 for i in range(1000) if i%session_frequency==0]\n",
    "\n",
    "new_child_session_day = [min([sday for sday in session_days if sday>=iday], default=\"EMPTY\") for xs in inaction_end_day for iday in xs]"
   ]
  },
  {
   "cell_type": "code",
   "execution_count": 141,
   "metadata": {},
   "outputs": [],
   "source": [
    "actual_session_day = np.array([i for i in new_child_session_day if i!=\"EMPTY\"])"
   ]
  },
  {
   "cell_type": "code",
   "execution_count": 142,
   "metadata": {},
   "outputs": [],
   "source": [
    "s=1.2*daily_birth_lambda*session_frequency\n",
    "\n",
    "num_sessions_delayed = np.zeros(len(new_child_session_day))\n",
    "\n",
    "n_backorders = [0]*len(session_days)"
   ]
  },
  {
   "cell_type": "code",
   "execution_count": 143,
   "metadata": {},
   "outputs": [],
   "source": [
    "for s_idx,s_day in enumerate(session_days):\n",
    "    s_children = [idx for idx,i in enumerate(actual_session_day) if i==s_day]\n",
    "    vaxd_children = random.sample(s_children, int(min(s+n_backorders[s_idx-1], len(s_children))))\n",
    "    unvaxd_children = list(set(s_children)-set(vaxd_children))\n",
    "    n_backorders[s_idx] = len(unvaxd_children)\n",
    "    num_sessions_delayed[unvaxd_children]+=1\n",
    "    actual_session_day[unvaxd_children] = actual_session_day[unvaxd_children]+session_frequency"
   ]
  },
  {
   "cell_type": "code",
   "execution_count": 144,
   "metadata": {},
   "outputs": [],
   "source": [
    "total_delay = [actual_session_day[idx] - child_bday_dict[idx] for idx,i in enumerate(actual_session_day)]"
   ]
  },
  {
   "cell_type": "code",
   "execution_count": 145,
   "metadata": {},
   "outputs": [
    {
     "data": {
      "text/plain": [
       "0.22388059701492538"
      ]
     },
     "execution_count": 145,
     "metadata": {},
     "output_type": "execute_result"
    }
   ],
   "source": [
    "np.mean(n_backorders)"
   ]
  },
  {
   "cell_type": "code",
   "execution_count": 148,
   "metadata": {},
   "outputs": [
    {
     "data": {
      "text/plain": [
       "(array([2005,   15,    0,    0,    0,    0], dtype=int64),\n",
       " array([0, 1, 2, 3, 4, 5, 6]))"
      ]
     },
     "execution_count": 148,
     "metadata": {},
     "output_type": "execute_result"
    }
   ],
   "source": [
    "np.histogram(num_sessions_delayed, bins = np.arange(7))"
   ]
  },
  {
   "cell_type": "code",
   "execution_count": 97,
   "metadata": {},
   "outputs": [
    {
     "data": {
      "text/plain": [
       "[3.625, 6.0, 6.7011494252873565, 5.7825900514579756]"
      ]
     },
     "execution_count": 97,
     "metadata": {},
     "output_type": "execute_result"
    }
   ],
   "source": [
    "[58/16, 348/58, 2332/348, 13485/2332]"
   ]
  },
  {
   "cell_type": "code",
   "execution_count": 83,
   "metadata": {},
   "outputs": [],
   "source": [
    "n_delay_idx = [idx for idx,i in enumerate(num_sessions_delayed) if i==n_delay][:90000]"
   ]
  },
  {
   "cell_type": "code",
   "execution_count": 85,
   "metadata": {},
   "outputs": [
    {
     "data": {
      "image/png": "[encoded data removed]",
      "text/plain": [
       "<Figure size 432x288 with 1 Axes>"
      ]
     },
     "metadata": {},
     "output_type": "display_data"
    }
   ],
   "source": [
    "plt.hist(np.array(total_delay)[n_delay_idx], bins = np.arange(0,100,2))\n",
    "plt.show()"
   ]
  },
  {
   "cell_type": "code",
   "execution_count": 35,
   "metadata": {},
   "outputs": [
    {
     "data": {
      "text/plain": [
       "5.0"
      ]
     },
     "execution_count": 35,
     "metadata": {},
     "output_type": "execute_result"
    }
   ],
   "source": [
    "np.max(num_sessions_delayed)"
   ]
  }
 ],
 "metadata": {
  "kernelspec": {
   "display_name": "Python 3",
   "language": "python",
   "name": "python3"
  },
  "language_info": {
   "codemirror_mode": {
    "name": "ipython",
    "version": 3
   },
   "file_extension": ".py",
   "mimetype": "text/x-python",
   "name": "python",
   "nbconvert_exporter": "python",
   "pygments_lexer": "ipython3",
   "version": "3.6.11"
  }
 },
 "nbformat": 4,
 "nbformat_minor": 2
}
