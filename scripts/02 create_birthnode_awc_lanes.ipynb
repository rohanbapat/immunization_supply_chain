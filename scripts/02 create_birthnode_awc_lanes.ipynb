{
 "cells": [
  {
   "cell_type": "markdown",
   "metadata": {},
   "source": [
    "This script helps identify the AWC closest to each birth node. We will use the following steps - \n",
    "1. Cross-join the birth-node and AWC locations df to get all uniquebirth-node-AWC combination (lane)\n",
    "2. Calculate the distance for each lane\n",
    "3. Eliminate all lanes longer than 20 km. The threshold is arbitrarily selected to reduce the size of the dataframe\n",
    "4. Sort the lanes in ascending order (shortest lanes on top)\n",
    "5. Drop duplicates at birth-node level, keeping only the first record, which gives us the closest AWC to the birth-node"
   ]
  },
  {
   "cell_type": "code",
   "execution_count": 1,
   "metadata": {},
   "outputs": [],
   "source": [
    "import pandas as pd\n",
    "from pathlib import Path\n",
    "path_data = Path.cwd().parent / data "
   ]
  },
  {
   "cell_type": "code",
   "execution_count": 3,
   "metadata": {},
   "outputs": [],
   "source": [
    "births_df = pd.read_csv(path_data / '01 out_births_cleaned.csv')\n",
    "awc_locations_df = pd.read_csv(path_data / '02 in_awc_locations.csv')"
   ]
  },
  {
   "cell_type": "markdown",
   "metadata": {},
   "source": [
    "STEP 1"
   ]
  },
  {
   "cell_type": "code",
   "execution_count": 2,
   "metadata": {},
   "outputs": [],
   "source": [
    "from math import radians, cos, sin, asin, sqrt\n",
    "\n",
    "def haversine(lon1, lat1, lon2, lat2):\n",
    "    \"\"\"\n",
    "    Calculate the great circle distance in kilometers between two points \n",
    "    on the earth (specified in decimal degrees)\n",
    "    \"\"\"\n",
    "    # convert decimal degrees to radians \n",
    "    lon1, lat1, lon2, lat2 = map(radians, [lon1, lat1, lon2, lat2])\n",
    "\n",
    "    # haversine formula \n",
    "    dlon = lon2 - lon1 \n",
    "    dlat = lat2 - lat1 \n",
    "    a = sin(dlat/2)**2 + cos(lat1) * cos(lat2) * sin(dlon/2)**2\n",
    "    c = 2 * asin(sqrt(a)) \n",
    "    r = 6371 # Radius of earth in kilometers. Use 3956 for miles. Determines return value units.\n",
    "    return c * r"
   ]
  },
  {
   "cell_type": "code",
   "execution_count": 4,
   "metadata": {},
   "outputs": [],
   "source": [
    "# Data cleaning and prep dataframes for cross-join\n",
    "births_df['Location ID'] = births_df.index\n",
    "\n",
    "births_df['key'] = 1\n",
    "awc_locations_df['key'] = 1\n",
    "\n",
    "births_df = births_df.rename(columns = {'Latitude' : 'Birth Latitude', 'Longitude': 'Birth Longitude'})\n",
    "awc_locations_df = awc_locations_df.rename(columns = {'Latitude' : 'AWC Latitude', 'Longitude' : 'AWC Longitude'})\n",
    "\n",
    "lanes_df = births_df.merge(awc_locations_df, on='key', how='outer')"
   ]
  },
  {
   "cell_type": "markdown",
   "metadata": {},
   "source": [
    "STEP 2"
   ]
  },
  {
   "cell_type": "code",
   "execution_count": 6,
   "metadata": {},
   "outputs": [],
   "source": [
    "lanes_df['Distance'] = lanes_df.apply(lambda x: haversine(lon1 = x['Birth Longitude'], lat1 = x['Birth Latitude'],\n",
    "                                                         lon2 = x['AWC Longitude'], lat2 = x['AWC Latitude']), axis = 1)"
   ]
  },
  {
   "cell_type": "markdown",
   "metadata": {},
   "source": [
    "STEP 3"
   ]
  },
  {
   "cell_type": "code",
   "execution_count": 7,
   "metadata": {},
   "outputs": [],
   "source": [
    "lanes_df = lanes_df[lanes_df['Distance']<=20]"
   ]
  },
  {
   "cell_type": "markdown",
   "metadata": {},
   "source": [
    "STEP 4"
   ]
  },
  {
   "cell_type": "code",
   "execution_count": 8,
   "metadata": {},
   "outputs": [],
   "source": [
    "lanes_df = lanes_df.sort_values(by=['Location ID', 'Distance'], ascending = [True, True])\n",
    "lane_assignment_df = lanes_df.drop_duplicates('Location ID', keep='first')"
   ]
  },
  {
   "cell_type": "markdown",
   "metadata": {},
   "source": [
    "STEP 5"
   ]
  },
  {
   "cell_type": "code",
   "execution_count": 10,
   "metadata": {},
   "outputs": [],
   "source": [
    "lane_assignment_df.to_csv(path_data / '02 out_lane_assignment.csv', index = False)"
   ]
  }
 ],
 "metadata": {
  "kernelspec": {
   "display_name": "Python 3",
   "language": "python",
   "name": "python3"
  },
  "language_info": {
   "codemirror_mode": {
    "name": "ipython",
    "version": 3
   },
   "file_extension": ".py",
   "mimetype": "text/x-python",
   "name": "python",
   "nbconvert_exporter": "python",
   "pygments_lexer": "ipython3",
   "version": "3.6.11"
  }
 },
 "nbformat": 4,
 "nbformat_minor": 2
}
