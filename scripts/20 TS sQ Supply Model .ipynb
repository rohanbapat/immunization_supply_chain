{
 "cells": [
  {
   "cell_type": "code",
   "execution_count": 1,
   "metadata": {},
   "outputs": [],
   "source": [
    "import numpy as np\n",
    "from scipy import stats\n",
    "import matplotlib.pyplot as plt\n",
    "plt.style.use('grayscale')\n",
    "import random\n",
    "\n",
    "import pandas as pd"
   ]
  },
  {
   "cell_type": "code",
   "execution_count": 2,
   "metadata": {},
   "outputs": [],
   "source": [
    "random.seed(3)"
   ]
  },
  {
   "cell_type": "code",
   "execution_count": 34,
   "metadata": {},
   "outputs": [],
   "source": [
    "len_time_window = 1000\n",
    "\n",
    "n_sessionsites = 2\n",
    "\n",
    "annual_births = [300, 150]\n",
    "tau = 10\n",
    "eta = 15\n",
    "\n",
    "session_frequency = 15\n",
    "session_start = [5, 10]\n",
    "\n",
    "phc_replenishment_frequency = 30\n",
    "service_level = 0.9\n",
    "\n",
    "emergency_replenishment_volume = \"S\" # \"S\" or \"Expected Demand\""
   ]
  },
  {
   "cell_type": "code",
   "execution_count": 4,
   "metadata": {},
   "outputs": [],
   "source": [
    "session_days = [None]*n_sessionsites\n",
    "session_days[0] = [i for i in range(len_time_window) if (i-session_start[0])%session_frequency==0]\n",
    "session_days[1] = [i for i in range(len_time_window) if (i-session_start[1])%session_frequency==0]\n",
    "periodic_replenishment_days = [i for i in range(len_time_window) if i%phc_replenishment_frequency==0]"
   ]
  },
  {
   "cell_type": "markdown",
   "metadata": {},
   "source": [
    "### Demand"
   ]
  },
  {
   "cell_type": "code",
   "execution_count": 5,
   "metadata": {},
   "outputs": [],
   "source": [
    "daily_births_array = [None]*n_sessionsites\n",
    "child_bday_dict = [{} for _ in range(n_sessionsites)]  ### Initialized differently because dict were getting copied\n",
    "inaction_end_day = [None]*n_sessionsites\n",
    "flat_inaction_end_day = [None]*n_sessionsites\n",
    "new_child_session_day = [None]*n_sessionsites\n",
    "\n",
    "for site in range(n_sessionsites):\n",
    "    daily_births_array[site] = np.random.poisson(annual_births[site]/365, size=len_time_window)\n",
    "    ctr=0\n",
    "    for idx,i in enumerate(daily_births_array[site]):\n",
    "        for j in range(i):\n",
    "            child_bday_dict[site].update({ctr:idx})\n",
    "            ctr+=1\n",
    "    \n",
    "    inaction_end_day[site] = [[np.floor(idx+stats.expon.rvs(loc=0, scale=10)) for j in range(i)] for idx, i in enumerate(daily_births_array[site])]\n",
    "\n",
    "    flat_inaction_end_day[site] = [x for xs in inaction_end_day[site] for x in xs]\n",
    "\n",
    "    new_child_session_day[site] = [min([sday for sday in session_days[site] if sday>iday], default=\"EMPTY\") for xs in inaction_end_day[site] for iday in xs]"
   ]
  },
  {
   "cell_type": "code",
   "execution_count": 6,
   "metadata": {},
   "outputs": [],
   "source": [
    "e_session_demand = [annual_births[i]/365*session_frequency for i in range(n_sessionsites)]\n",
    "\n",
    "session_carryvolume = [stats.poisson.ppf(service_level,annual_births[i]/365*session_frequency,0) for i in range(n_sessionsites)]\n",
    "\n",
    "S = sum(annual_births)/12*1.5 \n",
    "s = sum(annual_births)/12*0.5 \n",
    "\n",
    "one_month_of_supply = sum(annual_births)/12"
   ]
  },
  {
   "cell_type": "code",
   "execution_count": 35,
   "metadata": {},
   "outputs": [],
   "source": [
    "starting_capacity = np.zeros(len_time_window)\n",
    "session_new_demand = np.zeros(len_time_window)\n",
    "session_total_demand = np.zeros(len_time_window)\n",
    "demand_served = np.zeros(len_time_window)\n",
    "demand_unserved = np.zeros((n_sessionsites, len_time_window))\n",
    "unserved_child_dict = [{} for _ in range(n_sessionsites)]  ### Initialized differently because dict were getting copied\n",
    "retrial_child_session_day = [[None]*len(new_child_session_day[i]) for i in range(n_sessionsites)] \n",
    "ending_capacity = np.zeros(len_time_window)\n",
    "starting_capacity[0] = S\n",
    "sessions_till_next_replenishment = [None]*n_sessionsites\n",
    "session_days = [None]*n_sessionsites\n",
    "child_vacday_dict = [{} for _ in range(n_sessionsites)]\n",
    "\n",
    "session_days[0] = [i for i in range(len_time_window) if (i-session_start[0])%session_frequency==0]\n",
    "session_days[1] = [i for i in range(len_time_window) if (i-session_start[1])%session_frequency==0]\n",
    "periodic_replenishment_days = [i for i in range(len_time_window) if i%phc_replenishment_frequency==0]\n",
    "                      \n",
    "for day in range(len_time_window-1):\n",
    "\n",
    "    # Periodic replenishment\n",
    "    if day%phc_replenishment_frequency==0:\n",
    "        starting_capacity[day] = S\n",
    "    \n",
    "    # Emergency replenishment\n",
    "    if starting_capacity[day] < s:\n",
    "        # Check if emergency replenishment is required\n",
    "        next_replenishment = min([l for l in periodic_replenishment_days if l>=day])\n",
    "        sessions_till_next_replenishment[0] = [k for k in session_days[0] if ((k>=day) and (k<next_replenishment))]\n",
    "        sessions_till_next_replenishment[1] = [k for k in session_days[1] if ((k>=day) and (k<next_replenishment))]\n",
    "\n",
    "        if len(sessions_till_next_replenishment[0]+sessions_till_next_replenishment[1])>0:\n",
    "            if emergency_replenishment_volume==\"S\":\n",
    "                starting_capacity[day] = S\n",
    "            else:\n",
    "                expected_demand = e_session_demand[0]*len(sessions_till_next_replenishment[0])+e_session_demand[1]*len(sessions_till_next_replenishment[1])\n",
    "                starting_capacity[day] += expected_demand\n",
    "    \n",
    "    for ss in range(n_sessionsites):\n",
    "        if (day-session_start[ss])%session_frequency==0:\n",
    "            # If session day at 'ss' session site\n",
    "#             session_new_demand[day] = int(np.random.poisson(e_session_demand[ss],1)) \n",
    "            new_child_idx_attending_today = [idx for idx,i in enumerate(new_child_session_day[ss]) if i==day]            \n",
    "            re_child_idx_attending_today = [idx for idx,i in enumerate(retrial_child_session_day[ss]) if i==day]\n",
    "        \n",
    "            all_child_idx_attending_today = new_child_idx_attending_today + re_child_idx_attending_today\n",
    "            session_new_demand[day] = len(new_child_idx_attending_today)\n",
    "#             session_total_demand[day] = session_new_demand[day] + demand_unserved[ss,day]\n",
    "            session_total_demand[day] = len(all_child_idx_attending_today)\n",
    "            demand_served[day] = min(starting_capacity[day], session_total_demand[day], session_carryvolume[ss])\n",
    "            demand_unserved[ss,day] = max(session_total_demand[day] - demand_served[day], 0)\n",
    "            \n",
    "            unserved_child_today = []  # Initialize in case no unserved today\n",
    "            if demand_unserved[ss,day]>0:\n",
    "                unserved_child_today = random.sample(all_child_idx_attending_today, int(demand_unserved[ss,day]))\n",
    "                unserved_child_dict[ss].update({day:unserved_child_today})\n",
    "                retrial_inaction_end_day = list(day+stats.expon.rvs(loc=0, scale=eta,size = int(demand_unserved[ss,day])))\n",
    "                \n",
    "                for uchild_idx, uchild in enumerate(unserved_child_today):\n",
    "                    retrial_child_session_day[ss][uchild] = min([sday for sday in session_days[ss] if sday>retrial_inaction_end_day[uchild_idx]], default=\"EMPTY\")\n",
    "#                 retrial_child_session_day[ss].extend([min([sday for sday in session_days[ss] if sday>iday], default=\"EMPTY\") for iday in retrial_inaction_end_day])                                              \n",
    "            \n",
    "\n",
    "            served_child_today = list(set(all_child_idx_attending_today)-set(unserved_child_today))\n",
    "                    \n",
    "            child_vacday_dict[ss].update({i:day for i in served_child_today})\n",
    "            ending_capacity[day] = starting_capacity[day] - demand_served[day]\n",
    "            starting_capacity[day+1] = ending_capacity[day]\n",
    "        else:\n",
    "            demand_unserved[ss,day+1] = demand_unserved[ss,day]\n",
    "    \n",
    "    if demand_served[day]==0:\n",
    "        ending_capacity[day] = starting_capacity[day]\n",
    "        starting_capacity[day+1] = starting_capacity[day]"
   ]
  },
  {
   "cell_type": "markdown",
   "metadata": {},
   "source": [
    "Outputs"
   ]
  },
  {
   "cell_type": "code",
   "execution_count": 8,
   "metadata": {},
   "outputs": [],
   "source": [
    "vaccination_delay_calc_list = [None]*n_sessionsites\n",
    "vaccination_delay_histogram = [None]*n_sessionsites\n",
    "frac_sessions_partially_fulfilled = [None]*n_sessionsites\n",
    "frac_demand_retrialled = [None]*n_sessionsites"
   ]
  },
  {
   "cell_type": "code",
   "execution_count": 9,
   "metadata": {},
   "outputs": [],
   "source": [
    "for ss in range(n_sessionsites):\n",
    "    vaccination_delay_calc_list[ss] = [child_vacday_dict[ss][k] - child_bday_dict[ss][k] for k,v in child_vacday_dict[ss].items()]\n",
    "    vaccination_delay_histogram[ss] = np.histogram(vaccination_delay_calc_list[ss], bins = list(range(0,100,5)), weights=np.ones(len(vaccination_delay_calc_list[ss])) / len(vaccination_delay_calc_list[ss]))\n",
    "    frac_sessions_partially_fulfilled[ss] = len(unserved_child_dict[ss].keys())/len(session_days[ss])\n",
    "    frac_demand_retrialled[ss] = len([x for xs in list(unserved_child_dict[ss].values()) for x in xs])/len(child_vacday_dict[ss].keys())"
   ]
  },
  {
   "cell_type": "code",
   "execution_count": 10,
   "metadata": {},
   "outputs": [
    {
     "name": "stdout",
     "output_type": "stream",
     "text": [
      "[0.07462686567164178, 0.045454545454545456] [0.014723926380368098, 0.0072992700729927005]\n"
     ]
    }
   ],
   "source": [
    "print(frac_sessions_partially_fulfilled, frac_demand_retrialled)"
   ]
  },
  {
   "cell_type": "code",
   "execution_count": 36,
   "metadata": {},
   "outputs": [],
   "source": [
    "# plt.style.use(\"dark_background\")\n",
    "plt.figure(figsize=(12, 4))\n",
    "plt.plot([i-210 for i in range(210,len_time_window-200)],ending_capacity[210:800]/one_month_of_supply)\n",
    "#    plt.plot([i for i in range(time_window)],supply_demand_hc_level['starting_capacity']['phc'])\n",
    "plt.ylabel('Months of supply')\n",
    "plt.yticks(np.arange(0, 1.6, 0.5))\n",
    "plt.xticks(np.arange(0, 600, 30))\n",
    "plt.axhline(y=0.5, color='r', linestyle='-')\n",
    "plt.xlabel('Day')\n",
    "plt.grid(axis='x')\n",
    "plt.savefig(r'C:\\Users\\Rohan Bapat\\Documents\\Projects\\Immunization Supply Chain\\Resources\\emergency_replenishment_S.png')"
   ]
  },
  {
   "cell_type": "code",
   "execution_count": 31,
   "metadata": {},
   "outputs": [],
   "source": [
    "emergency_replenishment_volume = \"Expected Demand\""
   ]
  },
  {
   "cell_type": "code",
   "execution_count": 32,
   "metadata": {},
   "outputs": [],
   "source": [
    "starting_capacity = np.zeros(len_time_window)\n",
    "session_new_demand = np.zeros(len_time_window)\n",
    "session_total_demand = np.zeros(len_time_window)\n",
    "demand_served = np.zeros(len_time_window)\n",
    "demand_unserved = np.zeros((n_sessionsites, len_time_window))\n",
    "unserved_child_dict = [{} for _ in range(n_sessionsites)]  ### Initialized differently because dict were getting copied\n",
    "retrial_child_session_day = [[None]*len(new_child_session_day[i]) for i in range(n_sessionsites)] \n",
    "ending_capacity = np.zeros(len_time_window)\n",
    "starting_capacity[0] = S\n",
    "sessions_till_next_replenishment = [None]*n_sessionsites\n",
    "session_days = [None]*n_sessionsites\n",
    "child_vacday_dict = [{} for _ in range(n_sessionsites)]\n",
    "\n",
    "session_days[0] = [i for i in range(len_time_window) if (i-session_start[0])%session_frequency==0]\n",
    "session_days[1] = [i for i in range(len_time_window) if (i-session_start[1])%session_frequency==0]\n",
    "periodic_replenishment_days = [i for i in range(len_time_window) if i%phc_replenishment_frequency==0]\n",
    "                      \n",
    "for day in range(len_time_window-1):\n",
    "\n",
    "    # Periodic replenishment\n",
    "    if day%phc_replenishment_frequency==0:\n",
    "        starting_capacity[day] = S\n",
    "    \n",
    "    # Emergency replenishment\n",
    "    if starting_capacity[day] < s:\n",
    "        # Check if emergency replenishment is required\n",
    "        next_replenishment = min([l for l in periodic_replenishment_days if l>=day])\n",
    "        sessions_till_next_replenishment[0] = [k for k in session_days[0] if ((k>=day) and (k<next_replenishment))]\n",
    "        sessions_till_next_replenishment[1] = [k for k in session_days[1] if ((k>=day) and (k<next_replenishment))]\n",
    "\n",
    "        if len(sessions_till_next_replenishment[0]+sessions_till_next_replenishment[1])>0:\n",
    "            if emergency_replenishment_volume==\"S\":\n",
    "                starting_capacity[day] = S\n",
    "            else:\n",
    "                expected_demand = e_session_demand[0]*len(sessions_till_next_replenishment[0])+e_session_demand[1]*len(sessions_till_next_replenishment[1])\n",
    "                starting_capacity[day] += expected_demand\n",
    "    \n",
    "    for ss in range(n_sessionsites):\n",
    "        if (day-session_start[ss])%session_frequency==0:\n",
    "            # If session day at 'ss' session site\n",
    "#             session_new_demand[day] = int(np.random.poisson(e_session_demand[ss],1)) \n",
    "            new_child_idx_attending_today = [idx for idx,i in enumerate(new_child_session_day[ss]) if i==day]            \n",
    "            re_child_idx_attending_today = [idx for idx,i in enumerate(retrial_child_session_day[ss]) if i==day]\n",
    "        \n",
    "            all_child_idx_attending_today = new_child_idx_attending_today + re_child_idx_attending_today\n",
    "            session_new_demand[day] = len(new_child_idx_attending_today)\n",
    "#             session_total_demand[day] = session_new_demand[day] + demand_unserved[ss,day]\n",
    "            session_total_demand[day] = len(all_child_idx_attending_today)\n",
    "            demand_served[day] = min(starting_capacity[day], session_total_demand[day], session_carryvolume[ss])\n",
    "            demand_unserved[ss,day] = max(session_total_demand[day] - demand_served[day], 0)\n",
    "            \n",
    "            unserved_child_today = []  # Initialize in case no unserved today\n",
    "            if demand_unserved[ss,day]>0:\n",
    "                unserved_child_today = random.sample(all_child_idx_attending_today, int(demand_unserved[ss,day]))\n",
    "                unserved_child_dict[ss].update({day:unserved_child_today})\n",
    "                retrial_inaction_end_day = list(day+stats.expon.rvs(loc=0, scale=eta,size = int(demand_unserved[ss,day])))\n",
    "                \n",
    "                for uchild_idx, uchild in enumerate(unserved_child_today):\n",
    "                    retrial_child_session_day[ss][uchild] = min([sday for sday in session_days[ss] if sday>retrial_inaction_end_day[uchild_idx]], default=\"EMPTY\")\n",
    "#                 retrial_child_session_day[ss].extend([min([sday for sday in session_days[ss] if sday>iday], default=\"EMPTY\") for iday in retrial_inaction_end_day])                                              \n",
    "            \n",
    "\n",
    "            served_child_today = list(set(all_child_idx_attending_today)-set(unserved_child_today))\n",
    "                    \n",
    "            child_vacday_dict[ss].update({i:day for i in served_child_today})\n",
    "            ending_capacity[day] = starting_capacity[day] - demand_served[day]\n",
    "            starting_capacity[day+1] = ending_capacity[day]\n",
    "        else:\n",
    "            demand_unserved[ss,day+1] = demand_unserved[ss,day]\n",
    "    \n",
    "    if demand_served[day]==0:\n",
    "        ending_capacity[day] = starting_capacity[day]\n",
    "        starting_capacity[day+1] = starting_capacity[day]"
   ]
  },
  {
   "cell_type": "code",
   "execution_count": 33,
   "metadata": {},
   "outputs": [],
   "source": [
    "# plt.style.use(\"dark_background\")\n",
    "plt.figure(figsize=(12, 4))\n",
    "plt.plot([i-210 for i in range(210,len_time_window-200)],ending_capacity[210:800]/one_month_of_supply)\n",
    "#    plt.plot([i for i in range(time_window)],supply_demand_hc_level['starting_capacity']['phc'])\n",
    "plt.ylabel('Months of supply')\n",
    "plt.yticks(np.arange(0, 1.6, 0.5))\n",
    "plt.xticks(np.arange(0, 600, 30))\n",
    "plt.axhline(y=0.5, color='r', linestyle='-')\n",
    "plt.xlabel('Day')\n",
    "plt.grid(axis='x')\n",
    "plt.savefig(r'C:\\Users\\Rohan Bapat\\Documents\\Projects\\Immunization Supply Chain\\Resources\\emergency_replenishment_expected_demand.png')"
   ]
  }
 ],
 "metadata": {
  "kernelspec": {
   "display_name": "Python 3",
   "language": "python",
   "name": "python3"
  },
  "language_info": {
   "codemirror_mode": {
    "name": "ipython",
    "version": 3
   },
   "file_extension": ".py",
   "mimetype": "text/x-python",
   "name": "python",
   "nbconvert_exporter": "python",
   "pygments_lexer": "ipython3",
   "version": "3.6.11"
  }
 },
 "nbformat": 4,
 "nbformat_minor": 2
}
