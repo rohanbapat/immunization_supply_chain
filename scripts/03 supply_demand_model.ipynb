{
 "cells": [
  {
   "cell_type": "markdown",
   "metadata": {},
   "source": [
    "This script creates the supply and demand model at AWC level, time-horizon - daily. \n",
    "Script expects these inputs - \n",
    "1. Lane assignments - <br>\n",
    "    i) birth node to nearest AWC <br>\n",
    "    ii) birth node to nearest PHC <br>\n",
    "    iii) AWC to nearest PHC\n",
    "2. Vaccine details - vaccination schedule with start date, vaccination window, Average packed volume (secondary packaging), wastage for each vaccine\n",
    "3. CCE details - CCE type, capacity and cost"
   ]
  },
  {
   "cell_type": "code",
   "execution_count": 1,
   "metadata": {},
   "outputs": [],
   "source": [
    "import numpy as np\n",
    "\n",
    "import pandas as pd\n",
    "\n",
    "from pathlib import Path\n",
    "\n",
    "import matplotlib.pyplot as plt \n",
    "\n",
    "path_data = Path.cwd().parent / 'data'\n",
    "\n",
    "from scipy.sparse import csr_matrix, find"
   ]
  },
  {
   "cell_type": "code",
   "execution_count": 2,
   "metadata": {},
   "outputs": [],
   "source": [
    "birth_awc_df = pd.read_csv(path_data / '02 out_birth_awc_lane_assignment.csv')\n",
    "\n",
    "birth_phc_df = pd.read_csv(path_data / '02 out_birth_phc_lane_assignment.csv')\n",
    "\n",
    "awc_phc_df = pd.read_csv(path_data / '02 out_awc_phc_lane_assignment.csv')\n",
    "\n",
    "vaccine_details_df = pd.read_csv(path_data / '03 in_vaccine_details.csv')\n",
    "\n",
    "cce_details_df = pd.read_csv(path_data / '03 in_cce_details.csv')"
   ]
  },
  {
   "cell_type": "markdown",
   "metadata": {},
   "source": [
    "User Input Parameters"
   ]
  },
  {
   "cell_type": "code",
   "execution_count": 3,
   "metadata": {},
   "outputs": [],
   "source": [
    "awc_supply_frequency = 28    # Frequency of sessions at AWC in days\n",
    "phc_supply_frequency = 28    # Frequency of replenishment of PHC CCE stock in days\n",
    "\n",
    "alpha_i = 0.8          # Immunization probability alpha\n",
    "beta_i = 0.1           # Immunization probability beta\n",
    "gamma_i = 0.4        # Immunization probability lower limit\n",
    "delta = 0.5        # Ratio of (distance from nearest AWC)/(distance from nearest PHC), where caregiver's choice probability is equal = 0.5\n",
    "\n",
    "alpha_d = 4        # Vaccination delay intercept (median vaccination delay for BCG vaccine)   \n",
    "beta_d = 0.08      # Vaccination delay beta (for every additional day to vaccination start date, median delay increases by beta_d)"
   ]
  },
  {
   "cell_type": "markdown",
   "metadata": {},
   "source": [
    "## Demand Model"
   ]
  },
  {
   "cell_type": "markdown",
   "metadata": {},
   "source": [
    "Immunization Probability for each birth node = Vaccination Seeking Probability x Caregiver's Location Choice Probability"
   ]
  },
  {
   "cell_type": "markdown",
   "metadata": {},
   "source": [
    "Assume that the Caregiver's Location Choice probability is modeled using below equation, where x is the AWC/PHC distance ratio\n",
    "$$ P(PHC) = \\frac{e^x}{1+e^x}\n",
    "$$"
   ]
  },
  {
   "cell_type": "code",
   "execution_count": 4,
   "metadata": {},
   "outputs": [],
   "source": [
    "birth_awc_phc_df = pd.merge(birth_awc_df[['Location ID', 'AWC Name', 'AWC_ID', 'Distance', 'Births']].rename(columns = {'Distance':'AWC Distance'}), \n",
    "                            birth_phc_df[['Location ID', 'PHC Full Name', 'PHC_ID', 'Distance']].rename(columns = {'Distance': 'PHC Distance'}),\n",
    "                            on = 'Location ID', how = 'left')\n",
    "\n",
    "birth_awc_phc_df['AWC PHC Distance Ratio'] = birth_awc_phc_df['AWC Distance'] /  birth_awc_phc_df['PHC Distance']\n",
    "birth_awc_phc_df['Normalized Distance Ratio'] = (birth_awc_phc_df['AWC PHC Distance Ratio'] - delta)/birth_awc_phc_df['AWC PHC Distance Ratio'].var()\n",
    "\n",
    "birth_awc_phc_df['P_PHC'] = np.exp(birth_awc_phc_df['Normalized Distance Ratio'])/(1+np.exp(birth_awc_phc_df['Normalized Distance Ratio']))"
   ]
  },
  {
   "cell_type": "markdown",
   "metadata": {},
   "source": [
    "Vaccination seeking probability is given by the linear relation --\n",
    "$$ P(VaccinationSeeking) = \\alpha - \\beta \\times d $$\n",
    "where d is the distance of birth node from nearest AWC or PHC (whichever is closest)"
   ]
  },
  {
   "cell_type": "code",
   "execution_count": 5,
   "metadata": {},
   "outputs": [],
   "source": [
    "birth_awc_phc_df['Vaccination Seeking Probability'] = alpha_i - birth_awc_phc_df[['AWC Distance', 'PHC Distance']].min(axis = 1) *beta_i\n",
    "birth_awc_phc_df['Vaccination Seeking Probability'] = birth_awc_phc_df['Vaccination Seeking Probability'].clip(lower = gamma_i)"
   ]
  },
  {
   "cell_type": "code",
   "execution_count": 6,
   "metadata": {},
   "outputs": [],
   "source": [
    "# birth_awc_phc_df.to_csv(path_data / 'birth_awc_phc_df.csv', index = False)"
   ]
  },
  {
   "cell_type": "markdown",
   "metadata": {},
   "source": [
    "Number births (births_array) and number immunized at each birth node (immunization_array) <br>\n",
    "AWC turnout has the distribution - \n",
    "$$ Poi(q \\times \\delta \\times \\lambda/365) $$"
   ]
  },
  {
   "cell_type": "code",
   "execution_count": 7,
   "metadata": {},
   "outputs": [],
   "source": [
    "pois = lambda x: np.random.poisson(x/365, 365)\n",
    "\n",
    "births_array = np.array(list(map(pois, birth_awc_phc_df['Births'].values)))\n",
    "\n",
    "awc_turnout_array = np.array(list(map(pois, birth_awc_phc_df['Births'] * birth_awc_phc_df['Vaccination Seeking Probability'] * (1 - birth_awc_phc_df['P_PHC']) .values)))\n",
    "phc_turnout_array = np.array(list(map(pois, birth_awc_phc_df['Births'] * birth_awc_phc_df['Vaccination Seeking Probability'] * birth_awc_phc_df['P_PHC'] .values)))\n",
    "\n",
    "awc_id_array = birth_awc_phc_df['AWC_ID'].values\n",
    "phc_id_array = birth_awc_phc_df['PHC_ID'].values"
   ]
  },
  {
   "cell_type": "code",
   "execution_count": 8,
   "metadata": {},
   "outputs": [
    {
     "data": {
      "text/plain": [
       "{0.0: 1532854, 1.0: 17740, 2.0: 270, 3.0: 21}"
      ]
     },
     "execution_count": 8,
     "metadata": {},
     "output_type": "execute_result"
    }
   ],
   "source": [
    "# Histogram of number of births per day\n",
    "dict(zip(np.histogram(births_array, bins = 4)[1] , np.histogram(births_array, bins = 4)[0]))"
   ]
  },
  {
   "cell_type": "code",
   "execution_count": 9,
   "metadata": {},
   "outputs": [
    {
     "name": "stdout",
     "output_type": "stream",
     "text": [
      "% seeking vaccination : 69.47%\n",
      "% not seeking vaccination : 30.53%\n",
      "\n",
      "% seeking vaccination at PHC: 16.67%\n",
      "% not seeking vaccination at AWC : 83.33%\n"
     ]
    }
   ],
   "source": [
    "print(f\"% seeking vaccination : {(awc_turnout_array.sum() + phc_turnout_array.sum()) / births_array.sum():.2%}\")\n",
    "print(f\"% not seeking vaccination : {1-(awc_turnout_array.sum() + phc_turnout_array.sum()) / births_array.sum():.2%}\\n\")\n",
    "print(f\"% seeking vaccination at PHC: {phc_turnout_array.sum()/ (awc_turnout_array.sum() + phc_turnout_array.sum()):.2%}\")\n",
    "print(f\"% not seeking vaccination at AWC : {awc_turnout_array.sum()/ (awc_turnout_array.sum() + phc_turnout_array.sum()):.2%}\")"
   ]
  },
  {
   "cell_type": "markdown",
   "metadata": {},
   "source": [
    "Combine AWC Turnout and PHC turnout into one Session Site level turnout array"
   ]
  },
  {
   "cell_type": "code",
   "execution_count": 10,
   "metadata": {},
   "outputs": [],
   "source": [
    "birthnode_session_site_demand_array = np.append(awc_turnout_array, phc_turnout_array, axis = 0)\n",
    "birthnode_session_site_id = np.append(awc_id_array, phc_id_array)"
   ]
  },
  {
   "cell_type": "markdown",
   "metadata": {},
   "source": [
    "#### Demand-side vaccination delay\n",
    "\n",
    "Once the caregiver has decided to seek vaccination and selected the location, we now model the delay in vaccination once it is due ie. from Start Week. We assume the delay is a Geometric Random Variable, which implies that on any day after the vaccine is due, the caregiver decides whether to go for vaccination or not as per a Bernoulli trial with probability $p$.\n",
    "\n",
    "To determine this $p$, we use the data from this paper https://www.ncbi.nlm.nih.gov/pmc/articles/PMC6996155/#b0060 to get the median delay from vaccine start date for BCG, DTP and Measles. Then we assume that this median delay increases as the vaccine start date increases, eg. BCG start date is 0 days after birth, then median delay is low, but for later vaccines like DTP/Penta, the median delay itself is higher.\n",
    "\n",
    "From the median delay value, we can estimate the $p$ using the CDF equation for Geometric Distribution   $1 - (1-p)^k = 0.5$   where $k$ is the median delay value"
   ]
  },
  {
   "cell_type": "code",
   "execution_count": 11,
   "metadata": {},
   "outputs": [],
   "source": [
    "vaccine_details_df['Vaccination Delay Median'] = np.round(alpha_d + beta_d * vaccine_details_df['Start Week'] * 7,0)\n",
    "\n",
    "vaccine_details_df['Vaccination Delay Geom p'] = 1 - np.power(0.5, 1/vaccine_details_df['Vaccination Delay Median'])"
   ]
  },
  {
   "cell_type": "markdown",
   "metadata": {},
   "source": [
    "Now we want to get birthnode-vaccine level demand, such that the delay values are applied. We will get non-zero birthnode-day-vaccine combinations and apply appropriate delay factor. \n",
    "\n",
    "birthnode_session_site_2year_demand - Duplicate the birthnode_session_site_demand_array (dimension Num_birthnode_session_site x 365) to get a new matrix with dimension Num_birthnode_session_site_turnout x 730. \n",
    "Basically we assume that the daily birth numbers in last year were same as current year.\n",
    "So this helps estimate the demand from babies who are between 0-1 years of age at the start of current year\n",
    "\n",
    "array_birth_indices - This returns the row-column combinations of birthnode_session_site_2year_demand when 1 or more births happened. Eg BirthNode 1 - Day 5, and so on..\n",
    "\n",
    "array_birth_count - The number of births that happened corresponding to the index captured in array_birth_indices"
   ]
  },
  {
   "cell_type": "code",
   "execution_count": 12,
   "metadata": {},
   "outputs": [],
   "source": [
    "birthnode_session_site_2year_demand = np.append(birthnode_session_site_demand_array, birthnode_session_site_demand_array, axis = 1)\n",
    "\n",
    "array_birth_indices = np.nonzero(birthnode_session_site_2year_demand)\n",
    "array_birth_count = birthnode_session_site_2year_demand[array_birth_indices]"
   ]
  },
  {
   "cell_type": "markdown",
   "metadata": {},
   "source": [
    "Now 2 arrays are created - \n",
    "\n",
    "1. vaccination_start_array - This is the offset from birth to start date of vaccination.\n",
    "\n",
    "2. vaccination_delay_array - Based on the Geometric distribution, get the delay in days for every birth-node-day combination. This helps us map for example - For the birth that happened on Birth Node 1 - Day 5, the BCG vaccine is delayed by 4 days, OPV by 7 days and so on.\n",
    "\n",
    "vaccination_offset_array = vaccination_start_array + vaccination_delay_array\n",
    "\n",
    "This gives us the total number of days after birth when vaccine is demanded, considering the vaccination start date and corresponding delay"
   ]
  },
  {
   "cell_type": "code",
   "execution_count": 13,
   "metadata": {},
   "outputs": [],
   "source": [
    "geom = lambda x: np.random.geometric(x, array_birth_indices[0].shape)\n",
    "\n",
    "vaccination_delay_array = np.array(list(map(geom, vaccine_details_df['Vaccination Delay Geom p'].values))) - 1\n",
    "\n",
    "vaccination_delay_array = np.transpose(vaccination_delay_array)\n",
    "\n",
    "vaccination_start_array = np.tile(list(vaccine_details_df['Start Week'] * 7), (len(array_birth_indices[0]),1))\n",
    "\n",
    "vaccination_offset_array = vaccination_start_array + vaccination_delay_array"
   ]
  },
  {
   "cell_type": "markdown",
   "metadata": {},
   "source": [
    "Now this vaccination_offset_array needs to be plugged back into the bigger matrix to get the demand (birthnode_vaccine_demand)at vaccine_type x birthnode_sitelevel x 365. This is done by iterating over the array_birth_indices x N_vaccines.\n",
    "\n",
    "This approach reduces the number of iterations, which would've otherwise been N_session_sites x N_vaccines x 365"
   ]
  },
  {
   "cell_type": "code",
   "execution_count": 14,
   "metadata": {},
   "outputs": [],
   "source": [
    "birthnode_vaccine_2year_demand = np.zeros([vaccine_details_df.shape[0], birthnode_session_site_2year_demand.shape[0], birthnode_session_site_2year_demand.shape[1]])\n",
    "\n",
    "for i in range(len(array_birth_indices[0])):\n",
    "    for vac in range(vaccine_details_df.shape[0]):\n",
    "        vaccine_day_with_offset = array_birth_indices[1][i] + vaccination_offset_array[i][vac]\n",
    "        if vaccine_day_with_offset < birthnode_vaccine_2year_demand.shape[2]:\n",
    "            birth_node_id = array_birth_indices[0][i]\n",
    "            n_births = array_birth_count[i]\n",
    "            birthnode_vaccine_2year_demand[vac, birth_node_id, vaccine_day_with_offset] = n_births\n",
    "\n",
    "birthnode_vaccine_demand = birthnode_vaccine_2year_demand[:,:,365:]"
   ]
  },
  {
   "cell_type": "markdown",
   "metadata": {},
   "source": [
    "session_site_vaccine_level_demand - Using the above matrix, we now get the demand at session_site-Vaccine level. The dimension of this new matrix is - Num_Vaccines x Num_session_site_turnout x 365)"
   ]
  },
  {
   "cell_type": "markdown",
   "metadata": {},
   "source": [
    "Aggregate birth-node level data (number of births & number of 'immunized births') at Session Sitelevel"
   ]
  },
  {
   "cell_type": "code",
   "execution_count": 15,
   "metadata": {},
   "outputs": [],
   "source": [
    "def sum_by_group_3d(values, groups):\n",
    "    order = np.argsort(groups)\n",
    "    groups = groups[order]\n",
    "    values = values[:,order,:]\n",
    "    values_cumsum = np.cumsum(values, axis = 1)\n",
    "    index = np.ones(len(groups), 'bool')\n",
    "    index[:-1] = groups[1:] != groups[:-1]\n",
    "    values_cumsum = values_cumsum[:,index,:]\n",
    "    groups = groups[index]\n",
    "    values_cumsum[:,1:,:] = values_cumsum[:,1:,:] - values_cumsum[:,:-1,:]\n",
    "    return values_cumsum, groups\n",
    "\n",
    "session_site_vaccine_level_demand, session_site_list = sum_by_group_3d(birthnode_vaccine_demand, birthnode_session_site_id)"
   ]
  },
  {
   "cell_type": "markdown",
   "metadata": {},
   "source": [
    "Sort Session Sites in order of increasing demand. This will be helpful in the last step, where we iteratively add continuous vaccination at the AWCs with highest demand."
   ]
  },
  {
   "cell_type": "code",
   "execution_count": 16,
   "metadata": {},
   "outputs": [],
   "source": [
    "demand_sort_index = np.argsort(session_site_vaccine_level_demand.sum(axis=0).sum(axis = 1))\n",
    "session_site_vaccine_level_demand = session_site_vaccine_level_demand[:,demand_sort_index,:]\n",
    "session_site_list = session_site_list[demand_sort_index]"
   ]
  },
  {
   "cell_type": "markdown",
   "metadata": {},
   "source": [
    "Wastage adjusted CCE volume at vaccine level"
   ]
  },
  {
   "cell_type": "code",
   "execution_count": 17,
   "metadata": {},
   "outputs": [],
   "source": [
    "vaccine_cce_volume = np.array(vaccine_details_df['Average packed volume secondary package'])\n",
    "vaccine_cce_wastage_adjustment = 1/(1 - np.array(vaccine_details_df['Wastage']))\n",
    "vaccine_cce_volume_w_wastage = np.ceil(vaccine_cce_volume * vaccine_cce_wastage_adjustment)"
   ]
  },
  {
   "cell_type": "markdown",
   "metadata": {},
   "source": [
    "Multiply Number of vaccines at each Session site by the Wastage Adjusted volume, to get the required CCE volume at Session Site - Vaccine level"
   ]
  },
  {
   "cell_type": "code",
   "execution_count": 18,
   "metadata": {},
   "outputs": [],
   "source": [
    "session_site_vaccine_level_demand_volume = np.multiply(session_site_vaccine_level_demand, np.repeat(np.repeat(vaccine_cce_volume_w_wastage[:,None, None], session_site_vaccine_level_demand.shape[1], axis = 1), session_site_vaccine_level_demand.shape[2], axis = 2))"
   ]
  },
  {
   "cell_type": "markdown",
   "metadata": {},
   "source": [
    "Split out the vaccine volume at PHC and AWC into separate matrices. This completes the demand estimation part. Next we will model the supply for PHC and AWC separately"
   ]
  },
  {
   "cell_type": "code",
   "execution_count": 19,
   "metadata": {},
   "outputs": [],
   "source": [
    "phc_vaccine_level_demand_volume = session_site_vaccine_level_demand_volume[:, np.isin(session_site_list, np.unique(phc_id_array)), :]\n",
    "awc_vaccine_level_demand_volume = session_site_vaccine_level_demand_volume[:, ~np.isin(session_site_list, np.unique(phc_id_array)), :]\n",
    "\n",
    "phc_demand_sorted_list = session_site_list[np.isin(session_site_list, np.unique(phc_id_array))]\n",
    "awc_demand_sorted_list = session_site_list[~np.isin(session_site_list, np.unique(phc_id_array))]"
   ]
  },
  {
   "cell_type": "markdown",
   "metadata": {},
   "source": [
    "## Supply Model"
   ]
  },
  {
   "cell_type": "markdown",
   "metadata": {},
   "source": [
    "#### 1. Supply at AWC for RI\n",
    "RI will be conducted at AWC at periodic sessions depending on the supply interval."
   ]
  },
  {
   "cell_type": "code",
   "execution_count": 20,
   "metadata": {},
   "outputs": [],
   "source": [
    "awc_annual_supplies = 365//awc_supply_frequency"
   ]
  },
  {
   "cell_type": "markdown",
   "metadata": {},
   "source": [
    "Vaccine timeliness - Number of days since start of vaccine date. To get this, sum vaccines across vaccine types "
   ]
  },
  {
   "cell_type": "code",
   "execution_count": 21,
   "metadata": {},
   "outputs": [],
   "source": [
    "def sum_by_group(values, groups):\n",
    "    order = np.argsort(groups)\n",
    "    groups = groups[order]\n",
    "    values = values[order]\n",
    "    values_cumsum = np.cumsum(values, axis = 0)\n",
    "    index = np.ones(len(groups), 'bool')\n",
    "    index[:-1] = groups[1:] != groups[:-1]\n",
    "    values_cumsum = values_cumsum[index]\n",
    "    groups = groups[index]\n",
    "    values_cumsum[1:] = values_cumsum[1:] - values_cumsum[:-1]\n",
    "    return values_cumsum, groups"
   ]
  },
  {
   "cell_type": "code",
   "execution_count": 22,
   "metadata": {},
   "outputs": [
    {
     "data": {
      "text/plain": [
       "(array([270302., 275348., 280398., 268490., 271856., 261474., 277626.,\n",
       "        274953., 279953., 263324., 264362., 270009., 261977., 271580.,\n",
       "        273733., 286052., 276476., 276430., 276489., 270849., 271011.,\n",
       "        268783., 280136., 275221., 267152., 276918., 272616., 296310.]),\n",
       " array([ 1,  2,  3,  4,  5,  6,  7,  8,  9, 10, 11, 12, 13, 14, 15, 16, 17,\n",
       "        18, 19, 20, 21, 22, 23, 24, 25, 26, 27, 28], dtype=int32))"
      ]
     },
     "execution_count": 22,
     "metadata": {},
     "output_type": "execute_result"
    }
   ],
   "source": [
    "sum_vaccines_awc_day_level = np.sum(awc_vaccine_level_demand_volume, axis = (0,1))\n",
    "\n",
    "days_since_start_date = awc_supply_frequency - np.arange(365)%awc_supply_frequency\n",
    "\n",
    "sum_by_group(sum_vaccines_awc_day_level, days_since_start_date)"
   ]
  },
  {
   "cell_type": "markdown",
   "metadata": {},
   "source": [
    "AWC Volume per supply interval - Sum up the vaccine level volume demand for all days after last supply event"
   ]
  },
  {
   "cell_type": "code",
   "execution_count": 23,
   "metadata": {},
   "outputs": [],
   "source": [
    "awc_vaccine_vol_per_supply_interval = np.zeros([awc_vaccine_level_demand_volume.shape[0], awc_vaccine_level_demand_volume.shape[1], awc_annual_supplies])\n",
    "\n",
    "for i in range(awc_annual_supplies):\n",
    "    awc_vaccine_vol_per_supply_interval[:,:,i] = np.sum(awc_vaccine_level_demand_volume[:,:,i*awc_supply_frequency : (i+1)*awc_supply_frequency], axis = 2)"
   ]
  },
  {
   "cell_type": "markdown",
   "metadata": {},
   "source": [
    "Sum volume across vaccine to get total CCE volume requirement (in cm^3)"
   ]
  },
  {
   "cell_type": "code",
   "execution_count": 24,
   "metadata": {},
   "outputs": [],
   "source": [
    "awc_total_vol_per_supply_interval = np.sum(awc_vaccine_vol_per_supply_interval, axis = 0)"
   ]
  },
  {
   "cell_type": "markdown",
   "metadata": {},
   "source": [
    "Get capacity per supply interval using the CCE equipment capacity available for the AWC"
   ]
  },
  {
   "cell_type": "code",
   "execution_count": 25,
   "metadata": {},
   "outputs": [],
   "source": [
    "awc_capacity_per_supply_interval = np.full(awc_total_vol_per_supply_interval.shape, cce_details_df.loc[cce_details_df['Location Type']=='AWC', 'Capacity']*1000)"
   ]
  },
  {
   "cell_type": "code",
   "execution_count": 26,
   "metadata": {},
   "outputs": [],
   "source": [
    "awc_capacity_util_per_supply_interval = awc_total_vol_per_supply_interval / awc_capacity_per_supply_interval"
   ]
  },
  {
   "cell_type": "markdown",
   "metadata": {},
   "source": [
    "#### 2i. Supply at PHC for RI\n",
    "RI is available daily at PHC since we assume an active CCE is available. The stock at PHC is replenished from the upstream vaccine store (likely District Vaccine Store)"
   ]
  },
  {
   "cell_type": "code",
   "execution_count": 27,
   "metadata": {},
   "outputs": [],
   "source": [
    "phc_annual_supplies = 365//phc_supply_frequency"
   ]
  },
  {
   "cell_type": "code",
   "execution_count": 28,
   "metadata": {},
   "outputs": [],
   "source": [
    "phc_total_daily_demand_volume = np.sum(phc_vaccine_level_demand_volume, axis = 0)"
   ]
  },
  {
   "cell_type": "markdown",
   "metadata": {},
   "source": [
    "#### 2ii. Supply from PHC to downstream AWC\n",
    "This is accounted at AWC level in Step 1, now we need to account the same volumes at PHC level.\n",
    "We use the AWC - PHC mapping and aggregate the volume at PHC level"
   ]
  },
  {
   "cell_type": "code",
   "execution_count": 29,
   "metadata": {},
   "outputs": [],
   "source": [
    "awc_phc_id_dict = awc_phc_df[['AWC_ID', 'PHC_ID']].set_index('AWC_ID')['PHC_ID'].to_dict()\n",
    "\n",
    "phc_awc_supply_id_list = np.vectorize(awc_phc_id_dict.get)(awc_demand_sorted_list)"
   ]
  },
  {
   "cell_type": "markdown",
   "metadata": {},
   "source": [
    "Aggregate volume at PHC level"
   ]
  },
  {
   "cell_type": "code",
   "execution_count": 30,
   "metadata": {},
   "outputs": [],
   "source": [
    "phc_level_awc_supply, phc_level_awc_supply_id = sum_by_group(awc_total_vol_per_supply_interval, phc_awc_supply_id_list)"
   ]
  },
  {
   "cell_type": "markdown",
   "metadata": {},
   "source": [
    "Ensure PHC indices are aligned and the sort the PHC level volume array according to the aligned indices"
   ]
  },
  {
   "cell_type": "code",
   "execution_count": 31,
   "metadata": {},
   "outputs": [],
   "source": [
    "phc_awc_supply_list_sort = [np.where(phc_level_awc_supply_id == phc_demand_sorted_list[i])[0].item() for i,_ in enumerate(list(phc_demand_sorted_list))]\n",
    "\n",
    "phc_level_awc_supply = phc_level_awc_supply[phc_awc_supply_list_sort,:]"
   ]
  },
  {
   "cell_type": "markdown",
   "metadata": {},
   "source": [
    "#### 2iii. Combine total volume remaining at PHC  - RI + downstream AWC supply\n",
    "+ve capacity --> Replenishment from upstream vaccine store\n",
    "-ve capacity --> RI and downstream AWC supply"
   ]
  },
  {
   "cell_type": "code",
   "execution_count": 32,
   "metadata": {},
   "outputs": [],
   "source": [
    "phc_daily_remaining_capacity = np.zeros(phc_total_daily_demand_volume.shape)\n",
    "\n",
    "phc_daily_remaining_capacity[:,[i*phc_supply_frequency for i in range(phc_annual_supplies)]] = cce_details_df.loc[cce_details_df['Location Type']=='PHC', 'Capacity']*1000\n",
    "\n",
    "for i in range(364):\n",
    "    if i%phc_supply_frequency==0:\n",
    "        phc_daily_remaining_capacity[:,i] = cce_details_df.loc[cce_details_df['Location Type']=='PHC', 'Capacity']*1000\n",
    "    phc_daily_remaining_capacity[:,i] = phc_daily_remaining_capacity[:,i] - phc_total_daily_demand_volume[:,i]\n",
    "    if i%awc_supply_frequency==1:\n",
    "        phc_daily_remaining_capacity[:,i] = phc_daily_remaining_capacity[:,i] - phc_level_awc_supply[:,i//awc_supply_frequency]\n",
    "    phc_daily_remaining_capacity[:,i+1] = phc_daily_remaining_capacity[:,i]"
   ]
  },
  {
   "cell_type": "markdown",
   "metadata": {},
   "source": [
    "Export csv of PHC level remaining capacity and AWC level capacity utilization"
   ]
  },
  {
   "cell_type": "code",
   "execution_count": null,
   "metadata": {},
   "outputs": [],
   "source": [
    "np.savetxt(path_data / \"phc_daily_remaining_capacity_v5.csv\",phc_daily_remaining_capacity, delimiter=\",\")\n",
    "\n",
    "np.savetxt(path_data / \"awc_supply_interval_capacity_v5.csv\",awc_capacity_util_per_supply_interval, delimiter=\",\")"
   ]
  },
  {
   "cell_type": "markdown",
   "metadata": {},
   "source": [
    "## Modelling continuous vaccine availability at AWC level"
   ]
  },
  {
   "cell_type": "markdown",
   "metadata": {},
   "source": [
    "vaccine_availability_array - For each vaccine, we assume that the supply frequency is fixed, which is once per 2 weeks or 4 weeks or such. Which means the vaccine is available only 1 day in the entire interval.\n",
    "But we model this a little differently, considering the vaccination window is longer than 1 day, could be 1 week or 2 weeks or longer depending on the vaccine. So we flip things around. Instead of considering that the demand exists over the vaccination window, we assume that the supply exists over the vaccination window. Basically the vaccine is available for duration of the vaccination window after the supply event.\n",
    "\n",
    "For instance if supply happens on day 1 with supply frequency of 28 days, and vaccine window is 7 days, then the vaccine is 'available' from day 1 through day 8"
   ]
  },
  {
   "cell_type": "code",
   "execution_count": null,
   "metadata": {},
   "outputs": [],
   "source": [
    "vaccine_availability_array = np.zeros([awc_vaccine_level_demand.shape[0], awc_vaccine_level_demand.shape[1], awc_vaccine_level_demand.shape[2]])"
   ]
  },
  {
   "cell_type": "markdown",
   "metadata": {},
   "source": [
    "Iterate through vaccines to populate the vaccinate_availability_array"
   ]
  },
  {
   "cell_type": "code",
   "execution_count": null,
   "metadata": {},
   "outputs": [],
   "source": [
    "for i in range(awc_vaccine_level_demand.shape[0]):\n",
    "\n",
    "    vaccination_window_days = immunization_schedule_df.loc[i, 'Vaccination Window']*7\n",
    "\n",
    "    vaccine_availability_days_per_interval = np.ones(min(vaccination_window_days, supply_frequency))\n",
    "\n",
    "    vaccine_availability_per_interval = np.append(vaccine_availability_days_per_interval, np.zeros(max(supply_frequency - vaccination_window_days,0 )))\n",
    "\n",
    "    annual_vaccine_availability = np.tile(vaccine_availability_per_interval, annual_supplies+1)\n",
    "\n",
    "    annual_vaccine_availability = annual_vaccine_availability[:365]\n",
    "\n",
    "    awc_annual_vaccine_availabilty = np.tile(annual_vaccine_availability, (awc_vaccine_level_demand.shape[1],1))\n",
    "\n",
    "    vaccine_availability_array[i,:,:] = awc_annual_vaccine_availabilty\n",
    "\n"
   ]
  },
  {
   "cell_type": "markdown",
   "metadata": {},
   "source": [
    "We iteratively assume 'continuous vaccination' at AWCs with highest demand. Iterate from 0% to 100% of AWCs in increments of 5%. Continuous vaccination is modelled by assuming 'vaccine_availability' is 1 at the selected AWCs"
   ]
  },
  {
   "cell_type": "code",
   "execution_count": null,
   "metadata": {},
   "outputs": [],
   "source": [
    "vaccine_timeliness_df = pd.DataFrame(columns = {'% AWC with CCE', 'Vaccine Demand', 'Fulfilled vaccines'})\n",
    "\n",
    "percentile_range = [i for i in range(0,101,5)]\n",
    "\n",
    "for demand_percentile in percentile_range:\n",
    "    \n",
    "    num_facilities_w_cce = round(vaccine_availability_array.shape[1]*demand_percentile/100)\n",
    "    \n",
    "    cce_facilities_index_start = vaccine_availability_array.shape[1] - num_facilities_w_cce\n",
    "    \n",
    "    vaccine_availability_array_with_cce = np.copy(vaccine_availability_array)\n",
    "    \n",
    "    vaccine_availability_array_with_cce[:, cce_facilities_index_start:, :] = 1\n",
    "    \n",
    "    fulfilled_vaccine_demand_array = np.multiply(vaccine_availability_array_with_cce, awc_vaccine_level_demand)\n",
    "    \n",
    "    vaccine_timeliness_df = vaccine_timeliness_df.append({'% AWC with CCE': demand_percentile/100 ,\n",
    "                                                          'Vaccine Demand': awc_vaccine_level_demand.sum(),\n",
    "                                                          'Fulfilled vaccines' :fulfilled_vaccine_demand_array.sum()}\n",
    "                                                         , ignore_index = True)"
   ]
  },
  {
   "cell_type": "code",
   "execution_count": null,
   "metadata": {},
   "outputs": [],
   "source": [
    "vaccine_timeliness_df.to_csv(path_data / '03 out_vaccine_timeliness.csv', index = False)"
   ]
  }
 ],
 "metadata": {
  "kernelspec": {
   "display_name": "Python 3",
   "language": "python",
   "name": "python3"
  },
  "language_info": {
   "codemirror_mode": {
    "name": "ipython",
    "version": 3
   },
   "file_extension": ".py",
   "mimetype": "text/x-python",
   "name": "python",
   "nbconvert_exporter": "python",
   "pygments_lexer": "ipython3",
   "version": "3.6.11"
  }
 },
 "nbformat": 4,
 "nbformat_minor": 2
}
