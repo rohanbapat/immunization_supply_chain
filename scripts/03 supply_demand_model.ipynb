{
 "cells": [
  {
   "cell_type": "markdown",
   "metadata": {},
   "source": [
    "This script creates the supply and demand model at AWC level, time-horizon - daily. \n",
    "Script expects 2 inputs - \n",
    "1. Lane assignment specifying nearest AWC to each birth node, correspinding distance and births at the birth-node\n",
    "2. Immunization schedule with start data and vaccination window for each vaccine "
   ]
  },
  {
   "cell_type": "code",
   "execution_count": 1,
   "metadata": {},
   "outputs": [],
   "source": [
    "import numpy as np\n",
    "\n",
    "import pandas as pd\n",
    "\n",
    "from pathlib import Path\n",
    "\n",
    "path_data = Path.cwd().parent / 'data'"
   ]
  },
  {
   "cell_type": "code",
   "execution_count": 2,
   "metadata": {},
   "outputs": [],
   "source": [
    "birth_df = pd.read_csv(path_data / '02 out_lane_assignment.csv')\n",
    "\n",
    "immunization_schedule_df = pd.read_csv(path_data / '03 in_immunization_schedule.csv')"
   ]
  },
  {
   "cell_type": "markdown",
   "metadata": {},
   "source": [
    "User Input Parameters"
   ]
  },
  {
   "cell_type": "code",
   "execution_count": 1,
   "metadata": {},
   "outputs": [],
   "source": [
    "supply_frequency = 28    #Frequency of sessions at AWC in days\n",
    "\n",
    "alpha = 1          # Immunization probability alpha\n",
    "beta = 0           # Immunization probability beta\n",
    "gamma = 0.4        # Immunization probability lower limit"
   ]
  },
  {
   "cell_type": "markdown",
   "metadata": {},
   "source": [
    "## Demand Model"
   ]
  },
  {
   "cell_type": "markdown",
   "metadata": {},
   "source": [
    "Immunization Probability for each birth node"
   ]
  },
  {
   "cell_type": "code",
   "execution_count": 4,
   "metadata": {},
   "outputs": [],
   "source": [
    "birth_df['Immunization Probability'] = alpha - birth_df['Distance']*beta\n",
    "birth_df['Immunization Probability'] = birth_df['Immunization Probability'].clip(lower = gamma)"
   ]
  },
  {
   "cell_type": "markdown",
   "metadata": {},
   "source": [
    "Number births (births_array) and number immunized at each birth node (immunization_array)"
   ]
  },
  {
   "cell_type": "code",
   "execution_count": 5,
   "metadata": {},
   "outputs": [],
   "source": [
    "pois = lambda x: np.random.poisson(x/365, 365)\n",
    "\n",
    "births_array = np.array(list(map(pois, birth_df['Births'].values)))\n",
    "immunization_array = np.array(list(map(pois, birth_df['Births'] * birth_df['Immunization Probability'].values)))"
   ]
  },
  {
   "cell_type": "code",
   "execution_count": 6,
   "metadata": {},
   "outputs": [],
   "source": [
    "awc_id_array = birth_df['AWC_ID'].values"
   ]
  },
  {
   "cell_type": "markdown",
   "metadata": {},
   "source": [
    "Aggregate birth-node level data (number of births & number of 'immunized births') at AWC level"
   ]
  },
  {
   "cell_type": "code",
   "execution_count": 7,
   "metadata": {},
   "outputs": [],
   "source": [
    "def sum_by_group(values, groups):\n",
    "    order = np.argsort(groups)\n",
    "    groups = groups[order]\n",
    "    values = values[order]\n",
    "    values_cumsum = np.cumsum(values, axis = 0)\n",
    "    index = np.ones(len(groups), 'bool')\n",
    "    index[:-1] = groups[1:] != groups[:-1]\n",
    "    values_cumsum = values_cumsum[index]\n",
    "    groups = groups[index]\n",
    "    values_cumsum[1:] = values_cumsum[1:] - values_cumsum[:-1]\n",
    "    return values_cumsum, groups\n",
    "\n",
    "awc_id_array = birth_df['AWC_ID'].values\n",
    "\n",
    "awc_level_demand, awc_list = sum_by_group(immunization_array, awc_id_array)"
   ]
  },
  {
   "cell_type": "markdown",
   "metadata": {},
   "source": [
    "Sort AWCs in order of increasing demand. This will be helpful in the last step, where we iteratively add continuous vaccination at the AWCs with highest demand."
   ]
  },
  {
   "cell_type": "code",
   "execution_count": 9,
   "metadata": {},
   "outputs": [],
   "source": [
    "demand_sort_index = np.argsort(awc_level_demand.sum(axis=1))\n",
    "awc_level_demand = awc_level_demand[demand_sort_index]\n",
    "awc_list = awc_list[demand_sort_index]"
   ]
  },
  {
   "cell_type": "markdown",
   "metadata": {},
   "source": [
    "awc_2year_demand - Duplicate the AWC demand matrix (dimension Num_AWC x 365) to get a new matrix with dimension Num_AWC x 730. \n",
    "Basically we assume that the daily birth numbers in last year were same as current year.\n",
    "So this helps estimate the demand from babies who are between 0-1 years of age at the start of current year\n",
    "\n",
    "awc_vaccine_level_demand - Using the above matrix, we now get the demand at AWC-Vaccine level. The dimension of this new matrix is - Num_Vaccines x Num_AWC x 365)"
   ]
  },
  {
   "cell_type": "code",
   "execution_count": 10,
   "metadata": {},
   "outputs": [],
   "source": [
    "awc_2year_demand = np.append(awc_level_demand, awc_level_demand, axis = 1)\n",
    "\n",
    "awc_vaccine_level_demand = np.zeros([immunization_schedule_df.shape[0], awc_level_demand.shape[0], awc_level_demand.shape[1]])\n",
    "\n",
    "for index, row in immunization_schedule_df.iterrows():\n",
    "    start_offset = row['Start Week'] * 7\n",
    "    awc_vaccine_level_demand[index,:, :] = awc_2year_demand[:,365-start_offset:365-start_offset+365]"
   ]
  },
  {
   "cell_type": "markdown",
   "metadata": {},
   "source": [
    "## Supply model"
   ]
  },
  {
   "cell_type": "markdown",
   "metadata": {},
   "source": [
    "vaccine_availability_array - For each vaccine, we assume that the supply frequency is fixed, which is once per 2 weeks or 4 weeks or such. Which means the vaccine is available only 1 day in the entire interval.\n",
    "But we model this a little differently, considering the vaccination window is longer than 1 day, could be 1 week or 2 weeks or longer depending on the vaccine. So we flip things around. Instead of considering that the demand exists over the vaccination window, we assume that the supply exists over the vaccination window. Basically the vaccine is available for duration of the vaccination window after the supply event.\n",
    "\n",
    "For instance if supply happens on day 1 with supply frequency of 28 days, and vaccine window is 7 days, then the vaccine is 'available' from day 1 through day 8"
   ]
  },
  {
   "cell_type": "code",
   "execution_count": 11,
   "metadata": {},
   "outputs": [],
   "source": [
    "annual_supplies = 365//supply_frequency\n",
    "\n",
    "vaccine_availability_array = np.zeros([awc_vaccine_level_demand.shape[0], awc_vaccine_level_demand.shape[1], awc_vaccine_level_demand.shape[2]])"
   ]
  },
  {
   "cell_type": "markdown",
   "metadata": {},
   "source": [
    "Iterate through vaccines to populate the vaccinate_availability_array"
   ]
  },
  {
   "cell_type": "code",
   "execution_count": 12,
   "metadata": {},
   "outputs": [],
   "source": [
    "for i in range(awc_vaccine_level_demand.shape[0]):\n",
    "\n",
    "    vaccination_window_days = immunization_schedule_df.loc[i, 'Vaccination Window']*7\n",
    "\n",
    "    vaccine_availability_days_per_interval = np.ones(min(vaccination_window_days, supply_frequency))\n",
    "\n",
    "    vaccine_availability_per_interval = np.append(vaccine_availability_days_per_interval, np.zeros(max(supply_frequency - vaccination_window_days,0 )))\n",
    "\n",
    "    annual_vaccine_availability = np.tile(vaccine_availability_per_interval, annual_supplies+1)\n",
    "\n",
    "    annual_vaccine_availability = annual_vaccine_availability[:365]\n",
    "\n",
    "    awc_annual_vaccine_availabilty = np.tile(annual_vaccine_availability, (awc_vaccine_level_demand.shape[1],1))\n",
    "\n",
    "    vaccine_availability_array[i,:,:] = awc_annual_vaccine_availabilty\n",
    "\n"
   ]
  },
  {
   "cell_type": "markdown",
   "metadata": {},
   "source": [
    "We iteratively assume 'continuous vaccination' at AWCs with highest demand. Iterate from 0% to 100% of AWCs in increments of 5%. Continuous vaccination is modelled by assuming 'vaccine_availability' is 1 at the selected AWCs"
   ]
  },
  {
   "cell_type": "code",
   "execution_count": 13,
   "metadata": {},
   "outputs": [],
   "source": [
    "vaccine_timeliness_df = pd.DataFrame(columns = {'% AWC with CCE', 'Vaccine Demand', 'Fulfilled vaccines'})\n",
    "\n",
    "percentile_range = [i for i in range(0,101,5)]\n",
    "\n",
    "for demand_percentile in percentile_range:\n",
    "    \n",
    "    num_facilities_w_cce = round(vaccine_availability_array.shape[1]*demand_percentile/100)\n",
    "    \n",
    "    cce_facilities_index_start = vaccine_availability_array.shape[1] - num_facilities_w_cce\n",
    "    \n",
    "    vaccine_availability_array_with_cce = np.copy(vaccine_availability_array)\n",
    "    \n",
    "    vaccine_availability_array_with_cce[:, cce_facilities_index_start:, :] = 1\n",
    "    \n",
    "    fulfilled_vaccine_demand_array = np.multiply(vaccine_availability_array_with_cce, awc_vaccine_level_demand)\n",
    "    \n",
    "    vaccine_timeliness_df = vaccine_timeliness_df.append({'% AWC with CCE': demand_percentile/100 ,\n",
    "                                                          'Vaccine Demand': awc_vaccine_level_demand.sum(),\n",
    "                                                          'Fulfilled vaccines' :fulfilled_vaccine_demand_array.sum()}\n",
    "                                                         , ignore_index = True)"
   ]
  },
  {
   "cell_type": "code",
   "execution_count": 14,
   "metadata": {},
   "outputs": [],
   "source": [
    "vaccine_timeliness_df.to_csv(path_data / '03 out_vaccine_timeliness.csv', index = False)"
   ]
  }
 ],
 "metadata": {
  "kernelspec": {
   "display_name": "Python 3",
   "language": "python",
   "name": "python3"
  },
  "language_info": {
   "codemirror_mode": {
    "name": "ipython",
    "version": 3
   },
   "file_extension": ".py",
   "mimetype": "text/x-python",
   "name": "python",
   "nbconvert_exporter": "python",
   "pygments_lexer": "ipython3",
   "version": "3.6.11"
  }
 },
 "nbformat": 4,
 "nbformat_minor": 2
}
