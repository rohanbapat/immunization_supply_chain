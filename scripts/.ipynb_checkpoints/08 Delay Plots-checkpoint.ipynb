{
 "cells": [
  {
   "cell_type": "code",
   "execution_count": 1,
   "metadata": {},
   "outputs": [],
   "source": [
    "import matplotlib.pyplot as plt\n",
    "\n",
    "from pathlib import Path\n",
    "\n",
    "import numpy as np\n",
    "\n",
    "import itertools\n",
    "\n",
    "import pandas as pd\n",
    "\n",
    "# from adjustText import adjust_text\n",
    "\n",
    "plt.style.use('grayscale')\n",
    "\n",
    "from matplotlib.ticker import PercentFormatter\n",
    "\n",
    "path_data = Path.cwd().parent / 'data'"
   ]
  },
  {
   "cell_type": "code",
   "execution_count": null,
   "metadata": {},
   "outputs": [],
   "source": [
    "# scen_param_settings={'scenario_name': ['ccedisruption'],\n",
    "#                      'ss_mode': ['periodic', 'continuous'],\n",
    "#                      'ss_replenishment_source': ['phc', 'dvs'],\n",
    "#                      'phc_replenishment_disrupt': [0],\n",
    "#                      'annual_cce_disruptions': [1, 2, 3, 4]}"
   ]
  },
  {
   "cell_type": "code",
   "execution_count": 2,
   "metadata": {},
   "outputs": [],
   "source": [
    "plot_constants = {'levels' : ['overall', 'phc', 'ss'],\n",
    "                  'metrics' : ['median_delay', 'delay_greater_30', 'frac_vac'],\n",
    "                  'ss_mode - source' : ['periodic - phc', 'periodic-2device - phc', 'continuous - phc', 'continuous - dvs']}\n",
    "\n",
    "scenario_specs = {'ccedisruption' : 'annual_cce_disruptions', \n",
    "                  'replenishmentdisruption' : 'phc_replenishment_disrupt'}\n",
    "\n",
    "metric_labels = {'median_delay' : 'Median Delay in days',\n",
    "                'delay_greater_30': '% delayed more than 30 days',\n",
    "                'frac_vac': '% of total vaccinated'}\n",
    "\n",
    "df_dict = {}"
   ]
  },
  {
   "cell_type": "code",
   "execution_count": 4,
   "metadata": {},
   "outputs": [],
   "source": [
    "df_dict['median_delay'] = pd.read_csv(path_data / '07 median_delay_replenishment_disruption_df.csv')\n",
    "df_dict['delay_greater_30'] = pd.read_csv(path_data / '07 delay_greater_30_replenishment_disruption_df.csv')\n",
    "df_dict['frac_vac'] = pd.read_csv(path_data / '07 frac_vac_replenishment_disruption_df.csv')"
   ]
  },
  {
   "cell_type": "code",
   "execution_count": 16,
   "metadata": {},
   "outputs": [],
   "source": [
    "plt.clf()\n",
    "fig, ax = plt.subplots(nrows = len(df_dict.keys()), ncols = len(plot_constants['levels']),figsize=(15,15))\n",
    "plt.subplots_adjust(hspace=0.5,wspace=0.5)\n",
    "\n",
    "row = 0\n",
    "for metric in df_dict.keys():\n",
    "    df = df_dict[metric].copy()\n",
    "    df['ss_mode - source'] = df['ss_mode'] + \" - \" + df['ss_replenishment_source']\n",
    "    col = 0\n",
    "    \n",
    "    lev_plot_max = 0\n",
    "    lev_plot_min = 100\n",
    "\n",
    "    for lev in plot_constants['levels']:\n",
    "#         print(\"****************************************************\")\n",
    "#         print(lev)\n",
    "        \n",
    "        j=0\n",
    "        anno_array = np.zeros((4,4))\n",
    "        anno_array_idx = 0\n",
    "        \n",
    "        for scen in plot_constants['ss_mode - source']:\n",
    "            scen_df = df[df['ss_mode - source'] == scen]\n",
    "            x_axis_array = scen_df['replenishmentdisruption'].unique()\n",
    "            val_mean, val_lower, val_upper = [], [], []\n",
    "\n",
    "            for grp in x_axis_array:\n",
    "                m = scen_df.loc[scen_df['replenishmentdisruption']==grp, lev].mean()\n",
    "                l = scen_df.loc[scen_df['replenishmentdisruption']==grp, lev].quantile(0.025)\n",
    "                u = scen_df.loc[scen_df['replenishmentdisruption']==grp, lev].quantile(0.975)\n",
    "                \n",
    "                lev_plot_min = min(lev_plot_min, np.min(l))\n",
    "                lev_plot_max = max(lev_plot_max, np.max(u))\n",
    "                \n",
    "                val_mean.append(m)\n",
    "                val_lower.append(np.array(m) - np.array(l))\n",
    "                val_upper.append(np.array(u) - np.array(m))\n",
    "            ax[row,col].errorbar(x_axis_array+0.005*j, val_mean, yerr=[val_lower, val_upper], fmt='o', elinewidth = 0.5, capsize = 4, label = scen)\n",
    "#                 #set the bbox for the text. Increase txt_width for wider text.\n",
    "#             txt_height = 0.04*(ax[row,col].set_ylim()[1] - ax[row,col].set_ylim()[0])\n",
    "#             txt_width = 0.02*(ax[row,col].set_xlim()[1] - ax[row,col].set_xlim()[0])\n",
    "#             #Get the corrected text positions, then write the text.\n",
    "#             text_positions = get_text_positions(x_axis_array+0.05*j+0.1, val_mean, txt_width, txt_height)\n",
    "#             text_plotter(x_axis_array+0.05*j, val_mean, text_positions, ax[row,col], txt_width, txt_height)\n",
    "            \n",
    "            anno_array[anno_array_idx] = val_mean\n",
    "            \n",
    "            for anno_idx in range(len(x_axis_array)):\n",
    "                anno_x = x_axis_array[anno_idx]+0.005*j\n",
    "                anno_y = val_mean[anno_idx]\n",
    "                \n",
    "#                 for xy in zip(x_axis_array+0.05*j, val_mean):        \n",
    "                if metric in ['delay_greater_30', 'frac_vac']:\n",
    "                    anno_delta = 0.05\n",
    "                    if anno_array_idx>0:\n",
    "                        if np.min(np.absolute(anno_y - anno_array[:anno_array_idx, anno_idx]))>anno_delta:\n",
    "                            ax[row,col].annotate(np.round(anno_y*100,1).astype('str')+'%', xy=(anno_x+0.005,anno_y), textcoords='data')\n",
    "                        else:\n",
    "                            anno_array[anno_array_idx, anno_idx] = 0\n",
    "                    elif anno_array_idx==0:\n",
    "                        ax[row,col].annotate(np.round(anno_y*100,1).astype('str')+'%', xy=(anno_x+0.005,anno_y), textcoords='data')\n",
    "                else:\n",
    "# \n",
    "                    anno_delta = 1\n",
    "                    if anno_array_idx>0:\n",
    "                        if np.min(np.absolute(anno_y - anno_array[:anno_array_idx, anno_idx]))>anno_delta:\n",
    "                            ax[row,col].annotate(np.round(anno_y,1), xy=(anno_x+0.005,anno_y), textcoords='data')\n",
    "#                             print(\"Annotation added\")\n",
    "#                             print(\"Anno difference: \" + str(np.min(np.absolute(anno_y - anno_array[:anno_array_idx, anno_idx]))))\n",
    "#                             print(anno_y, anno_array)\n",
    "#                             print(anno_array_idx)\n",
    "#                             print(\"------------------------\")\n",
    "                        else:\n",
    "                            anno_array[anno_array_idx, anno_idx] = 0\n",
    "#                             print(\"Annotation not added\")\n",
    "#                             print(\"Anno difference: \" + str(np.min(np.absolute(anno_y - anno_array[:anno_array_idx, anno_idx]))))\n",
    "#                             print(anno_y, anno_array)\n",
    "#                             print(anno_array_idx)\n",
    "#                             print(\"------------------------\")\n",
    "                    elif anno_array_idx==0:\n",
    "                        ax[row,col].annotate(np.round(anno_y,1), xy=(anno_x+0.005,anno_y), textcoords='data')\n",
    "#                         print(\"0 Annotation added\")\n",
    "#                         print(\"00000000000000000000000000000000000000000000\")\n",
    "\n",
    "                     \n",
    "            ax[row,col].set_title(lev)\n",
    "            ax[row,col].set_xlabel('Probability of replenishment disruption')\n",
    "            ax[row,col].set_ylabel(metric_labels[metric])\n",
    "            ax[row,col].legend(loc=\"best\")\n",
    "            \n",
    "#             if metric  in ['delay_greater_30', 'frac_vac']:\n",
    "#                 vals = ax[row,col].get_yticks()\n",
    "#                 ax[row,col].set_yticklabels(['{:,.0%}'.format(x) for x in vals])\n",
    "            j+=1\n",
    "            anno_array_idx+=1\n",
    "    #        print(f'{lev} \\n {scen} \\n {val_lower} \\n {val_mean} \\n {val_upper} \\n --------------------------')\n",
    "    #         ax[i].li(x_axis_array, val_mean, fmt='o')\n",
    "        col+=1\n",
    "        \n",
    "    for col_idx in range(len(plot_constants['levels'])):\n",
    "        ax[row, col_idx].set_ylim([lev_plot_min - 0.5*lev_plot_min, lev_plot_max + 0.01*lev_plot_max])\n",
    "        if metric in ['delay_greater_30', 'frac_vac']:\n",
    "            ax[row, col_idx].yaxis.set_major_formatter(PercentFormatter(1))\n",
    "    \n",
    "        \n",
    "    row+=1\n",
    "\n",
    "plt.savefig(r'C:\\Users\\Rohan Bapat\\Documents\\Projects\\Immunization Supply Chain\\immunization_supply_chain\\data\\Supply Model Plots\\replenishment_disruption.pdf')\n",
    "# plt.show()"
   ]
  },
  {
   "cell_type": "code",
   "execution_count": 18,
   "metadata": {},
   "outputs": [],
   "source": [
    "df_dict['median_delay'] = pd.read_csv(path_data / '07 median_delay_df.csv')\n",
    "df_dict['delay_greater_30'] = pd.read_csv(path_data / '07 delay_greater_30_df.csv')\n",
    "df_dict['frac_vac'] = pd.read_csv(path_data / '07 frac_vac_df.csv')"
   ]
  },
  {
   "cell_type": "code",
   "execution_count": 24,
   "metadata": {},
   "outputs": [
    {
     "name": "stdout",
     "output_type": "stream",
     "text": [
      "median_delay - overall - periodic - phc : 8.05\n",
      "median_delay - overall - periodic-2device - phc : 7.81\n",
      "median_delay - overall - continuous - phc : 1.525\n",
      "median_delay - overall - continuous - dvs : 1.47\n",
      "median_delay - phc - periodic - phc : 3.92\n",
      "median_delay - phc - periodic-2device - phc : 3.84\n",
      "median_delay - phc - continuous - phc : 2.085\n",
      "median_delay - phc - continuous - dvs : 2.085\n",
      "median_delay - ss - periodic - phc : 10.26\n",
      "median_delay - ss - periodic-2device - phc : 9.895\n",
      "median_delay - ss - continuous - phc : 1.405\n",
      "median_delay - ss - continuous - dvs : 1.355\n",
      "delay_greater_30 - overall - periodic - phc : 0.23003069158999992\n",
      "delay_greater_30 - overall - periodic-2device - phc : 0.22733715318000006\n"
     ]
    },
    {
     "name": "stderr",
     "output_type": "stream",
     "text": [
      "C:\\Users\\Rohan Bapat\\AppData\\Local\\Continuum\\Anaconda3\\lib\\site-packages\\ipykernel_launcher.py:53: UserWarning: FixedFormatter should only be used together with FixedLocator\n"
     ]
    },
    {
     "name": "stdout",
     "output_type": "stream",
     "text": [
      "delay_greater_30 - overall - continuous - phc : 0.13645664681999994\n",
      "delay_greater_30 - overall - continuous - dvs : 0.13617874725000004\n",
      "delay_greater_30 - phc - periodic - phc : 0.23061864801000007\n",
      "delay_greater_30 - phc - periodic-2device - phc : 0.23023108497999992\n",
      "delay_greater_30 - phc - continuous - phc : 0.1632451621700001\n",
      "delay_greater_30 - phc - continuous - dvs : 0.15959452766000007\n",
      "delay_greater_30 - ss - periodic - phc : 0.22990382400999995\n",
      "delay_greater_30 - ss - periodic-2device - phc : 0.22512992833999984\n",
      "delay_greater_30 - ss - continuous - phc : 0.12858951969\n",
      "delay_greater_30 - ss - continuous - dvs : 0.12916580306\n",
      "frac_vac - overall - periodic - phc : 0.84736986293\n",
      "frac_vac - overall - periodic-2device - phc : 0.8502465753500005\n",
      "frac_vac - overall - continuous - phc : 0.9270684928900002\n",
      "frac_vac - overall - continuous - dvs : 0.9254794518300002\n",
      "frac_vac - phc - periodic - phc : 0.43771364964\n",
      "frac_vac - phc - periodic-2device - phc : 0.44090296194000006\n",
      "frac_vac - phc - continuous - phc : 0.22701675698000007\n",
      "frac_vac - phc - continuous - dvs : 0.22899583103\n",
      "frac_vac - ss - periodic - phc : 0.5622863503600002\n",
      "frac_vac - ss - periodic-2device - phc : 0.55909703806\n",
      "frac_vac - ss - continuous - phc : 0.7729832430200002\n",
      "frac_vac - ss - continuous - dvs : 0.7710041689699999\n"
     ]
    }
   ],
   "source": [
    "plt.clf()\n",
    "fig, ax = plt.subplots(nrows = len(df_dict.keys()), ncols = len(plot_constants['levels']),figsize=(15,15))\n",
    "plt.subplots_adjust(hspace=1,wspace=0.5)\n",
    "\n",
    "row = 0\n",
    "for metric in df_dict.keys():\n",
    "    df = df_dict[metric].copy()\n",
    "    df['ss_mode - source'] = df['ss_mode'] + \" - \" + df['ss_replenishment_source']\n",
    "    col = 0\n",
    "    \n",
    "    lev_plot_max = 0\n",
    "    lev_plot_min = 100\n",
    "\n",
    "    for lev in plot_constants['levels']:\n",
    "        j=0\n",
    "        anno_array = np.zeros((4,4))\n",
    "        anno_array_idx = 0\n",
    "\n",
    "        val_mean, val_lower, val_upper = [], [], []\n",
    "        x_axis_array = plot_constants['ss_mode - source']\n",
    "        \n",
    "        for scen in plot_constants['ss_mode - source']:\n",
    "            scen_df = df[df['ss_mode - source'] == scen]\n",
    "            \n",
    "            m = scen_df.loc[:, lev].mean()\n",
    "            l = scen_df.loc[:, lev].quantile(0.025)\n",
    "            u = scen_df.loc[:, lev].quantile(0.975)\n",
    "                \n",
    "            lev_plot_min = min(lev_plot_min, np.min(l))\n",
    "            lev_plot_max = max(lev_plot_max, np.max(u))\n",
    "\n",
    "            val_mean.append(m)\n",
    "            val_lower.append(np.array(m) - np.array(l))\n",
    "            val_upper.append(np.array(u) - np.array(m))\n",
    "            \n",
    "            print(f'{metric} - {lev} - {scen} : {m}')\n",
    "            \n",
    "        ax[row,col].errorbar(x_axis_array, val_mean, yerr=[val_lower, val_upper], fmt='o', elinewidth = 0.5, capsize = 4)\n",
    "\n",
    "        anno_array[anno_array_idx] = val_mean\n",
    "\n",
    "        for anno_idx in range(len(x_axis_array)):\n",
    "            anno_x = x_axis_array[anno_idx]\n",
    "            anno_y = val_mean[anno_idx]\n",
    "\n",
    "#                 for xy in zip(x_axis_array+0.05*j, val_mean):        \n",
    "            if metric in ['delay_greater_30', 'frac_vac']:\n",
    "                ax[row,col].annotate(np.round(anno_y*100,1).astype('str')+'%', xy=(anno_x,anno_y), textcoords='data')\n",
    "            else:\n",
    "                ax[row,col].annotate(np.round(anno_y,1), xy=(anno_x,anno_y), textcoords='data')        \n",
    "        \n",
    "        ax[row,col].set_title(lev)\n",
    "        ax[row,col].set_xticklabels(x_axis_array, rotation=45)\n",
    "#         ax[row,col].set_xlabel('SS CCE Replenishment Mode and Source')\n",
    "        ax[row,col].set_ylabel(metric_labels[metric])\n",
    "        \n",
    "        j+=1\n",
    "        col+=1\n",
    "        \n",
    "    for col_idx in range(len(plot_constants['levels'])):\n",
    "        ax[row, col_idx].set_ylim([lev_plot_min - 0.5*lev_plot_min, lev_plot_max + 0.1*lev_plot_max])\n",
    "        if metric  in ['delay_greater_30', 'frac_vac']:\n",
    "            ax[row, col_idx].yaxis.set_major_formatter(PercentFormatter(1))\n",
    "        \n",
    "    row+=1\n",
    "\n",
    "plt.savefig(r'C:\\Users\\Rohan Bapat\\Documents\\Projects\\Immunization Supply Chain\\immunization_supply_chain\\data\\Supply Model Plots\\baseline.pdf')\n",
    "# plt.show()"
   ]
  },
  {
   "cell_type": "code",
   "execution_count": null,
   "metadata": {},
   "outputs": [],
   "source": [
    "lev_plot_min"
   ]
  },
  {
   "cell_type": "code",
   "execution_count": null,
   "metadata": {},
   "outputs": [],
   "source": [
    "lev_plot_max"
   ]
  },
  {
   "cell_type": "code",
   "execution_count": null,
   "metadata": {},
   "outputs": [],
   "source": [
    "lev_plot_max"
   ]
  },
  {
   "cell_type": "code",
   "execution_count": null,
   "metadata": {},
   "outputs": [],
   "source": [
    "x_axis_array"
   ]
  },
  {
   "cell_type": "code",
   "execution_count": null,
   "metadata": {},
   "outputs": [],
   "source": [
    "plt.clf()\n",
    "plt.errorbar(x_axis_array, val_mean, yerr=[val_lower, val_upper], fmt='o')\n",
    "plt.show()"
   ]
  },
  {
   "cell_type": "code",
   "execution_count": null,
   "metadata": {},
   "outputs": [],
   "source": [
    "delay_type = ['choice_delay', 'supply_delay']\n",
    "location_type = ['phc', 'ss']\n",
    "#intervention_type = ['baseline', 'continuous', 'ccedisruption', 'replenishmentdisruption', 'ccedisruption_continuous', 'ccedisruption_continuous']\n",
    "intervention_type = ['ccedisruption', 'replenishmentdisruption']\n",
    "mode_type = ['periodic', 'continuous']"
   ]
  },
  {
   "cell_type": "code",
   "execution_count": null,
   "metadata": {},
   "outputs": [],
   "source": [
    "# plt.clf()\n",
    "# fig, ax = plt.subplots(nrows = len(delay_type) * len(location_type), ncols = 1,figsize=(5,20))\n",
    "# plt.subplots_adjust(hspace=0.5)\n",
    "# i = 0\n",
    "\n",
    "# for x in itertools.product(delay_type, location_type):\n",
    "#     box_plot_data = []\n",
    "#     for i_type in intervention_type:\n",
    "#         sim_data = np.loadtxt(path_data / f'07 out_{x[0]}_{x[1]}_{i_type}.csv', delimiter=',')\n",
    "#         box_plot_data.append(sim_data[:,0])\n",
    "\n",
    "#     ax[i].boxplot(box_plot_data)\n",
    "#     ax[i].set_ylabel('% of total vaccinated')\n",
    "#     ax[i].set_xlabel('Number of days since vaccine start date')\n",
    "#     ax[i].set_title(f'{x[0]} -- {x[1]}')\n",
    "# #     ax[i].axis(xmin=0,xmax=n_days)\n",
    "    \n",
    "#     i+=1\n",
    "    \n",
    "# plt.show()\n",
    "# # choice_delay_phc_periodic = np.loadtxt(path_data / '07 out_choice_delay_phc.csv', delimiter=',')\n",
    "# # choice_delay_phc_continuous = np.loadtxt(path_data / '07 out_choice_delay_phc_continuous.csv', delimiter=',')"
   ]
  },
  {
   "cell_type": "markdown",
   "metadata": {},
   "source": [
    "CCE disruption plot"
   ]
  },
  {
   "cell_type": "code",
   "execution_count": null,
   "metadata": {},
   "outputs": [],
   "source": [
    "data_dict = {}\n",
    "groups = {}\n",
    "\n",
    "df = pd.DataFrame({'delay_type':[], 'location_type':[], 'intervention_type':[], 'mode_type' : [], 'sensitivity': [], 'ci_mean': [], 'ci_low': [], 'ci_high': []})"
   ]
  },
  {
   "cell_type": "code",
   "execution_count": null,
   "metadata": {},
   "outputs": [],
   "source": [
    "for x in itertools.product(delay_type, location_type, intervention_type, mode_type):\n",
    "    data_dict[x[0] + \"-\" + x[1] + \"-\" + x[2] + \"-\" + x[3]] = np.loadtxt(path_data / f'07 out_{x[0]}_{x[1]}_{x[2]}_{x[3]}.csv', delimiter=',')\n",
    "    groups[x[0] + \"-\" + x[1] + \"-\" + x[2] + \"-\" + x[3]] = np.unique(data_dict[x[0] + \"-\" + x[1] + \"-\" + x[2] + \"-\" + x[3]][:,-1])"
   ]
  },
  {
   "cell_type": "code",
   "execution_count": null,
   "metadata": {},
   "outputs": [],
   "source": [
    "plt.clf()\n",
    "fig, ax = plt.subplots(nrows = len(delay_type) * len(location_type) * len(intervention_type), ncols = 1,figsize=(5,30))\n",
    "plt.subplots_adjust(hspace=0.5)\n",
    "\n",
    "plt_idx = 0\n",
    "\n",
    "for del_type in delay_type:\n",
    "    for loc_type in location_type:\n",
    "        for int_type in intervention_type:\n",
    "            for mod_type in mode_type:\n",
    "                if del_type == 'supply_delay':\n",
    "                    data_dict[\"supply_delay-\" + loc_type + \"-\" + int_type + \"-\" + mod_type][:,0] = data_dict[\"supply_delay-\" + loc_type + \"-\" + int_type + \"-\" + mod_type][:,0] - 365 + data_dict[\"choice_delay-\" + loc_type + \"-\" + int_type + \"-\" + mod_type][:,:-1].sum(axis = 1)\n",
    "\n",
    "                delay_less_30 = data_dict[del_type + \"-\" + loc_type + \"-\" + int_type + \"-\" + mod_type][:,0]\n",
    "                frac_less_30 = delay_less_30 / np.sum(data_dict[del_type + \"-\" + loc_type + \"-\" + int_type + \"-\" + mod_type][:,:-1], axis = 1)\n",
    "                \n",
    "                for i in groups[del_type + \"-\" + loc_type + \"-\" + int_type + \"-\" + mod_type]:\n",
    "                    group_index = np.where(data_dict[del_type + \"-\" + loc_type + \"-\" + int_type + \"-\" + mod_type][:,-1] == i)\n",
    "                    group_data = frac_less_30[group_index]\n",
    "                    ci_low = np.round(np.quantile(group_data, 0.025),2)\n",
    "                    ci_high = np.round(np.quantile(group_data, 0.975),2)\n",
    "                    ci_mean = np.round(np.mean(group_data),2)\n",
    "                    append_df = {'delay_type':del_type, 'location_type':loc_type, 'intervention_type':int_type, 'mode_type': mod_type, 'sensitivity': i, 'ci_mean': ci_mean, 'ci_low': ci_low, 'ci_high': ci_high}\n",
    "                    df = df.append(append_df, ignore_index=True)\n",
    "\n",
    "\n",
    "                plot_df = df[(df['delay_type']==del_type) & (df['location_type']==loc_type) & (df['intervention_type']==int_type) & (df['mode_type']==mod_type)].drop_duplicates()\n",
    "                x = groups[del_type + \"-\" + loc_type + \"-\" + int_type + \"-\" + mod_type]\n",
    "                ax[plt_idx].plot(x, plot_df['ci_mean'], marker = \"o\", label = mod_type)\n",
    "                ax[plt_idx].legend(loc=\"lower left\")\n",
    "                ax[plt_idx].fill_between(x, plot_df['ci_low'], plot_df['ci_high'], color='b', alpha=.1)\n",
    "                ax[plt_idx].set_title(del_type + \"-\" + loc_type + \"-\" + int_type)\n",
    "                if int_type == \"ccedisruption\":\n",
    "                    ax[plt_idx].set_xlabel(\"Number of CCE disruptions per year\")\n",
    "                else:\n",
    "                    ax[plt_idx].set_xlabel(\"Frequency of replenishment disruptions\")\n",
    "                ax[plt_idx].set_ylabel(\"% delayed less than 30 days\")\n",
    "#                 ax[plt_idx].yaxis.set_major_formatter(PercentFormatter(0))\n",
    "            plt_idx+=1\n",
    "plt.show()"
   ]
  },
  {
   "cell_type": "code",
   "execution_count": null,
   "metadata": {},
   "outputs": [],
   "source": [
    "df.to_csv(path_data / 'delay_plots_dataframe.csv', index = False)"
   ]
  },
  {
   "cell_type": "code",
   "execution_count": null,
   "metadata": {},
   "outputs": [],
   "source": [
    "plot_df"
   ]
  },
  {
   "cell_type": "code",
   "execution_count": null,
   "metadata": {},
   "outputs": [],
   "source": [
    "print(del_type, loc_type, int_type)"
   ]
  },
  {
   "cell_type": "code",
   "execution_count": null,
   "metadata": {},
   "outputs": [],
   "source": [
    "plt.clf()\n",
    "plt.style.use('Solarize_Light2')\n",
    "x = ci_mean['phc'].keys()\n",
    "fig, ax = plt.subplots()\n",
    "ax.plot(ci_mean['phc'].keys(),ci_mean['phc'].values(), marker = \"o\")\n",
    "ax.fill_between(ci_mean['phc'].keys(), ci_low25['phc'].values(), ci_hi25['phc'].values(), color='b', alpha=.1)\n",
    "#ax.set_ylim([])\n",
    "plt.show()"
   ]
  },
  {
   "cell_type": "code",
   "execution_count": null,
   "metadata": {},
   "outputs": [],
   "source": [
    "ci_mean"
   ]
  },
  {
   "cell_type": "code",
   "execution_count": null,
   "metadata": {},
   "outputs": [],
   "source": [
    "ci_hi25"
   ]
  },
  {
   "cell_type": "code",
   "execution_count": null,
   "metadata": {},
   "outputs": [],
   "source": [
    "ci_low25"
   ]
  },
  {
   "cell_type": "code",
   "execution_count": null,
   "metadata": {},
   "outputs": [],
   "source": []
  },
  {
   "cell_type": "code",
   "execution_count": null,
   "metadata": {},
   "outputs": [],
   "source": []
  },
  {
   "cell_type": "code",
   "execution_count": null,
   "metadata": {},
   "outputs": [],
   "source": [
    "plt.style.use(\"dark_background\")\n",
    "\n",
    "fig = plt.figure(figsize =(6, 4))\n",
    "\n",
    "# Creating axes instance\n",
    "ax = fig.add_axes([0, 0, 1, 1])\n",
    "\n",
    "# Creating plot\n",
    "bp = ax.boxplot(box_data_choice_delay_phc)\n",
    "\n",
    "# show plot\n",
    "plt.show()"
   ]
  },
  {
   "cell_type": "code",
   "execution_count": null,
   "metadata": {},
   "outputs": [],
   "source": [
    "choice_delay_ss_periodic = np.loadtxt(path_data / '07 out_choice_delay_ss.csv', delimiter=',')\n",
    "choice_delay_ss_continuous = np.loadtxt(path_data / '07 out_choice_delay_ss_continuous.csv', delimiter=',')"
   ]
  },
  {
   "cell_type": "code",
   "execution_count": null,
   "metadata": {},
   "outputs": [],
   "source": [
    "box_data_choice_delay_ss = [choice_delay_ss_periodic[:,0], choice_delay_ss_continuous[:,0]]"
   ]
  },
  {
   "cell_type": "code",
   "execution_count": null,
   "metadata": {},
   "outputs": [],
   "source": [
    "plt.style.use(\"dark_background\")\n",
    "\n",
    "fig = plt.figure(figsize =(6, 4))\n",
    "\n",
    "# Creating axes instance\n",
    "ax = fig.add_axes([0, 0, 1, 1])\n",
    "\n",
    "# Creating plot\n",
    "bp = ax.boxplot(box_data_choice_delay_ss)\n",
    "\n",
    "# show plot\n",
    "plt.show()"
   ]
  }
 ],
 "metadata": {
  "kernelspec": {
   "display_name": "Python 3",
   "language": "python",
   "name": "python3"
  },
  "language_info": {
   "codemirror_mode": {
    "name": "ipython",
    "version": 3
   },
   "file_extension": ".py",
   "mimetype": "text/x-python",
   "name": "python",
   "nbconvert_exporter": "python",
   "pygments_lexer": "ipython3",
   "version": "3.6.11"
  }
 },
 "nbformat": 4,
 "nbformat_minor": 2
}
