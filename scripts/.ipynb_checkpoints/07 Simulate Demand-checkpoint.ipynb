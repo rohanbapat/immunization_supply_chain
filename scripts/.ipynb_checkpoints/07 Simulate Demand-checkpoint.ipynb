{
 "cells": [
  {
   "cell_type": "code",
   "execution_count": 1,
   "metadata": {},
   "outputs": [],
   "source": [
    "import numpy as np\n",
    "\n",
    "import matplotlib.pyplot as plt\n",
    "\n",
    "import random\n",
    "\n",
    "import pandas as pd\n",
    "\n",
    "from pathlib import Path\n",
    "\n",
    "np.set_printoptions(formatter={'float': lambda x: \"{0:0.3f}\".format(x)})\n",
    "\n",
    "path_data = Path.cwd().parent / 'data'\n",
    "\n",
    "random.seed(123)"
   ]
  },
  {
   "cell_type": "code",
   "execution_count": 2,
   "metadata": {},
   "outputs": [],
   "source": [
    "time_window = 730\n",
    "demand_estimate_range = [150, 150+365]\n",
    "\n",
    "phc_attributes = {'min_stock_s' : 20, #days of stock\n",
    "                  'max_stock_S' : 50, #days of stock\n",
    "                  'phc_replenishment_frequency' : 40, #days\n",
    "                  'phc_replenishment_disruption' : 0.1 #percent disrupted (0-1)\n",
    "                 }\n",
    "\n",
    "session_frequency = 28\n",
    "\n",
    "start_date = np.ones(time_window, dtype=np.int)\n",
    "\n",
    "alternatives = ['NO', 'PHC', 'SS']"
   ]
  },
  {
   "cell_type": "markdown",
   "metadata": {},
   "source": [
    "### Attributes of alternatives"
   ]
  },
  {
   "cell_type": "code",
   "execution_count": 3,
   "metadata": {},
   "outputs": [],
   "source": [
    "X_distance_phc = np.random.normal(2,1,time_window)\n",
    "X_distance_ss = np.random.normal(0,1,time_window)\n",
    "X_days_to_next_session_phc = np.ones(time_window)\n",
    "X_days_to_next_session_ss = np.array([session_frequency - (today+7)%session_frequency for today in range(time_window)])"
   ]
  },
  {
   "cell_type": "markdown",
   "metadata": {},
   "source": [
    "### Attributes of decision makers"
   ]
  },
  {
   "cell_type": "code",
   "execution_count": 4,
   "metadata": {},
   "outputs": [],
   "source": [
    "S_sociodemographic = np.random.normal(0,1,time_window)\n",
    "\n",
    "S_log_days_since_due_date = np.zeros((time_window,time_window))\n",
    "\n",
    "for i in range(time_window):\n",
    "    S_log_days_since_due_date[i,i:] = [np.log(i+1) for i in range(time_window-i)]"
   ]
  },
  {
   "cell_type": "markdown",
   "metadata": {},
   "source": [
    "### Error term"
   ]
  },
  {
   "cell_type": "code",
   "execution_count": 5,
   "metadata": {},
   "outputs": [],
   "source": [
    "sigma_sq = 1\n",
    "sigma_corr = 0.6\n",
    "\n",
    "mean = [0] * time_window\n",
    "cov = np.ones((time_window, time_window))*sigma_corr + np.diag(np.full(time_window,sigma_sq-sigma_corr)) \n",
    "\n",
    "sigma_matrix = np.zeros((len(alternatives),time_window,time_window))\n",
    "\n",
    "for i in range(len(alternatives)):\n",
    "    sigma_matrix[i,:,:] = np.random.multivariate_normal(mean, cov, time_window)"
   ]
  },
  {
   "cell_type": "markdown",
   "metadata": {},
   "source": [
    "### p matrix creation"
   ]
  },
  {
   "cell_type": "code",
   "execution_count": 6,
   "metadata": {},
   "outputs": [],
   "source": [
    "beta_1 = -0.9 # ASC PHC\n",
    "beta_2 = -0.5 # ASC SS \n",
    "beta_3 = -0.5 # Dist PHC\n",
    "beta_4 = -0.4 # Dist SS\n",
    "beta_5 = -0.1 # Days to next session at SS\n",
    "beta_6 = 0.5 # Sociodemographic\n",
    "beta_7 = -0.5 # Prior unserved at PHC (0/1)\n",
    "beta_8 = -0.5 # Prior unserved at SS (0/1)\n",
    "beta_9 = 0.1 # Days since due date\n",
    "\n",
    "beta_matrix = np.array(([0,0,0,0,0,0,0,0,0], \n",
    "                        [beta_1,0,beta_3,0,0,beta_6,beta_7,0,beta_9], \n",
    "                        [0,beta_2,0,beta_4,beta_5,beta_6,0,beta_8,beta_9])).T\n",
    "\n",
    "uno = np.ones(time_window)\n",
    "sero = np.zeros(time_window)\n",
    "\n",
    "attribute_matrix = np.zeros((time_window,10,time_window))\n",
    "p_matrix = np.zeros((3,time_window, time_window))"
   ]
  },
  {
   "cell_type": "code",
   "execution_count": 7,
   "metadata": {},
   "outputs": [],
   "source": [
    "def multinomial_logit(x):\n",
    "    e0 = np.exp(x[0])\n",
    "    e1 = np.exp(x[1])\n",
    "    e2 = np.exp(x[2])\n",
    "    den = e0+e1+e2\n",
    "    return e0/den, e1/den, e2/den"
   ]
  },
  {
   "cell_type": "code",
   "execution_count": 8,
   "metadata": {},
   "outputs": [],
   "source": [
    "def identity_choice(x):\n",
    "    argmx = np.argmax(x)\n",
    "    x = [0] * len(x)\n",
    "    x[argmx] = 1\n",
    "    return x"
   ]
  },
  {
   "cell_type": "code",
   "execution_count": 9,
   "metadata": {},
   "outputs": [],
   "source": [
    "def create_p_matrix(i, attribute_matrix, beta_matrix, sigma_matrix, p_matrix):\n",
    "    v_matrix = np.matmul(attribute_matrix, beta_matrix).T\n",
    "    u_matrix = v_matrix + sigma_matrix[:,:,i]\n",
    "    p_matrix[:,:,i] = np.apply_along_axis(multinomial_logit, 0, u_matrix) \n",
    "    return p_matrix"
   ]
  },
  {
   "cell_type": "code",
   "execution_count": 10,
   "metadata": {},
   "outputs": [],
   "source": [
    "def demand_estimation(i, p_matrix, supply_demand_combined, supply_demand_hc_level):\n",
    "#    unserved_demand_today = supply_demand_combined['demand_unserved'][:i+1] * np.argmax(p_matrix[:,:i+1,i], axis = 0)\n",
    "    unserved_demand_today = supply_demand_combined['demand_unserved'][:i+1]\n",
    "    queued_demand_today = unserved_demand_today * supply_demand_combined['demand_queued'][:i+1]\n",
    "    unqueued_demand_today = unserved_demand_today * (1 - supply_demand_combined['demand_queued'][:i+1])\n",
    "    caregivers_choice = np.apply_along_axis(identity_choice, 0, p_matrix[:,:i+1,i])\n",
    "\n",
    "    actual_phc = unqueued_demand_today * caregivers_choice[1]\n",
    "    actual_session_site = unqueued_demand_today * caregivers_choice[2] + queued_demand_today\n",
    "    \n",
    "    supply_demand_hc_level['actual_demand']['phc'] = actual_phc\n",
    "    supply_demand_hc_level['actual_demand']['ss'] = actual_session_site    \n",
    "    return supply_demand_hc_level"
   ]
  },
  {
   "cell_type": "code",
   "execution_count": 11,
   "metadata": {},
   "outputs": [],
   "source": [
    "def starting_capacity_today_func(today, phc_attributes, supply_demand_combined, supply_demand_hc_level):\n",
    "        \n",
    "    if ((today%phc_attributes['phc_replenishment_frequency']==0) & (random.random() > phc_attributes['phc_replenishment_disruption'])) or (today == 0): \n",
    "        supply_demand_combined['starting_capacity'][today] = phc_attributes['max_stock_S']\n",
    "    else:\n",
    "        supply_demand_combined['starting_capacity'][today] = max(supply_demand_combined['starting_capacity'][today-1] - supply_demand_hc_level['demand_served']['phc'][today-1] - supply_demand_hc_level['demand_served']['ss'][today-1], 0)\n",
    "    \n",
    "    return supply_demand_combined"
   ]
  },
  {
   "cell_type": "code",
   "execution_count": 12,
   "metadata": {},
   "outputs": [],
   "source": [
    "def supply_demand(today, session_frequency, sdc, sdhl, type_hc):\n",
    "    \n",
    "    if type_hc == 'phc':\n",
    "        starting_capacity_today = max(sdc['starting_capacity'][today] - np.sum(sdhl['demand_served']['ss'][today]),0)\n",
    "    else:\n",
    "        starting_capacity_today = sdc['starting_capacity'][today]                                                                   \n",
    "\n",
    "    if ((today+7)%session_frequency==0) or (type_hc == 'phc'):\n",
    "        # Session day at session site\n",
    "        if np.sum(sdhl['actual_demand'][type_hc]) <= starting_capacity_today:\n",
    "            served_indices = np.nonzero(sdhl['actual_demand'][type_hc])[0]\n",
    "            sdhl['demand_fulfilled_dates'][type_hc][served_indices] = today\n",
    "            sdhl['demand_served'][type_hc][today] = np.sum(sdhl['actual_demand'][type_hc])\n",
    "            sdc['demand_unserved'][served_indices] = 0\n",
    "            sdc['demand_queued'][served_indices] = 0            \n",
    "        else:\n",
    "            queued_indices = np.nonzero(sdhl['actual_demand'][type_hc])[0]\n",
    "            luckyones = random.sample(list(queued_indices), starting_capacity_today)\n",
    "            unluckyones = queued_indices[~np.isin(queued_indices,luckyones)]\n",
    "            sdhl['demand_fulfilled_dates'][type_hc][luckyones] = today   \n",
    "            sdhl['demand_served'][type_hc][today] = sdc['starting_capacity'][today]     \n",
    "            sdc['demand_unserved'][luckyones] = 0\n",
    "            sdc['demand_queued'][luckyones] = 0\n",
    "            sdc['demand_queued'][unluckyones] = 0\n",
    "            sdhl['bad_experience'][type_hc][unluckyones] = 1\n",
    "    else:\n",
    "        # Not a session day at session site\n",
    "        unserved_indices = np.nonzero(sdhl['actual_demand']['ss'])[0]\n",
    "        sdc['demand_unserved'][unserved_indices] = 1\n",
    "        sdc['demand_queued'][unserved_indices] = 1\n",
    "        \n",
    "    return sdc, sdhl\n"
   ]
  },
  {
   "cell_type": "code",
   "execution_count": 13,
   "metadata": {},
   "outputs": [],
   "source": [
    "supply_demand_combined = {'demand_unserved': np.ones(time_window, dtype=np.int),\n",
    "                          'demand_queued': np.zeros(time_window, dtype=np.int),\n",
    "                          'starting_capacity': np.zeros(time_window, dtype=np.int)\n",
    "                         }\n",
    "\n",
    "supply_demand_hc_level = {'actual_demand': {'phc':np.array([]), 'ss':np.array([])},\n",
    "                          'demand_served': {'phc':np.zeros(time_window, dtype=np.int), 'ss':np.zeros(time_window, dtype=np.int)},\n",
    "                          'bad_experience': {'phc':np.zeros(time_window, dtype=np.int), 'ss':np.zeros(time_window, dtype=np.int)},\n",
    "                          'demand_fulfilled_dates': {'phc':np.zeros(time_window, dtype=np.int), 'ss':np.zeros(time_window, dtype=np.int)}\n",
    "                         }"
   ]
  },
  {
   "cell_type": "code",
   "execution_count": 14,
   "metadata": {
    "scrolled": true
   },
   "outputs": [],
   "source": [
    "for i in range(730):\n",
    "\n",
    "    attribute_matrix = np.array(([uno, uno, X_distance_phc, X_distance_ss, X_days_to_next_session_ss, S_sociodemographic, supply_demand_hc_level['bad_experience']['phc'], supply_demand_hc_level['bad_experience']['ss'], S_log_days_since_due_date[:,i]])).T\n",
    "    \n",
    "    p_matrix = create_p_matrix(i, attribute_matrix, beta_matrix, sigma_matrix, p_matrix)\n",
    "    \n",
    "    supply_demand_hc_level = demand_estimation(i, p_matrix, supply_demand_combined, supply_demand_hc_level)\n",
    "    \n",
    "    supply_demand_combined = starting_capacity_today_func(i, phc_attributes, supply_demand_combined, supply_demand_hc_level)\n",
    "    \n",
    "    supply_demand_combined, supply_demand_hc_level = supply_demand(i, session_frequency, supply_demand_combined, supply_demand_hc_level, type_hc = 'ss')\n",
    "        \n",
    "    supply_demand_combined, supply_demand_hc_level = supply_demand(i, session_frequency, supply_demand_combined, supply_demand_hc_level, type_hc= 'phc')\n"
   ]
  },
  {
   "cell_type": "markdown",
   "metadata": {},
   "source": [
    "### Results"
   ]
  },
  {
   "cell_type": "markdown",
   "metadata": {},
   "source": [
    "Starting capacity"
   ]
  },
  {
   "cell_type": "code",
   "execution_count": 15,
   "metadata": {},
   "outputs": [
    {
     "data": {
      "image/png": "[encoded data removed]",
      "text/plain": [
       "<Figure size 864x288 with 1 Axes>"
      ]
     },
     "metadata": {},
     "output_type": "display_data"
    }
   ],
   "source": [
    "plt.style.use(\"dark_background\")\n",
    "plt.figure(figsize=(12, 4))\n",
    "plt.plot([i for i in range(time_window)],supply_demand_combined['starting_capacity'])\n",
    "plt.ylabel('Starting Capacity')\n",
    "plt.xlabel('Day')\n",
    "plt.show()"
   ]
  },
  {
   "cell_type": "code",
   "execution_count": 16,
   "metadata": {},
   "outputs": [],
   "source": [
    "visit_phc = np.zeros(time_window, dtype=np.int)\n",
    "visit_ss = np.zeros(time_window, dtype=np.int)\n",
    "visit_phc_or_ss = np.zeros(time_window, dtype=np.int)\n",
    "\n",
    "for i in range(time_window):\n",
    "    visit_phc[i] = -1 if len(np.where(np.argmax(p_matrix[:,i,i:], axis = 0)==1)[0])==0 else int(np.where(np.argmax(p_matrix[:,i,i:], axis = 0)==1)[0][0])\n",
    "    visit_ss[i] = -1 if len(np.where(np.argmax(p_matrix[:,i,i:], axis = 0)==2)[0])==0 else int(np.where(np.argmax(p_matrix[:,i,i:], axis = 0)==2)[0][0])\n",
    "    visit_phc_or_ss[i] = -1 if len(np.where(np.argmax(p_matrix[:,i,i:], axis = 0)!=0)[0])==0 else int(np.where(np.argmax(p_matrix[:,i,i:], axis = 0)!=0)[0][0])\n",
    "    \n",
    "    if (visit_phc[i]!=-1) & (visit_ss[i]!=-1):\n",
    "        if visit_phc[i]>visit_ss[i]:\n",
    "            visit_phc[i] = -1\n",
    "        elif visit_phc[i]<visit_ss[i]:\n",
    "            visit_ss[i] = -1    "
   ]
  },
  {
   "cell_type": "code",
   "execution_count": 17,
   "metadata": {},
   "outputs": [
    {
     "name": "stdout",
     "output_type": "stream",
     "text": [
      "Number of PHC choice : 340\n",
      "Number of SS choice : 319\n",
      "\n",
      "Fraction of PHC choice : 0.4657534246575342\n",
      "Fraction of SS choice : 0.436986301369863\n",
      "Fraction not vaccinating : 0.09726027397260273\n"
     ]
    }
   ],
   "source": [
    "print(f'Number of PHC choice : {np.sum((visit_phc!=-1)*1)}')\n",
    "print(f'Number of SS choice : {np.sum((visit_ss!=-1)*1)}')\n",
    "print(f'\\nFraction of PHC choice : {np.sum((visit_phc!=-1)*1)/time_window}')\n",
    "print(f'Fraction of SS choice : {np.sum((visit_ss!=-1)*1)/time_window}')\n",
    "print(f'Fraction not vaccinating : {1 - np.sum((visit_phc_or_ss!=-1)*1)/time_window}')"
   ]
  },
  {
   "cell_type": "code",
   "execution_count": 18,
   "metadata": {},
   "outputs": [
    {
     "name": "stdout",
     "output_type": "stream",
     "text": [
      "Number served at PHC : 336\n",
      "Number served at SS : 330\n"
     ]
    }
   ],
   "source": [
    "print(f\"Number served at PHC : {np.sum(supply_demand_hc_level['demand_served']['phc'])}\")\n",
    "print(f\"Number served at SS : {np.sum(supply_demand_hc_level['demand_served']['ss'])}\")"
   ]
  },
  {
   "cell_type": "code",
   "execution_count": 19,
   "metadata": {},
   "outputs": [
    {
     "name": "stdout",
     "output_type": "stream",
     "text": [
      "Choice SS but not served: [549, 519, 520, 623, 720, 307, 117, 24, 122]\n",
      "Choice not SS but served at SS: [481, 514, 387, 516, 165, 392, 393, 394, 395, 491, 141, 176, 278, 507, 184, 538, 475, 476, 382, 479]\n"
     ]
    }
   ],
   "source": [
    "choice_ss = list((visit_ss!=-1).nonzero()[0])\n",
    "served_ss = list(np.nonzero(supply_demand_hc_level['demand_fulfilled_dates']['ss'])[0])\n",
    "print(f'Choice SS but not served at SS: {list(set(choice_ss) - set(served_ss))}')\n",
    "print(f'Choice not SS but served at SS: {list(set(served_ss) - set(choice_ss))}')"
   ]
  },
  {
   "cell_type": "code",
   "execution_count": 24,
   "metadata": {},
   "outputs": [],
   "source": [
    "choice_delay = [i if i>=0 else j for i, j in zip(visit_ss,visit_phc)]"
   ]
  },
  {
   "cell_type": "code",
   "execution_count": 25,
   "metadata": {},
   "outputs": [
    {
     "data": {
      "text/plain": [
       "397"
      ]
     },
     "execution_count": 25,
     "metadata": {},
     "output_type": "execute_result"
    }
   ],
   "source": [
    "choice_delay[choice_delay==-1]"
   ]
  },
  {
   "cell_type": "code",
   "execution_count": null,
   "metadata": {},
   "outputs": [],
   "source": [
    "supply_demand_hc_level['bad_experience']['phc'][59]"
   ]
  },
  {
   "cell_type": "code",
   "execution_count": null,
   "metadata": {},
   "outputs": [],
   "source": [
    "df = pd.DataFrame( {'NO': p_matrix[0,59,:], 'PHC': p_matrix[1,59,:], 'SS': p_matrix[2,59,:]})\n",
    "df.to_csv(path_data / 'p_matrix_59.csv')"
   ]
  },
  {
   "cell_type": "code",
   "execution_count": null,
   "metadata": {},
   "outputs": [],
   "source": [
    "supply_demand_hc_level['demand_fulfilled_dates']['ss'][59]"
   ]
  },
  {
   "cell_type": "code",
   "execution_count": null,
   "metadata": {},
   "outputs": [],
   "source": [
    "print(choice_ss)\n",
    "print(served_ss)"
   ]
  },
  {
   "cell_type": "code",
   "execution_count": null,
   "metadata": {},
   "outputs": [],
   "source": [
    "demand_real_session_site"
   ]
  },
  {
   "cell_type": "code",
   "execution_count": null,
   "metadata": {},
   "outputs": [],
   "source": [
    "np.argmax(p_matrix[:,360,360:], axis = 0)"
   ]
  },
  {
   "cell_type": "code",
   "execution_count": null,
   "metadata": {},
   "outputs": [],
   "source": [
    "p_matrix[:,360,360:]"
   ]
  },
  {
   "cell_type": "code",
   "execution_count": null,
   "metadata": {},
   "outputs": [],
   "source": [
    "visit_phc_or_ss"
   ]
  },
  {
   "cell_type": "code",
   "execution_count": null,
   "metadata": {},
   "outputs": [],
   "source": [
    "[beta_1,0,beta_3,0,beta_5,0,beta_7,0,beta_9,beta_10]"
   ]
  },
  {
   "cell_type": "code",
   "execution_count": null,
   "metadata": {},
   "outputs": [],
   "source": [
    "[beta_1,0,beta_3,0,beta_5,0,beta_7,0,beta_9,beta_10]"
   ]
  },
  {
   "cell_type": "code",
   "execution_count": null,
   "metadata": {},
   "outputs": [],
   "source": [
    "attribute_matrix[1,:]"
   ]
  },
  {
   "cell_type": "code",
   "execution_count": null,
   "metadata": {},
   "outputs": [],
   "source": [
    "v_matrix"
   ]
  },
  {
   "cell_type": "code",
   "execution_count": null,
   "metadata": {},
   "outputs": [],
   "source": [
    "sigma_matrix[:,364,:]"
   ]
  },
  {
   "cell_type": "code",
   "execution_count": null,
   "metadata": {},
   "outputs": [],
   "source": [
    "u_matrix"
   ]
  },
  {
   "cell_type": "code",
   "execution_count": null,
   "metadata": {},
   "outputs": [],
   "source": [
    "p_matrix[:,364,:]"
   ]
  },
  {
   "cell_type": "code",
   "execution_count": null,
   "metadata": {},
   "outputs": [],
   "source": [
    "print(f\"v_phc: {np.dot([beta_1,0,beta_3,0,beta_5,0,beta_7,0,beta_9,beta_10], attribute_matrix[3,:,0])}\")\n",
    "print(f\"v_ss: {np.dot([0,beta_2,0,beta_4,0,beta_6,0,beta_8, beta_9, beta_10], attribute_matrix[3,:,0])}\")"
   ]
  },
  {
   "cell_type": "code",
   "execution_count": null,
   "metadata": {},
   "outputs": [],
   "source": [
    "v_matrix[:,1,:5]"
   ]
  },
  {
   "cell_type": "code",
   "execution_count": null,
   "metadata": {},
   "outputs": [],
   "source": [
    "sigma_matrix[:,1,:5]"
   ]
  },
  {
   "cell_type": "code",
   "execution_count": null,
   "metadata": {},
   "outputs": [],
   "source": [
    "u_matrix[:,1,:5]"
   ]
  },
  {
   "cell_type": "code",
   "execution_count": null,
   "metadata": {},
   "outputs": [],
   "source": [
    "p_matrix[:,:,364]"
   ]
  },
  {
   "cell_type": "code",
   "execution_count": null,
   "metadata": {},
   "outputs": [],
   "source": [
    "np.apply_along_axis(multinomial_logit, 0, u_matrix)"
   ]
  },
  {
   "cell_type": "code",
   "execution_count": null,
   "metadata": {},
   "outputs": [],
   "source": [
    "idx"
   ]
  },
  {
   "cell_type": "code",
   "execution_count": null,
   "metadata": {},
   "outputs": [],
   "source": [
    "for i in range(time_window):\n",
    "    attribute_matrix[:,:,i] = np.array(([uno, uno, X_distance_phc, X_distance_ss, X_days_to_next_session_phc, X_days_to_next_session_ss, sero, sero, S_sociodemographic, S_days_since_due_date[i,:]])).T\n",
    "    v_matrix[:,:,i] = np.matmul(attribute_matrix[:,:,i], beta_matrix).T\n",
    "    u_matrix[:,:,i] = v_matrix[:,:,i] + sigma_matrix[:,:,i]\n",
    "    p_matrix[:,:,i] = np.apply_along_axis(multinomial_logit, 0, u_matrix)\n",
    "    print(i)"
   ]
  }
 ],
 "metadata": {
  "kernelspec": {
   "display_name": "Python 3",
   "language": "python",
   "name": "python3"
  },
  "language_info": {
   "codemirror_mode": {
    "name": "ipython",
    "version": 3
   },
   "file_extension": ".py",
   "mimetype": "text/x-python",
   "name": "python",
   "nbconvert_exporter": "python",
   "pygments_lexer": "ipython3",
   "version": "3.6.11"
  }
 },
 "nbformat": 4,
 "nbformat_minor": 2
}
