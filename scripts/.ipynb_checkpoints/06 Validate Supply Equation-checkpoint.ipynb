{
 "cells": [
  {
   "cell_type": "code",
   "execution_count": 101,
   "metadata": {},
   "outputs": [],
   "source": [
    "import numpy as np\n",
    "\n",
    "import pandas as pd\n",
    "\n",
    "import math\n",
    "\n",
    "from pathlib import Path\n",
    "\n",
    "import random\n",
    "\n",
    "import matplotlib.pyplot as plt \n",
    "\n",
    "from matplotlib.ticker import PercentFormatter\n",
    "\n",
    "path_data = Path.cwd().parent / 'data'\n",
    "\n",
    "from collections import OrderedDict"
   ]
  },
  {
   "cell_type": "code",
   "execution_count": 102,
   "metadata": {},
   "outputs": [],
   "source": [
    "n_session_sites = 1\n",
    "vaccine_volume = 5 #mL\n",
    "session_frequency = 28 #days\n",
    "min_stock_s = 30 #days of stock\n",
    "max_stock_S = 90 #days of stock\n",
    "lead_time = 15 #days\n",
    "phc_replenishment_frequency = 28 #days\n",
    "\n",
    "session_disruption = 0.0 #percent disrupted (0-1)\n",
    "phc_replenishment_disruption = 0.0 #percent disrupted (0-1)\n",
    "\n",
    "unserved_dropout = True\n",
    "\n",
    "inventory_policy = \"Reorder point\" # Fixed period ordering/Reorder point"
   ]
  },
  {
   "cell_type": "code",
   "execution_count": 103,
   "metadata": {},
   "outputs": [],
   "source": [
    "actual_session_site = np.zeros(365)\n",
    "actual_session_site[0] = -1\n",
    "actual_phc = np.zeros(365)\n",
    "\n",
    "demand_real_session_site = np.zeros(365)\n",
    "demand_served_session_site = np.zeros(365)\n",
    "demand_unserved_session_site = np.zeros(365)\n",
    "\n",
    "demand_real_phc = np.ones(365)\n",
    "demand_served_phc = np.zeros(365)\n",
    "demand_unserved_phc = np.zeros(365)\n",
    "\n",
    "demand_real_phc[0] = 0\n",
    "starting_capacity = np.zeros(365)\n",
    "starting_capacity[0] = max_stock_S\n",
    "starting_capacity[1] = max_stock_S\n",
    "\n",
    "df = pd.DataFrame({'Starting Capacity':[], 'Vaccination Session Site':[], 'Delay Session Site':[], 'Vaccination PHC':[], 'Delay PHC':[], 'Demand Real Session Site':[],\n",
    "                   'Demand Served Session Site':[], 'Demand Unserved Session Site':[], 'Demand Real PHC': [],\n",
    "                   'Demand Served PHC': [], 'Demand Unserved PHC': []})"
   ]
  },
  {
   "cell_type": "code",
   "execution_count": 104,
   "metadata": {},
   "outputs": [
    {
     "name": "stdout",
     "output_type": "stream",
     "text": [
      "Today is session day 21\n",
      "Today is session day 49\n",
      "Today is session day 77\n",
      "Today is session day 105\n",
      "Today is session day 133\n",
      "Today is session day 161\n",
      "Today is session day 189\n",
      "Today is session day 217\n",
      "Today is session day 245\n",
      "Today is session day 273\n",
      "Today is session day 301\n",
      "Today is session day 329\n",
      "Today is session day 357\n"
     ]
    }
   ],
   "source": [
    "prevsession_session_site = 0\n",
    "prevsession_phc = 1\n",
    "unfulfilled_pool_phc = 0\n",
    "waiting_for_replenishment = False\n",
    "t_0 = 1000\n",
    "\n",
    "for today in range(1,364):\n",
    "    \n",
    "    if (today+7)%session_frequency==0:\n",
    "        print(f\"Today is session day {today}\")\n",
    "        for birthday, vacday in enumerate(actual_session_site):\n",
    "            last_served_birth = np.max(np.where(actual_session_site == prevsession_session_site))\n",
    "            if unserved_dropout:\n",
    "                if (birthday<=today) & (actual_session_site[birthday]==0) & (birthday-last_served_birth<starting_capacity[today-1]):\n",
    "                    actual_session_site[birthday] = today\n",
    "                elif (birthday<=today) & (actual_session_site[birthday]==0) & (birthday-last_served_birth>=starting_capacity[today-1]):\n",
    "                    actual_session_site[birthday] = -1\n",
    "            else:\n",
    "                if (birthday<=today) & (actual_session_site[birthday]==0) & (birthday-last_served_birth<starting_capacity[today-1]):\n",
    "                    actual_session_site[birthday] = today\n",
    "        demand_real_session_site[today] = today - prevsession_session_site\n",
    "        demand_served_session_site[today] =  np.sum(actual_session_site==today)\n",
    "        demand_unserved_session_site[today] = demand_real_session_site[today] - demand_served_session_site[today]\n",
    "        prevsession_session_site = today\n",
    "    else:\n",
    "        demand_real_session_site[today] = 0\n",
    "        demand_served_session_site[today] =  0\n",
    "        demand_unserved_session_site[today] = 0\n",
    "\n",
    "#     demand_real_phc[today] = 1\n",
    "    if inventory_policy == \"Fixed period ordering\":\n",
    "        if today%phc_replenishment_frequency==0:\n",
    "            starting_capacity[today] = max_stock_S - demand_real_phc[today-1] - unfulfilled_pool_phc - demand_served_session_site[today-1]\n",
    "            print(f\"today is replensihment day: {today}\")\n",
    "            print(f\"starting capacity today is {starting_capacity[today]}\")\n",
    "\n",
    "        else:\n",
    "            starting_capacity[today] = starting_capacity[today-1] - demand_real_phc[today-1] - unfulfilled_pool_phc - demand_served_session_site[today-1]\n",
    "            print(f\"today is: {today}\")\n",
    "            print(f\"starting capacity today is {starting_capacity[today]}\")\n",
    "    \n",
    "    else:\n",
    "        if (starting_capacity[today-1] < min_stock_s) & ~(waiting_for_replenishment):\n",
    "            waiting_for_replenishment = True\n",
    "            t_0 = today\n",
    "            \n",
    "        if today - t_0 == lead_time:\n",
    "            starting_capacity[today] = max_stock_S - demand_real_phc[today-1] - unfulfilled_pool_phc - demand_served_session_site[today-1]\n",
    "            waiting_for_replenishment = False\n",
    "        else:\n",
    "            starting_capacity[today] = starting_capacity[today-1] - demand_real_phc[today-1] - unfulfilled_pool_phc - demand_served_session_site[today-1]\n",
    "    \n",
    "    \n",
    "    if unserved_dropout:\n",
    "        if starting_capacity[today]<0:\n",
    "            demand_served_phc[today-1] = 0\n",
    "            demand_unserved_phc[today-1] = 1\n",
    "            starting_capacity[today] = 0\n",
    "            actual_phc[today] = -1\n",
    "        else:\n",
    "            demand_served_phc[today-1] = 1\n",
    "            demand_unserved_phc[today-1] = 0\n",
    "            actual_phc[today] = today\n",
    "    else:\n",
    "        if starting_capacity[today]<0:\n",
    "            demand_served_phc[today-1] = 0\n",
    "            demand_unserved_phc[today-1] = 1\n",
    "            unfulfilled_pool_phc += 1\n",
    "            starting_capacity[today] = 0\n",
    "        else:\n",
    "            demand_served_phc[today-1] = 1 + unfulfilled_pool_phc\n",
    "            demand_unserved_phc[today-1] = 0\n",
    "            unfulfilled_pool_phc = 0\n",
    "            for birthday, vacday in enumerate(actual_phc):\n",
    "                if (birthday<=today) & (actual_phc[birthday]==0):\n",
    "                    actual_phc[birthday] = today\n",
    "\n",
    "    "
   ]
  },
  {
   "cell_type": "code",
   "execution_count": 105,
   "metadata": {},
   "outputs": [],
   "source": [
    "df['Starting Capacity'] = starting_capacity\n",
    "df['Vaccination Session Site'] = actual_session_site\n",
    "df['Vaccination PHC'] = actual_phc\n",
    "df['Demand Real Session Site'] = demand_real_session_site\n",
    "df['Demand Served Session Site'] = demand_served_session_site\n",
    "df['Demand Unserved Session Site'] = demand_unserved_session_site\n",
    "df['Demand Real PHC'] = demand_real_phc\n",
    "df['Demand Served PHC'] = demand_served_phc\n",
    "df['Demand Unserved PHC'] = demand_unserved_phc\n",
    "\n",
    "df = df.reset_index()\n",
    "df['Should be session day'] = df['index'].apply(lambda x: math.ceil((x+7)/28)*28-7)\n",
    "df['Delay Session Site'] = df['Vaccination Session Site'] - df['Should be session day']\n",
    "df['Delay Session Site'] = df['Delay Session Site'].clip(-1)\n",
    "\n",
    "df['Delay PHC'] = df['Vaccination PHC'] - df['index']\n",
    "df['Delay PHC'] = df['Delay PHC'].clip(-1)\n",
    "\n",
    "unserved_dropout_label = \"Demand Lost\" if unserved_dropout else \"Demand Backlogged\"\n",
    "\n",
    "df.to_csv(path_data / f'11 Supply Model - {inventory_policy} - {unserved_dropout_label}.csv', index = False)"
   ]
  },
  {
   "cell_type": "code",
   "execution_count": 106,
   "metadata": {},
   "outputs": [],
   "source": [
    "df = df[(df['index']>0)&(df['index']<358)]\n",
    "\n",
    "data_session_site_delay = df.loc[df['Delay Session Site']>=0,'Delay Session Site']\n",
    "data_phc_delay = df.loc[df['Delay PHC']>=0,'Delay PHC']\n",
    "\n",
    "figtxt=f\"Session Frequency = {session_frequency} #days\\n \\\n",
    "Session Disruption = {session_disruption} #percent disrupted (0-1) \\n \\\n",
    "Min stock (s) = {min_stock_s} #days of stock \\n \\\n",
    "Max stock (S) = {max_stock_S} #days of stock \\n \\\n",
    "Lead time = {lead_time} #days \\n \\\n",
    "Replenishment Frequency at PHC = {phc_replenishment_frequency} #days \\n \\\n",
    "Replenishment Disruption at PHC = {phc_replenishment_disruption} #percent disrupted (0-1)\"\n",
    "\n",
    "\n",
    "plt.clf()\n",
    "fig, ax = plt.subplot_mosaic(\n",
    "    [[\"top row\", \"top row\"],\n",
    "     [\"bottom left\", \"bottom right\"]], figsize=(12,8)\n",
    ")\n",
    "# fig, ax = plt.subplots(nrows = 2, ncols = 2,figsize=(12,8))\n",
    "plt.subplots_adjust(wspace=0.5, hspace=0.4)\n",
    "\n",
    "ax[\"top row\"].plot(df['index'], df['Starting Capacity'])\n",
    "ax[\"top row\"].set_xlabel('Day')\n",
    "ax[\"top row\"].set_ylabel('Remaining Capacity')\n",
    "ax[\"top row\"].set_title(f'Remaining capacity at PHC - {inventory_policy} - {unserved_dropout_label}')\n",
    "\n",
    "ax[\"bottom right\"].hist(data_session_site_delay, weights=np.ones(len(data_session_site_delay)) / len(data_session_site_delay), bins =20)\n",
    "ax[\"bottom right\"].set_xlabel('Delay in days')\n",
    "ax[\"bottom right\"].set_ylabel(f'Percentage of observations')\n",
    "ax[\"bottom right\"].set_title(f'Session site delay - {inventory_policy} - {unserved_dropout_label}')\n",
    "ax[\"bottom right\"].set_xlim([0,None])\n",
    "ax[\"bottom right\"].yaxis.set_major_formatter(PercentFormatter(1))\n",
    "\n",
    "ax[\"bottom left\"].hist(data_phc_delay, weights=np.ones(len(data_phc_delay)) / len(data_phc_delay), bins =20)\n",
    "ax[\"bottom left\"].set_xlabel('Delay in days')\n",
    "ax[\"bottom left\"].set_ylabel(f'Percentage of observations')\n",
    "ax[\"bottom left\"].set_title(f'PHC delay - {inventory_policy} - {unserved_dropout_label}')\n",
    "ax[\"bottom left\"].set_xlim([0, None])\n",
    "ax[\"bottom left\"].yaxis.set_major_formatter(PercentFormatter(1))\n",
    "\n",
    "plt.figtext(0.5, -0.1 , figtxt, wrap=True, horizontalalignment='center', fontsize=12)\n",
    "plt.savefig(path_data / 'Supply Model Plots' / f'{inventory_policy} - {unserved_dropout_label}.jpg', bbox_inches='tight')\n",
    "# plt.show()"
   ]
  },
  {
   "cell_type": "markdown",
   "metadata": {},
   "source": [
    "### Old logic"
   ]
  },
  {
   "cell_type": "code",
   "execution_count": 53,
   "metadata": {},
   "outputs": [],
   "source": [
    "annual_births_session_site = random.sample(range(100, 500), n_session_sites)\n",
    "annual_births_phc = random.sample(range(100, 500), 1)"
   ]
  },
  {
   "cell_type": "code",
   "execution_count": 59,
   "metadata": {},
   "outputs": [
    {
     "data": {
      "text/plain": [
       "array([2, 1, 0, 2, 0, 0, 1, 0, 0, 3, 0, 1, 0, 0, 0, 0, 0, 1, 0, 0, 2, 1,\n",
       "       0, 0, 0, 0, 0, 0, 0, 0, 0, 0, 2, 0, 0, 1, 0, 0, 0, 0, 1, 1, 1, 0,\n",
       "       0, 1, 1, 0, 0, 2, 1, 1, 0, 0, 0, 1, 0, 0, 2, 0, 0, 0, 0, 1, 1, 0,\n",
       "       0, 0, 0, 0, 0, 0, 0, 1, 1, 0, 1, 0, 0, 0, 1, 0, 1, 0, 0, 0, 1, 0,\n",
       "       0, 2, 0, 3, 1, 1, 0, 0, 2, 0, 0, 0, 0, 0, 1, 0, 0, 0, 1, 0, 0, 1,\n",
       "       2, 0, 0, 0, 0, 0, 0, 0, 0, 1, 0, 0, 1, 1, 0, 0, 0, 1, 0, 0, 0, 0,\n",
       "       1, 1, 0, 0, 1, 0, 1, 0, 0, 0, 1, 3, 0, 0, 0, 0, 0, 2, 0, 0, 1, 1,\n",
       "       0, 0, 4, 0, 0, 0, 0, 0, 0, 0, 0, 0, 0, 0, 0, 1, 0, 0, 0, 1, 1, 0,\n",
       "       0, 0, 0, 2, 0, 0, 0, 1, 0, 2, 0, 1, 2, 0, 2, 0, 0, 1, 2, 0, 0, 0,\n",
       "       0, 0, 0, 1, 0, 0, 1, 0, 0, 2, 0, 0, 0, 0, 1, 0, 0, 1, 0, 0, 0, 0,\n",
       "       1, 0, 0, 1, 0, 0, 0, 0, 0, 0, 1, 1, 0, 0, 1, 0, 0, 0, 0, 0, 0, 1,\n",
       "       0, 0, 0, 1, 2, 0, 1, 0, 0, 0, 0, 0, 0, 0, 1, 0, 1, 1, 0, 0, 0, 1,\n",
       "       0, 0, 0, 2, 0, 0, 0, 0, 1, 1, 0, 1, 1, 0, 0, 0, 0, 0, 0, 0, 0, 0,\n",
       "       0, 0, 0, 0, 1, 0, 0, 1, 0, 0, 1, 1, 0, 1, 0, 1, 0, 0, 0, 0, 0, 0,\n",
       "       1, 0, 0, 0, 0, 1, 0, 1, 1, 0, 0, 0, 1, 0, 1, 0, 1, 0, 0, 1, 0, 0,\n",
       "       0, 0, 0, 1, 0, 0, 0, 0, 2, 2, 0, 0, 0, 0, 0, 0, 0, 0, 1, 0, 0, 0,\n",
       "       1, 2, 0, 0, 1, 1, 0, 0, 0, 1, 0, 0, 0])"
      ]
     },
     "execution_count": 59,
     "metadata": {},
     "output_type": "execute_result"
    }
   ],
   "source": [
    "births_array_session_site"
   ]
  },
  {
   "cell_type": "code",
   "execution_count": 58,
   "metadata": {},
   "outputs": [],
   "source": [
    "pois = lambda x: np.random.poisson(x/365, 365)\n",
    "\n",
    "births_array_session_site = np.array(list(map(pois, annual_births_session_site)))[0]\n",
    "births_array_phc = np.array(list(map(pois, annual_births_phc)))[0]"
   ]
  },
  {
   "cell_type": "code",
   "execution_count": 5,
   "metadata": {},
   "outputs": [],
   "source": [
    "demand_session_site = births_array_session_site * vaccine_volume\n",
    "demand_phc = births_array_phc * vaccine_volume\n",
    "demand_total = demand_phc + demand_session_site.sum(axis = 0)\n",
    "\n",
    "annual_vaccine_volume = (births_array_phc.sum() + births_array_session_site.sum())*vaccine_volume"
   ]
  },
  {
   "cell_type": "code",
   "execution_count": 6,
   "metadata": {},
   "outputs": [
    {
     "name": "stdout",
     "output_type": "stream",
     "text": [
      "Demand by session site: [945 915 490 980]\n"
     ]
    }
   ],
   "source": [
    "print(f\"Demand by session site: {demand_session_site.sum(axis = 1)}\")"
   ]
  },
  {
   "cell_type": "code",
   "execution_count": 31,
   "metadata": {},
   "outputs": [],
   "source": [
    "min_stock_s = int(annual_vaccine_volume/12*min_stock_level)\n",
    "max_stock_S = int(annual_vaccine_volume/12*max_stock_level)\n",
    "capacity_coldbox = int(annual_vaccine_volume/12)"
   ]
  },
  {
   "cell_type": "code",
   "execution_count": 8,
   "metadata": {},
   "outputs": [
    {
     "name": "stdout",
     "output_type": "stream",
     "text": [
      "(s,S):(226, 678)\n"
     ]
    }
   ],
   "source": [
    "print(f\"(s,S):{min_stock_s,max_stock_S}\")"
   ]
  },
  {
   "cell_type": "code",
   "execution_count": 9,
   "metadata": {},
   "outputs": [],
   "source": [
    "sessions = np.zeros((n_session_sites, 365))"
   ]
  },
  {
   "cell_type": "code",
   "execution_count": 10,
   "metadata": {},
   "outputs": [
    {
     "data": {
      "text/plain": [
       "14"
      ]
     },
     "execution_count": 10,
     "metadata": {},
     "output_type": "execute_result"
    }
   ],
   "source": [
    "365//28+1"
   ]
  },
  {
   "cell_type": "code",
   "execution_count": 11,
   "metadata": {},
   "outputs": [],
   "source": [
    "for i in range(n_session_sites):\n",
    "    session_date = [i for i in range(i*7,365,session_frequency)]\n",
    "    sessions[i,:].put(session_date, 1)"
   ]
  },
  {
   "cell_type": "markdown",
   "metadata": {},
   "source": [
    "### Reorder point (s,S)"
   ]
  },
  {
   "cell_type": "code",
   "execution_count": null,
   "metadata": {},
   "outputs": [],
   "source": [
    "demand_fulfilled_session_site = "
   ]
  },
  {
   "cell_type": "code",
   "execution_count": 12,
   "metadata": {},
   "outputs": [],
   "source": [
    "def reorder_point(min_stock_s, max_stock_S, lead_time, demand_today, capacity_prevday, day, waiting_for_replenishment, t_0):\n",
    "    unfulfilled_demand_today = 0\n",
    "    if (capacity_prevday < min_stock_s) & ~(waiting_for_replenishment):\n",
    "        waiting_for_replenishment = True\n",
    "        t_0 = day\n",
    "    if day - t_0 == lead_time:\n",
    "        capacity_today = max_stock_S - demand_today\n",
    "        waiting_for_replenishment = False\n",
    "    else:\n",
    "        capacity_today = capacity_prevday - demand_today\n",
    "        if capacity_today<0:\n",
    "            unfulfilled_demand_today = -capacity_today\n",
    "            capacity_today = 0\n",
    "    fulfilled_demand_today = demand_today - unfulfilled_demand_today\n",
    "    return capacity_today, fulfilled_demand_today, unfulfilled_demand_today, waiting_for_replenishment, t_0"
   ]
  },
  {
   "cell_type": "code",
   "execution_count": 44,
   "metadata": {},
   "outputs": [],
   "source": [
    "def fixed_period_ordering(demand_prevday, capacity_prevday, day, t_0):\n",
    "    unfulfilled_demand_prevday = 0\n",
    "    if day - 1 - t_0 == phc_replenishment_frequency:\n",
    "        print(\"Replenishment yesterday\")\n",
    "        print(day)\n",
    "        capacity_today = max_stock_S - demand_prevday\n",
    "        t_0 = day - 1\n",
    "    else:\n",
    "        capacity_today = capacity_prevday - demand_prevday\n",
    "    if capacity_today<0:\n",
    "        unfulfilled_demand_prevday = -capacity_prevday\n",
    "        capacity_today = 0\n",
    "    fulfilled_demand_prevday = demand_prevday - unfulfilled_demand_prevday\n",
    "    return capacity_today, fulfilled_demand_prevday, unfulfilled_demand_prevday, t_0"
   ]
  },
  {
   "cell_type": "code",
   "execution_count": 48,
   "metadata": {},
   "outputs": [
    {
     "name": "stdout",
     "output_type": "stream",
     "text": [
      "Replenishment yesterday\n",
      "29\n",
      "Replenishment yesterday\n",
      "57\n",
      "Replenishment yesterday\n",
      "85\n",
      "Replenishment yesterday\n",
      "113\n",
      "Replenishment yesterday\n",
      "141\n",
      "Replenishment yesterday\n",
      "169\n",
      "Replenishment yesterday\n",
      "197\n",
      "Replenishment yesterday\n",
      "225\n",
      "Replenishment yesterday\n",
      "253\n",
      "Replenishment yesterday\n",
      "281\n",
      "Replenishment yesterday\n",
      "309\n",
      "Replenishment yesterday\n",
      "337\n"
     ]
    }
   ],
   "source": [
    "prev_session_index = np.zeros((n_session_sites,int(np.max(sessions.sum(axis=1)))))\n",
    "demand_session_sites_actual = np.zeros((n_session_sites,365))\n",
    "demand_total_actual = np.zeros(365)\n",
    "remaining_capacity_phc = np.zeros(365)\n",
    "\n",
    "delay_matrix = np.zeros((n_session_sites,365))\n",
    "\n",
    "remaining_capacity = np.zeros(365)\n",
    "\n",
    "remaining_capacity[0] = max_stock_S #Start with full stock\n",
    "\n",
    "waiting_for_replenishment = False\n",
    "\n",
    "demand_unfulfilled = np.zeros(365)\n",
    "\n",
    "demand_fulfilled = np.zeros(365)\n",
    "\n",
    "if inventory_policy == \"Fixed period ordering\":\n",
    "    t_0 = 0 \n",
    "else:\n",
    "    t_0 = 1000\n",
    "\n",
    "for day in range(1,365):\n",
    "    for session_site in range(n_session_sites):\n",
    "        previous_session = int(np.max(prev_session_index[session_site,:]))\n",
    "        if 365-previous_session>session_frequency:\n",
    "            delay_matrix[session_site,previous_session:day] += 1\n",
    "        else:\n",
    "            #Last session\n",
    "            next\n",
    "        if (day+session_site*7)%session_frequency==0:\n",
    "            if random.random()<session_disruption:\n",
    "                # Session disrupted\n",
    "                if unserved_dropout:\n",
    "                    prev_session_index[session_site,np.argmax(prev_session_index[session_site,:])+1] = day\n",
    "                else:\n",
    "                    next\n",
    "            else:\n",
    "                demand_session_sites_actual[session_site, day] = sum(demand_session_site[session_site, previous_session:day])\n",
    "                prev_session_index[session_site,np.argmax(prev_session_index[session_site,:])+1] = day\n",
    "                \n",
    "    demand_total_actual[day] = demand_phc[day] + sum(demand_session_sites_actual[:,day])\n",
    "    \n",
    "    if inventory_policy == \"Fixed period ordering\":\n",
    "        remaining_capacity[day], demand_fulfilled[day], demand_unfulfilled[day], t_0 = fixed_period_ordering(demand_total_actual[day-1], remaining_capacity[day-1], day, t_0)\n",
    "    else:\n",
    "        remaining_capacity[day], demand_unfulfilled[day], waiting_for_replenishment, t_0 = reorder_point(min_stock_s, max_stock_S, lead_time, \n",
    "                                                                     demand_total_actual[day], remaining_capacity[day-1], day,\n",
    "                                                                     waiting_for_replenishment, t_0)\n",
    "    \n",
    "    "
   ]
  },
  {
   "cell_type": "code",
   "execution_count": 49,
   "metadata": {},
   "outputs": [
    {
     "data": {
      "text/plain": [
       "array([678., 678., 678., 673., 663., 658., 648., 643., 623., 623., 623.,\n",
       "       608., 608., 603., 603., 573., 558., 548., 548., 548., 548., 533.,\n",
       "       468., 468., 453., 443., 438., 438., 438., 608., 598., 593., 588.,\n",
       "       573., 573., 573., 523., 523., 518., 513., 508., 508., 503., 458.,\n",
       "       448., 448., 448., 448., 443., 443., 333., 333., 323., 318., 308.,\n",
       "       308., 308., 638., 638., 633., 623., 613., 603., 603., 533., 528.,\n",
       "       518., 513., 513., 498., 493., 458., 458., 453., 428., 423., 423.,\n",
       "       413., 353., 343., 333., 333., 318., 303., 303., 628., 613., 598.,\n",
       "       593., 588., 583., 583., 503., 498., 498., 498., 493., 488., 478.,\n",
       "       423., 423., 413., 403., 393., 393., 393., 293., 288., 283., 273.,\n",
       "       273., 268., 263., 603., 603., 593., 578., 568., 543., 543., 408.,\n",
       "       398., 383., 378., 373., 368., 368., 338., 333., 333., 328., 323.,\n",
       "       318., 318., 253., 253., 248., 243., 238., 233., 223., 593., 583.,\n",
       "       583., 578., 568., 553., 553., 498., 488., 483., 468., 463., 463.,\n",
       "       463., 423., 418., 413., 408., 398., 388., 373., 298., 293., 293.,\n",
       "       293., 283., 283., 283., 573., 573., 563., 563., 558., 558., 558.,\n",
       "       478., 473., 453., 443., 438., 438., 433., 393., 393., 378., 368.,\n",
       "       363., 358., 353., 268., 268., 268., 263., 258., 248., 243., 628.,\n",
       "       618., 613., 608., 593., 588., 583., 543., 533., 533., 528., 508.,\n",
       "       503., 498., 468., 468., 468., 468., 463., 463., 463., 383., 378.,\n",
       "       373., 363., 363., 358., 358., 603., 603., 598., 588., 573., 568.,\n",
       "       563., 453., 443., 443., 433., 428., 428., 413., 368., 358., 348.,\n",
       "       333., 323., 313., 313., 223., 218., 208., 208., 198., 193., 183.,\n",
       "       593., 593., 583., 578., 578., 568., 563., 483., 483., 468., 468.,\n",
       "       468., 468., 463., 423., 423., 423., 423., 423., 413., 408., 353.,\n",
       "       343., 328., 328., 313., 313., 303., 628., 618., 613., 603., 588.,\n",
       "       583., 573., 463., 458., 458., 453., 453., 448., 438., 398., 383.,\n",
       "       378., 378., 373., 373., 373., 278., 273., 273., 268., 268., 263.,\n",
       "       253., 628., 628., 628., 623., 618., 608., 608., 513., 503., 503.,\n",
       "       493., 488., 473., 468., 408., 408., 398., 388., 383., 373., 368.,\n",
       "       293., 288., 283., 273., 268., 263., 263., 563., 563., 553., 548.,\n",
       "       538., 533., 533., 453., 448., 443., 443., 438., 428., 418., 383.,\n",
       "       378., 368., 363., 363., 353., 348., 283., 268., 263., 258., 253.,\n",
       "       253., 248.])"
      ]
     },
     "execution_count": 49,
     "metadata": {},
     "output_type": "execute_result"
    }
   ],
   "source": [
    "remaining_capacity"
   ]
  },
  {
   "cell_type": "code",
   "execution_count": 71,
   "metadata": {},
   "outputs": [
    {
     "name": "stdout",
     "output_type": "stream",
     "text": [
      "[[ 0. 15.]\n",
      " [ 1. 13.]\n",
      " [ 2. 13.]\n",
      " [ 3. 13.]\n",
      " [ 4. 13.]\n",
      " [ 5. 13.]\n",
      " [ 6. 13.]\n",
      " [ 7. 13.]\n",
      " [ 8. 13.]\n",
      " [ 9. 13.]\n",
      " [10. 13.]\n",
      " [11. 13.]\n",
      " [12. 13.]\n",
      " [13. 13.]\n",
      " [14. 13.]\n",
      " [15. 12.]\n",
      " [16. 12.]\n",
      " [17. 12.]\n",
      " [18. 12.]\n",
      " [19. 12.]\n",
      " [20. 12.]\n",
      " [21. 12.]\n",
      " [22. 12.]\n",
      " [23. 12.]\n",
      " [24. 12.]\n",
      " [25. 12.]\n",
      " [26. 12.]\n",
      " [27. 12.]\n",
      " [28. 12.]]\n"
     ]
    }
   ],
   "source": [
    "unique, counts = np.unique(delay_matrix[2,:], return_counts=True)\n",
    "print(np.asarray((unique, counts)).T)"
   ]
  },
  {
   "cell_type": "code",
   "execution_count": 66,
   "metadata": {},
   "outputs": [
    {
     "data": {
      "image/png": "[encoded data removed]",
      "text/plain": [
       "<Figure size 432x288 with 1 Axes>"
      ]
     },
     "metadata": {},
     "output_type": "display_data"
    }
   ],
   "source": [
    "plt.hist(delay_matrix.flatten(), bins = 56)\n",
    "plt.show()"
   ]
  },
  {
   "cell_type": "code",
   "execution_count": 48,
   "metadata": {},
   "outputs": [
    {
     "data": {
      "text/plain": [
       "array([1126., 1116., 1111., 1111., 1106., 1106., 1101., 1061., 1051.,\n",
       "       1046., 1041., 1041., 1041., 1041.,  966.,  966.,  956.,  946.,\n",
       "        946.,  941.,  941.,  831.,  821.,  816.,  811.,  811.,  811.,\n",
       "        801.,  736.,  726.,  726.,  726.,  726.,  726.,  721.,  511.,\n",
       "        506.,  501.,  501.,  496.,  496.,  496.,  386.,  376.,  366.,\n",
       "        361.,  356.,  351.,  346.,  136.,  131.,  116.,  111.,  106.,\n",
       "         96.,   86., 1086., 1076., 1076., 1071., 1061., 1061., 1056.,\n",
       "        861.,  861.,  851.,  846.,  846.,  846.,  836.,  681.,  676.,\n",
       "        666.,  656.,  656.,  646.,  636.,  431.,  431.,  431.,  426.,\n",
       "        421.,  411.,  411.,  331.,  321.,  321.,  306.,  301.,  301.,\n",
       "        291.,   91.,   76.,   66.,   66.,   61.,   51.,   51.,    0.,\n",
       "          0.,    0.,    0.,    0.,    0.,    0.,    0.,    0.,    0.,\n",
       "          0.,    0.,    0.,    0., 1056., 1051., 1041., 1041., 1041.,\n",
       "       1036., 1031.,  841.,  836.,  836.,  836.,  836.,  831.,  831.,\n",
       "        626.,  621.,  621.,  611.,  611.,  606.,  606.,  411.,  396.,\n",
       "        396.,  396.,  396.,  396.,  391.,  371.,  371.,  366.,  366.,\n",
       "        356.,  356.,  356.,  131.,  126.,  121.,  121.,  121.,  111.,\n",
       "        101.,    0.,    0.,    0.,    0.,    0.,    0.,    0.,    0.,\n",
       "          0.,    0.,    0.,    0.,    0.,    0., 1081., 1076., 1071.,\n",
       "       1071., 1071., 1061., 1061.,  866.,  861.,  851.,  841.,  836.,\n",
       "        836.,  836.,  666.,  661.,  656.,  646.,  641.,  641.,  641.,\n",
       "        481.,  476.,  476.,  476.,  471.,  471.,  471.,  416.,  411.,\n",
       "        411.,  411.,  411.,  406.,  401.,  276.,  271.,  271.,  271.,\n",
       "        251.,  246.,  246.,   46.,   41.,   41.,   36.,   36.,   31.,\n",
       "         16.,    0.,    0.,    0.,    0.,    0.,    0.,    0., 1066.,\n",
       "       1066., 1066., 1056., 1056., 1051., 1051.,  911.,  901.,  891.,\n",
       "        886.,  886.,  886.,  876.,  716.,  706.,  701.,  696.,  691.,\n",
       "        681.,  681.,  451.,  451.,  451.,  446.,  441.,  436.,  436.,\n",
       "        381.,  376.,  376.,  376.,  376.,  371.,  371.,  166.,  161.,\n",
       "        151.,  136.,  136.,  121.,  116.,    0.,    0.,    0.,    0.,\n",
       "          0.,    0.,    0.,    0.,    0.,    0.,    0.,    0.,    0.,\n",
       "          0., 1091., 1091., 1091., 1091., 1091., 1091., 1091.,  921.,\n",
       "        921.,  921.,  916.,  916.,  916.,  916.,  736.,  716.,  706.,\n",
       "        701.,  691.,  691.,  686.,  531.,  516.,  506.,  506.,  506.,\n",
       "        496.,  491.,  426.,  411.,  396.,  386.,  371.,  366.,  361.,\n",
       "        181.,  181.,  176.,  176.,  171.,  166.,  156.,   11.,    6.,\n",
       "          0.,    0.,    0.,    0.,    0.,    0.,    0.,    0.,    0.,\n",
       "          0.,    0.,    0., 1091., 1086., 1076., 1076., 1076., 1071.,\n",
       "       1071.,  871.,  871.,  871.,  856.,  856.,  851.,  851.,  701.,\n",
       "        696.,  681.,  681.,  676.,  676.,  676.,  496.,  496.,  496.,\n",
       "        491.,  486.,  486.,  481.,  461.])"
      ]
     },
     "execution_count": 48,
     "metadata": {},
     "output_type": "execute_result"
    }
   ],
   "source": [
    "remaining_capacity"
   ]
  },
  {
   "cell_type": "code",
   "execution_count": null,
   "metadata": {},
   "outputs": [],
   "source": [
    "session_volume = np.zeros((n_session_sites,int(np.max(sessions.sum(axis=1)))))"
   ]
  },
  {
   "cell_type": "code",
   "execution_count": null,
   "metadata": {},
   "outputs": [],
   "source": [
    "for session_site in range(n_session_sites):\n",
    "    session_volume[session_site,:] = [sum(demand_session_site[session_site, np.max((i-session_frequency,0)):i]) for i in range(session_site*7,365,session_frequency)]\n"
   ]
  },
  {
   "cell_type": "code",
   "execution_count": null,
   "metadata": {},
   "outputs": [],
   "source": [
    "[i for i in range(0*7,365,session_frequency)]"
   ]
  }
 ],
 "metadata": {
  "kernelspec": {
   "display_name": "Python 3",
   "language": "python",
   "name": "python3"
  },
  "language_info": {
   "codemirror_mode": {
    "name": "ipython",
    "version": 3
   },
   "file_extension": ".py",
   "mimetype": "text/x-python",
   "name": "python",
   "nbconvert_exporter": "python",
   "pygments_lexer": "ipython3",
   "version": "3.6.11"
  }
 },
 "nbformat": 4,
 "nbformat_minor": 2
}
