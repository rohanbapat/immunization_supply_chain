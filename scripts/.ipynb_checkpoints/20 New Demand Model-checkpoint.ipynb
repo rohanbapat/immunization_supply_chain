{
 "cells": [
  {
   "cell_type": "code",
   "execution_count": 2,
   "metadata": {},
   "outputs": [],
   "source": [
    "import numpy as np\n",
    "from scipy import stats\n",
    "\n",
    "import collections\n",
    "\n",
    "import matplotlib.pyplot as plt\n",
    "\n",
    "plt.style.use('grayscale')"
   ]
  },
  {
   "cell_type": "code",
   "execution_count": 3,
   "metadata": {},
   "outputs": [],
   "source": [
    "len_time_window = 1000\n",
    "\n",
    "# n_sessionsites = 2\n",
    "\n",
    "# annual_births = [72000, 36000]\n",
    "\n",
    "session_frequency = 15\n",
    "session_start = [5, 10]"
   ]
  },
  {
   "cell_type": "code",
   "execution_count": 4,
   "metadata": {},
   "outputs": [],
   "source": [
    "daily_births_array = np.random.poisson(20, size=len_time_window)"
   ]
  },
  {
   "cell_type": "code",
   "execution_count": 5,
   "metadata": {},
   "outputs": [],
   "source": [
    "ctr=0\n",
    "child_bday_dict={}\n",
    "for idx,i in enumerate(daily_births_array):\n",
    "    for j in range(i):\n",
    "        child_bday_dict.update({ctr:idx})\n",
    "        ctr+=1"
   ]
  },
  {
   "cell_type": "code",
   "execution_count": 6,
   "metadata": {},
   "outputs": [],
   "source": [
    "session_days = [i+5 for i in range(1000) if i%14==0]"
   ]
  },
  {
   "cell_type": "code",
   "execution_count": 7,
   "metadata": {},
   "outputs": [],
   "source": [
    "inaction_end_day = [[np.floor(idx+stats.expon.rvs(loc=0, scale=10)) for j in range(i)] for idx, i in enumerate(daily_births_array)]\n",
    "\n",
    "flat_inaction_end_day = [x for xs in inaction_end_day for x in xs]\n",
    "\n",
    "session_days = [i+5 for i in range(1000) if i%14==0]\n",
    "\n",
    "new_child_session_day = [min([sday for sday in session_days if sday>=iday], default=\"EMPTY\") for xs in inaction_end_day for iday in xs]"
   ]
  },
  {
   "cell_type": "code",
   "execution_count": 9,
   "metadata": {},
   "outputs": [],
   "source": [
    "total_delay = [new_child_session_day[idx] - child_bday_dict[idx] for idx,i in enumerate(new_child_session_day) if i != 'EMPTY']\n",
    "exponential_delay = [flat_inaction_end_day[idx] - child_bday_dict[idx] for idx,i in enumerate(flat_inaction_end_day)]"
   ]
  },
  {
   "cell_type": "code",
   "execution_count": 10,
   "metadata": {},
   "outputs": [],
   "source": [
    "cdf_val=[]\n",
    "for j in range(50):\n",
    "    cdf_val.append(len([i for i in total_delay if i<j])/len(total_delay))"
   ]
  },
  {
   "cell_type": "code",
   "execution_count": 13,
   "metadata": {},
   "outputs": [
    {
     "name": "stdout",
     "output_type": "stream",
     "text": [
      "0.0\n",
      "0.006620191584332213\n",
      "0.020061186619188525\n",
      "0.03871809017503385\n",
      "0.061387231054716884\n",
      "0.09293344701339085\n",
      "0.12633532273433973\n",
      "0.1621946938161392\n",
      "0.20241737298761223\n",
      "0.24489693565374393\n",
      "0.28802848688499927\n",
      "0.3387331360649982\n",
      "0.38718090175033854\n",
      "0.43944029289332465\n",
      "0.49365564973168163\n",
      "0.543758463313105\n",
      "0.5888961332062792\n",
      "0.6283163649129846\n",
      "0.6646271126937159\n",
      "0.697577611715733\n",
      "0.7260143437484328\n",
      "0.751642509654446\n",
      "0.7732584382366217\n",
      "0.7933196248558102\n",
      "0.8124780580771352\n",
      "0.828777772205226\n",
      "0.8448768744671248\n",
      "0.8598726114649682\n",
      "0.8728120768343447\n",
      "0.8867044485681328\n",
      "0.8973368774763028\n",
      "0.9067656351873213\n",
      "0.916144239931792\n",
      "0.9238176438136316\n",
      "0.9306384472641557\n",
      "0.9379106274136115\n",
      "0.9435277596669843\n",
      "0.9491950448869051\n",
      "0.95451125934099\n",
      "0.9595265559957872\n",
      "0.9635387933196249\n",
      "0.9659461357139275\n",
      "0.9690054666733537\n",
      "0.9715632679673003\n",
      "0.9741712222277947\n",
      "0.9766287175886453\n",
      "0.9790862129494959\n",
      "0.9809418727117709\n",
      "0.9827975324740459\n",
      "0.9850042630021566\n"
     ]
    }
   ],
   "source": [
    "for i in range(50):\n",
    "    print(cdf_val[i])"
   ]
  },
  {
   "cell_type": "code",
   "execution_count": 12,
   "metadata": {},
   "outputs": [
    {
     "data": {
      "image/png": "[encoded data removed]",
      "text/plain": [
       "<Figure size 432x288 with 1 Axes>"
      ]
     },
     "metadata": {},
     "output_type": "display_data"
    }
   ],
   "source": [
    "plt.plot(np.arange(50), cdf_val, ls = '-')\n",
    "plt.show()"
   ]
  },
  {
   "cell_type": "code",
   "execution_count": 77,
   "metadata": {},
   "outputs": [],
   "source": [
    "session_waiting = [total_delay[i] - exponential_delay[i] for i, val in enumerate(total_delay)]"
   ]
  },
  {
   "cell_type": "code",
   "execution_count": 83,
   "metadata": {},
   "outputs": [
    {
     "data": {
      "text/plain": [
       "19989"
      ]
     },
     "execution_count": 83,
     "metadata": {},
     "output_type": "execute_result"
    }
   ],
   "source": [
    "len(session_waiting)"
   ]
  },
  {
   "cell_type": "code",
   "execution_count": 84,
   "metadata": {},
   "outputs": [
    {
     "data": {
      "text/plain": [
       "(array([1342, 1409, 1325, 1358, 1392, 1328, 1301, 1285, 1349, 1355, 1369,\n",
       "        1307, 1368, 1412], dtype=int64),\n",
       " array([ 0,  1,  2,  3,  4,  5,  6,  7,  8,  9, 10, 11, 12, 13, 14]))"
      ]
     },
     "execution_count": 84,
     "metadata": {},
     "output_type": "execute_result"
    }
   ],
   "source": [
    "np.histogram(session_waiting[100:19000], bins = np.arange(0,15))"
   ]
  },
  {
   "cell_type": "code",
   "execution_count": 85,
   "metadata": {},
   "outputs": [
    {
     "data": {
      "image/png": "[encoded data removed]",
      "text/plain": [
       "<Figure size 432x288 with 1 Axes>"
      ]
     },
     "metadata": {},
     "output_type": "display_data"
    }
   ],
   "source": [
    "plt.hist(session_waiting[100:19000], bins = np.arange(0,15))\n",
    "plt.show()"
   ]
  },
  {
   "cell_type": "code",
   "execution_count": 32,
   "metadata": {},
   "outputs": [
    {
     "name": "stdout",
     "output_type": "stream",
     "text": [
      "[14.03898540402344, 15.182571816283225, 32.19765707893063, 24.15276469139053, 14.785181226986683, 10.05497683741352, 17.66685790944079, 3.616588481993742, 13.384773558866959, 3.556068617351981]\n"
     ]
    }
   ],
   "source": [
    "print(flat_inaction_end_day[:10])"
   ]
  },
  {
   "cell_type": "code",
   "execution_count": 41,
   "metadata": {},
   "outputs": [],
   "source": [
    "unif_delay = [total_delay[i] - flat_inaction_end_day[i] for i, val in enumerate(total_delay)]"
   ]
  },
  {
   "cell_type": "code",
   "execution_count": 42,
   "metadata": {},
   "outputs": [
    {
     "data": {
      "text/plain": [
       "array([[ 1.        , -0.94395063],\n",
       "       [-0.94395063,  1.        ]])"
      ]
     },
     "execution_count": 42,
     "metadata": {},
     "output_type": "execute_result"
    }
   ],
   "source": [
    "np.corrcoef(flat_inaction_end_day[500:4500], unif_delay[500:4500])"
   ]
  },
  {
   "cell_type": "code",
   "execution_count": 10,
   "metadata": {},
   "outputs": [
    {
     "data": {
      "text/plain": [
       "(array([ 33,  61, 106, 121, 155, 157, 158, 179, 237, 239, 243, 242, 284,\n",
       "        237, 253, 204, 193, 187, 152, 153, 138, 121, 116, 104,  88,  77,\n",
       "         72,  67,  66,  50,  53,  42,  41,  33,  31,  22,  25,  19,  21,\n",
       "         20,  17,  12,  15,  14,  12,   7,  10,   9,   6,  11,  11,   6,\n",
       "          5,   2,   5,   6,   1,   7,   3,   4,   3,   0,   1,   1,   3,\n",
       "          0,   4,   2,   0,   1,   2,   0,   0,   0,   0,   1,   0,   0,\n",
       "          1], dtype=int64),\n",
       " array([ 0,  1,  2,  3,  4,  5,  6,  7,  8,  9, 10, 11, 12, 13, 14, 15, 16,\n",
       "        17, 18, 19, 20, 21, 22, 23, 24, 25, 26, 27, 28, 29, 30, 31, 32, 33,\n",
       "        34, 35, 36, 37, 38, 39, 40, 41, 42, 43, 44, 45, 46, 47, 48, 49, 50,\n",
       "        51, 52, 53, 54, 55, 56, 57, 58, 59, 60, 61, 62, 63, 64, 65, 66, 67,\n",
       "        68, 69, 70, 71, 72, 73, 74, 75, 76, 77, 78, 79]))"
      ]
     },
     "execution_count": 10,
     "metadata": {},
     "output_type": "execute_result"
    }
   ],
   "source": [
    "np.histogram(total_delay, bins = np.arange(0,80,1))"
   ]
  },
  {
   "cell_type": "code",
   "execution_count": 11,
   "metadata": {},
   "outputs": [
    {
     "data": {
      "image/png": "[encoded data removed]",
      "text/plain": [
       "<Figure size 432x288 with 1 Axes>"
      ]
     },
     "metadata": {},
     "output_type": "display_data"
    }
   ],
   "source": [
    "plt.hist(total_delay, bins = np.arange(0,80,1))\n",
    "plt.show()"
   ]
  },
  {
   "cell_type": "code",
   "execution_count": 40,
   "metadata": {},
   "outputs": [
    {
     "data": {
      "image/png": "[encoded data removed]",
      "text/plain": [
       "<Figure size 432x288 with 1 Axes>"
      ]
     },
     "metadata": {},
     "output_type": "display_data"
    }
   ],
   "source": [
    "plt.hist(exponential_delay, bins = np.arange(0,80,1))\n",
    "plt.show()"
   ]
  },
  {
   "cell_type": "code",
   "execution_count": 123,
   "metadata": {},
   "outputs": [],
   "source": [
    "exp_plus_unif = np.random.exponential(scale=10, size=5000) + np.random.uniform(low=0, high=14, size=5000)"
   ]
  },
  {
   "cell_type": "code",
   "execution_count": 127,
   "metadata": {},
   "outputs": [
    {
     "data": {
      "text/plain": [
       "(array([ 22,  60,  79,  99, 121, 160, 151, 182, 218, 200, 230, 244, 292,\n",
       "        279, 248, 223, 223, 153, 179, 144, 144, 113, 104,  99, 104,  88,\n",
       "         81,  80,  69,  69,  57,  34,  48,  42,  34,  18,  28,  18,  19,\n",
       "         20,  33,  24,  14,  19,  13,  16,   5,   8,  10,   8,   7,  11,\n",
       "          5,   4,   7,   4,   3,   1,   3,   2,   2,   3,   5,   1,   3,\n",
       "          1,   0,   0,   1,   3,   0,   0,   0,   0,   2,   1,   2,   0,\n",
       "          0,   1,   0,   0,   0,   0,   0,   0,   0,   0,   0,   0,   0,\n",
       "          0,   0,   0,   0,   0,   0,   0,   0,   0,   0,   0,   0,   0,\n",
       "          1,   0,   0,   0,   0], dtype=int64),\n",
       " array([  0,   1,   2,   3,   4,   5,   6,   7,   8,   9,  10,  11,  12,\n",
       "         13,  14,  15,  16,  17,  18,  19,  20,  21,  22,  23,  24,  25,\n",
       "         26,  27,  28,  29,  30,  31,  32,  33,  34,  35,  36,  37,  38,\n",
       "         39,  40,  41,  42,  43,  44,  45,  46,  47,  48,  49,  50,  51,\n",
       "         52,  53,  54,  55,  56,  57,  58,  59,  60,  61,  62,  63,  64,\n",
       "         65,  66,  67,  68,  69,  70,  71,  72,  73,  74,  75,  76,  77,\n",
       "         78,  79,  80,  81,  82,  83,  84,  85,  86,  87,  88,  89,  90,\n",
       "         91,  92,  93,  94,  95,  96,  97,  98,  99, 100, 101, 102, 103,\n",
       "        104, 105, 106, 107, 108, 109]))"
      ]
     },
     "execution_count": 127,
     "metadata": {},
     "output_type": "execute_result"
    }
   ],
   "source": [
    "np.histogram(exp_plus_unif, bins = np.arange(0,110,1))"
   ]
  },
  {
   "cell_type": "code",
   "execution_count": 136,
   "metadata": {},
   "outputs": [
    {
     "data": {
      "image/png": "[encoded data removed]",
      "text/plain": [
       "<Figure size 432x288 with 1 Axes>"
      ]
     },
     "metadata": {},
     "output_type": "display_data"
    }
   ],
   "source": [
    "plt.hist(total_delay, bins = np.arange(0,135,1), alpha = 0.5, color = 'blue')\n",
    "plt.hist(exp_plus_unif, bins = np.arange(0,110,1), alpha = 0.5, color = 'red')\n",
    "plt.show()"
   ]
  },
  {
   "cell_type": "code",
   "execution_count": 16,
   "metadata": {},
   "outputs": [
    {
     "data": {
      "text/plain": [
       "[0, 5, 7, 8, 9, 10, 11, 13, 15, 16, 19, 20, 26, 28, 29]"
      ]
     },
     "execution_count": 16,
     "metadata": {},
     "output_type": "execute_result"
    }
   ],
   "source": [
    "[idx for idx,i in enumerate(new_child_session_day) if i==19]"
   ]
  },
  {
   "cell_type": "code",
   "execution_count": null,
   "metadata": {},
   "outputs": [],
   "source": [
    "ctr = 0\n",
    "inaction_end_day_ctr = []\n",
    "\n",
    "for sublst in inaction_end_day:\n",
    "    inaction_end_day_ctr.append([idx+ctr for idx, i in enumerate(sublst)])\n",
    "    ctr+=len(sublst)        "
   ]
  },
  {
   "cell_type": "code",
   "execution_count": null,
   "metadata": {},
   "outputs": [],
   "source": [
    "[1,2,3,2,5,6].index(2)"
   ]
  },
  {
   "cell_type": "code",
   "execution_count": null,
   "metadata": {},
   "outputs": [],
   "source": [
    "np.where(np.array([1,2,3,2,5,6])==2)"
   ]
  },
  {
   "cell_type": "code",
   "execution_count": null,
   "metadata": {},
   "outputs": [],
   "source": [
    "np.where(caregivers_session_day[:10]==5.0)"
   ]
  },
  {
   "cell_type": "code",
   "execution_count": null,
   "metadata": {},
   "outputs": [],
   "source": [
    "collections.Counter(flat_vac_day)"
   ]
  }
 ],
 "metadata": {
  "kernelspec": {
   "display_name": "Python 3",
   "language": "python",
   "name": "python3"
  },
  "language_info": {
   "codemirror_mode": {
    "name": "ipython",
    "version": 3
   },
   "file_extension": ".py",
   "mimetype": "text/x-python",
   "name": "python",
   "nbconvert_exporter": "python",
   "pygments_lexer": "ipython3",
   "version": "3.6.11"
  }
 },
 "nbformat": 4,
 "nbformat_minor": 2
}
