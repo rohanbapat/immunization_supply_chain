{
 "cells": [
  {
   "cell_type": "code",
   "execution_count": 1,
   "metadata": {},
   "outputs": [],
   "source": [
    "import pandas as pd\n",
    "\n",
    "from datetime import datetime, timedelta\n",
    "\n",
    "import matplotlib.pyplot as plt\n",
    "\n",
    "import numpy as np"
   ]
  },
  {
   "cell_type": "code",
   "execution_count": 2,
   "metadata": {},
   "outputs": [],
   "source": [
    "nfhs_raw_df = pd.read_csv(r\"C:\\Users\\Rohan Bapat\\Documents\\Projects\\Immunization Supply Chain\\NFHS data\\Childrens recode SPSS\\NFHS6_ChildRecode_VaccinationDelay_10Mar24.csv\")\n",
    "\n",
    "sdist_df = pd.read_csv(r\"C:\\Users\\Rohan Bapat\\Documents\\Projects\\Immunization Supply Chain\\NFHS data\\Childrens recode SPSS\\S_DIST.csv\")\n",
    "\n",
    "v024_df = pd.read_csv(r\"C:\\Users\\Rohan Bapat\\Documents\\Projects\\Immunization Supply Chain\\NFHS data\\Childrens recode SPSS\\V024.csv\")\n",
    "\n",
    "vaccine_details_df = pd.read_csv(r\"C:\\Users\\Rohan Bapat\\Documents\\Projects\\Immunization Supply Chain\\immunization_supply_chain\\data\\03 in_vaccine_details.csv\")\n",
    "\n",
    "code_antigen_mapping = {'H2':'BCG', 'H3':'DPT 1', 'H4':'Oral Polio Vaccine 1', 'H5':'DPT 2', 'H6':'Oral Polio Vaccine 2', 'H7':'DPT 3', 'H8':'Oral Polio Vaccine 3', 'H9':'Measles & Rubella 1', 'H0':'Oral Polio Vaccine 0', 'H50':'Hepatitis B 0', 'H51':'Pentavalent 1', 'H52':'Pentavalent 2', 'H53':'Pentavalent 3', 'H54':'PCV 1', 'H55':'PCV 2', 'H56':'PCV 3', 'H57':'Rotavirus Vaccine 1', 'H58':'Rotavirus Vaccine 2', 'H59':'Rotavirus Vaccine 3', 'H61':'Hepatitis B 1'}   "
   ]
  },
  {
   "cell_type": "markdown",
   "metadata": {},
   "source": [
    "Map District Name and State Name"
   ]
  },
  {
   "cell_type": "code",
   "execution_count": 3,
   "metadata": {},
   "outputs": [],
   "source": [
    "nfhs_raw_df = nfhs_raw_df.merge(sdist_df, on = ['SDIST'], how = 'left')\n",
    "nfhs_raw_df = nfhs_raw_df.merge(v024_df, on = ['V024'], how = 'left')"
   ]
  },
  {
   "cell_type": "code",
   "execution_count": 4,
   "metadata": {},
   "outputs": [],
   "source": [
    "vaccine_start_date_dict = vaccine_details_df[['Vaccine', 'Start Week']].set_index('Vaccine').T.to_dict('records')[0]\n",
    "\n",
    "vaccine_start_date_dict.update({'DPT 1': 6, 'DPT 2': 10, 'DPT 3': 14, 'Hepatitis B 0' : 0, 'Hepatitis B 1' : 6, 'PCV 3' : 36})\n",
    "\n",
    "vaccine_start_date_dict = dict((k, v * 7) for k, v in vaccine_start_date_dict.items())"
   ]
  },
  {
   "cell_type": "code",
   "execution_count": 5,
   "metadata": {},
   "outputs": [],
   "source": [
    "clean_df = pd.DataFrame()\n",
    "\n",
    "date_1 = datetime.strptime('1900-01-01 00:00:00', '%Y-%m-%d %H:%M:%S')\n",
    "\n",
    "clean_df['D_birth'] = nfhs_raw_df['B18'].apply(lambda x: date_1 + timedelta(days=x-2))\n",
    "\n",
    "clean_df['D_interview'] = pd.to_datetime(dict(year=nfhs_raw_df['V007'], month=nfhs_raw_df['V006'], day=nfhs_raw_df['V016']))"
   ]
  },
  {
   "cell_type": "code",
   "execution_count": 6,
   "metadata": {},
   "outputs": [],
   "source": [
    "clean_df['State'] = nfhs_raw_df['State'].copy()\n",
    "clean_df['District'] = nfhs_raw_df['District'].copy()"
   ]
  },
  {
   "cell_type": "code",
   "execution_count": 7,
   "metadata": {},
   "outputs": [],
   "source": [
    "for code, antigen in code_antigen_mapping.items():\n",
    "    clean_df['D_'+antigen] = nfhs_raw_df[code+'Y'] + '-' + nfhs_raw_df[code+'M'] + '-' + nfhs_raw_df[code + 'D']\n",
    "    clean_df['D_'+antigen] = pd.to_datetime(clean_df['D_'+antigen], errors='coerce')\n",
    "    clean_df['VacDays_' + antigen] = (clean_df['D_' + antigen] - clean_df['D_birth']).dt.days\n",
    "    clean_df['Delay_' + antigen] = (clean_df['VacDays_' + antigen] - vaccine_start_date_dict[antigen]).clip(lower = 0)\n",
    "    try:\n",
    "        clean_df['DelayAdjusted_' + antigen] = (clean_df['VacDays_' + antigen] - int(clean_df['VacDays_' + antigen].mode())-1).clip(lower = 0)\n",
    "    except TypeError:\n",
    "        next"
   ]
  },
  {
   "cell_type": "code",
   "execution_count": 8,
   "metadata": {},
   "outputs": [
    {
     "data": {
      "text/plain": [
       "Index(['D_birth', 'D_interview', 'State', 'District', 'D_BCG', 'VacDays_BCG',\n",
       "       'Delay_BCG', 'DelayAdjusted_BCG', 'D_DPT 1', 'VacDays_DPT 1',\n",
       "       'Delay_DPT 1', 'DelayAdjusted_DPT 1', 'D_Oral Polio Vaccine 1',\n",
       "       'VacDays_Oral Polio Vaccine 1', 'Delay_Oral Polio Vaccine 1',\n",
       "       'DelayAdjusted_Oral Polio Vaccine 1', 'D_DPT 2', 'VacDays_DPT 2',\n",
       "       'Delay_DPT 2', 'DelayAdjusted_DPT 2', 'D_Oral Polio Vaccine 2',\n",
       "       'VacDays_Oral Polio Vaccine 2', 'Delay_Oral Polio Vaccine 2',\n",
       "       'DelayAdjusted_Oral Polio Vaccine 2', 'D_DPT 3', 'VacDays_DPT 3',\n",
       "       'Delay_DPT 3', 'DelayAdjusted_DPT 3', 'D_Oral Polio Vaccine 3',\n",
       "       'VacDays_Oral Polio Vaccine 3', 'Delay_Oral Polio Vaccine 3',\n",
       "       'DelayAdjusted_Oral Polio Vaccine 3', 'D_Measles & Rubella 1',\n",
       "       'VacDays_Measles & Rubella 1', 'Delay_Measles & Rubella 1',\n",
       "       'DelayAdjusted_Measles & Rubella 1', 'D_Oral Polio Vaccine 0',\n",
       "       'VacDays_Oral Polio Vaccine 0', 'Delay_Oral Polio Vaccine 0',\n",
       "       'DelayAdjusted_Oral Polio Vaccine 0', 'D_Hepatitis B 0',\n",
       "       'VacDays_Hepatitis B 0', 'Delay_Hepatitis B 0',\n",
       "       'DelayAdjusted_Hepatitis B 0', 'D_Pentavalent 1',\n",
       "       'VacDays_Pentavalent 1', 'Delay_Pentavalent 1',\n",
       "       'DelayAdjusted_Pentavalent 1', 'D_Pentavalent 2',\n",
       "       'VacDays_Pentavalent 2', 'Delay_Pentavalent 2',\n",
       "       'DelayAdjusted_Pentavalent 2', 'D_Pentavalent 3',\n",
       "       'VacDays_Pentavalent 3', 'Delay_Pentavalent 3',\n",
       "       'DelayAdjusted_Pentavalent 3', 'D_PCV 1', 'VacDays_PCV 1',\n",
       "       'Delay_PCV 1', 'D_PCV 2', 'VacDays_PCV 2', 'Delay_PCV 2', 'D_PCV 3',\n",
       "       'VacDays_PCV 3', 'Delay_PCV 3', 'D_Rotavirus Vaccine 1',\n",
       "       'VacDays_Rotavirus Vaccine 1', 'Delay_Rotavirus Vaccine 1',\n",
       "       'DelayAdjusted_Rotavirus Vaccine 1', 'D_Rotavirus Vaccine 2',\n",
       "       'VacDays_Rotavirus Vaccine 2', 'Delay_Rotavirus Vaccine 2',\n",
       "       'DelayAdjusted_Rotavirus Vaccine 2', 'D_Rotavirus Vaccine 3',\n",
       "       'VacDays_Rotavirus Vaccine 3', 'Delay_Rotavirus Vaccine 3',\n",
       "       'DelayAdjusted_Rotavirus Vaccine 3', 'D_Hepatitis B 1',\n",
       "       'VacDays_Hepatitis B 1', 'Delay_Hepatitis B 1',\n",
       "       'DelayAdjusted_Hepatitis B 1'],\n",
       "      dtype='object')"
      ]
     },
     "execution_count": 8,
     "metadata": {},
     "output_type": "execute_result"
    }
   ],
   "source": [
    "clean_df.columns"
   ]
  },
  {
   "cell_type": "code",
   "execution_count": 24,
   "metadata": {},
   "outputs": [],
   "source": [
    "# clean_df[['State', 'District'] + [col for col in clean_df.columns if col.startswith('D_')]].to_csv(r'C:\\Users\\Rohan Bapat\\Documents\\Projects\\Immunization Supply Chain\\Resources\\NFHS6_VaccineDates.csv', index = False)"
   ]
  },
  {
   "cell_type": "code",
   "execution_count": 10,
   "metadata": {},
   "outputs": [
    {
     "ename": "TypeError",
     "evalue": "object of type 'int' has no len()",
     "output_type": "error",
     "traceback": [
      "\u001b[1;31m---------------------------------------------------------------------------\u001b[0m",
      "\u001b[1;31mTypeError\u001b[0m                                 Traceback (most recent call last)",
      "\u001b[1;32m<ipython-input-10-bd4d55f43723>\u001b[0m in \u001b[0;36m<module>\u001b[1;34m()\u001b[0m\n\u001b[0;32m     16\u001b[0m             \u001b[0max\u001b[0m\u001b[1;33m[\u001b[0m\u001b[0mi\u001b[0m\u001b[1;33m]\u001b[0m\u001b[1;33m.\u001b[0m\u001b[0mhist\u001b[0m\u001b[1;33m(\u001b[0m\u001b[0mgeom_dist\u001b[0m\u001b[1;33m[\u001b[0m\u001b[0mgeom_dist\u001b[0m\u001b[1;33m<=\u001b[0m\u001b[0mn_days\u001b[0m\u001b[1;33m]\u001b[0m\u001b[1;33m,\u001b[0m \u001b[0mbins\u001b[0m \u001b[1;33m=\u001b[0m \u001b[0mn_days\u001b[0m\u001b[1;33m,\u001b[0m \u001b[0mdensity\u001b[0m\u001b[1;33m=\u001b[0m\u001b[1;32mTrue\u001b[0m\u001b[1;33m,\u001b[0m \u001b[0mcumulative\u001b[0m \u001b[1;33m=\u001b[0m \u001b[1;32mTrue\u001b[0m\u001b[1;33m,\u001b[0m \u001b[0mhisttype\u001b[0m\u001b[1;33m=\u001b[0m\u001b[1;34m'step'\u001b[0m\u001b[1;33m,\u001b[0m \u001b[0mcolor\u001b[0m \u001b[1;33m=\u001b[0m \u001b[1;34m'darkorange'\u001b[0m\u001b[1;33m)\u001b[0m\u001b[1;33m\u001b[0m\u001b[1;33m\u001b[0m\u001b[0m\n\u001b[0;32m     17\u001b[0m     \u001b[1;31m#         ax[i].hist(clean_df.loc[clean_df['DelayAdjusted_' + antigen]<=n_days*2, 'DelayAdjusted_' + antigen], bins=n_days, density=True, cumulative = True, histtype='step', color = 'navy')\u001b[0m\u001b[1;33m\u001b[0m\u001b[1;33m\u001b[0m\u001b[1;33m\u001b[0m\u001b[0m\n\u001b[1;32m---> 18\u001b[1;33m             \u001b[0max\u001b[0m\u001b[1;33m[\u001b[0m\u001b[0mi\u001b[0m\u001b[1;33m]\u001b[0m\u001b[1;33m.\u001b[0m\u001b[0mhist\u001b[0m\u001b[1;33m(\u001b[0m\u001b[0mclean_df\u001b[0m\u001b[1;33m.\u001b[0m\u001b[0mloc\u001b[0m\u001b[1;33m[\u001b[0m\u001b[0mclean_df\u001b[0m\u001b[1;33m[\u001b[0m\u001b[1;34m'Delay_'\u001b[0m \u001b[1;33m+\u001b[0m \u001b[0mantigen\u001b[0m\u001b[1;33m]\u001b[0m\u001b[1;33m<=\u001b[0m\u001b[0mn_days\u001b[0m\u001b[1;33m*\u001b[0m\u001b[1;36m2\u001b[0m\u001b[1;33m,\u001b[0m \u001b[1;34m'Delay_'\u001b[0m \u001b[1;33m+\u001b[0m \u001b[0mantigen\u001b[0m\u001b[1;33m]\u001b[0m\u001b[1;33m,\u001b[0m \u001b[0mbins\u001b[0m\u001b[1;33m=\u001b[0m\u001b[0mn_days\u001b[0m\u001b[1;33m,\u001b[0m \u001b[0mdensity\u001b[0m\u001b[1;33m=\u001b[0m\u001b[1;32mTrue\u001b[0m\u001b[1;33m,\u001b[0m \u001b[0mcumulative\u001b[0m \u001b[1;33m=\u001b[0m \u001b[1;32mTrue\u001b[0m\u001b[1;33m,\u001b[0m \u001b[0mhisttype\u001b[0m\u001b[1;33m=\u001b[0m\u001b[1;34m'step'\u001b[0m\u001b[1;33m,\u001b[0m \u001b[0mcolor\u001b[0m \u001b[1;33m=\u001b[0m \u001b[1;36m1\u001b[0m\u001b[1;33m)\u001b[0m\u001b[1;33m\u001b[0m\u001b[1;33m\u001b[0m\u001b[0m\n\u001b[0m\u001b[0;32m     19\u001b[0m             \u001b[0max\u001b[0m\u001b[1;33m[\u001b[0m\u001b[0mi\u001b[0m\u001b[1;33m]\u001b[0m\u001b[1;33m.\u001b[0m\u001b[0mset_ylabel\u001b[0m\u001b[1;33m(\u001b[0m\u001b[1;34m'% of total vaccinated'\u001b[0m\u001b[1;33m)\u001b[0m\u001b[1;33m\u001b[0m\u001b[1;33m\u001b[0m\u001b[0m\n\u001b[0;32m     20\u001b[0m             \u001b[0max\u001b[0m\u001b[1;33m[\u001b[0m\u001b[0mi\u001b[0m\u001b[1;33m]\u001b[0m\u001b[1;33m.\u001b[0m\u001b[0mset_xlabel\u001b[0m\u001b[1;33m(\u001b[0m\u001b[1;34m'Number of days since vaccine start date'\u001b[0m\u001b[1;33m)\u001b[0m\u001b[1;33m\u001b[0m\u001b[1;33m\u001b[0m\u001b[0m\n",
      "\u001b[1;32mC:\\Users\\Rohan Bapat\\AppData\\Local\\Continuum\\Anaconda3\\lib\\site-packages\\matplotlib\\__init__.py\u001b[0m in \u001b[0;36minner\u001b[1;34m(ax, data, *args, **kwargs)\u001b[0m\n\u001b[0;32m   1436\u001b[0m     \u001b[1;32mdef\u001b[0m \u001b[0minner\u001b[0m\u001b[1;33m(\u001b[0m\u001b[0max\u001b[0m\u001b[1;33m,\u001b[0m \u001b[1;33m*\u001b[0m\u001b[0margs\u001b[0m\u001b[1;33m,\u001b[0m \u001b[0mdata\u001b[0m\u001b[1;33m=\u001b[0m\u001b[1;32mNone\u001b[0m\u001b[1;33m,\u001b[0m \u001b[1;33m**\u001b[0m\u001b[0mkwargs\u001b[0m\u001b[1;33m)\u001b[0m\u001b[1;33m:\u001b[0m\u001b[1;33m\u001b[0m\u001b[1;33m\u001b[0m\u001b[0m\n\u001b[0;32m   1437\u001b[0m         \u001b[1;32mif\u001b[0m \u001b[0mdata\u001b[0m \u001b[1;32mis\u001b[0m \u001b[1;32mNone\u001b[0m\u001b[1;33m:\u001b[0m\u001b[1;33m\u001b[0m\u001b[1;33m\u001b[0m\u001b[0m\n\u001b[1;32m-> 1438\u001b[1;33m             \u001b[1;32mreturn\u001b[0m \u001b[0mfunc\u001b[0m\u001b[1;33m(\u001b[0m\u001b[0max\u001b[0m\u001b[1;33m,\u001b[0m \u001b[1;33m*\u001b[0m\u001b[0mmap\u001b[0m\u001b[1;33m(\u001b[0m\u001b[0msanitize_sequence\u001b[0m\u001b[1;33m,\u001b[0m \u001b[0margs\u001b[0m\u001b[1;33m)\u001b[0m\u001b[1;33m,\u001b[0m \u001b[1;33m**\u001b[0m\u001b[0mkwargs\u001b[0m\u001b[1;33m)\u001b[0m\u001b[1;33m\u001b[0m\u001b[1;33m\u001b[0m\u001b[0m\n\u001b[0m\u001b[0;32m   1439\u001b[0m \u001b[1;33m\u001b[0m\u001b[0m\n\u001b[0;32m   1440\u001b[0m         \u001b[0mbound\u001b[0m \u001b[1;33m=\u001b[0m \u001b[0mnew_sig\u001b[0m\u001b[1;33m.\u001b[0m\u001b[0mbind\u001b[0m\u001b[1;33m(\u001b[0m\u001b[0max\u001b[0m\u001b[1;33m,\u001b[0m \u001b[1;33m*\u001b[0m\u001b[0margs\u001b[0m\u001b[1;33m,\u001b[0m \u001b[1;33m**\u001b[0m\u001b[0mkwargs\u001b[0m\u001b[1;33m)\u001b[0m\u001b[1;33m\u001b[0m\u001b[1;33m\u001b[0m\u001b[0m\n",
      "\u001b[1;32mC:\\Users\\Rohan Bapat\\AppData\\Local\\Continuum\\Anaconda3\\lib\\site-packages\\matplotlib\\axes\\_axes.py\u001b[0m in \u001b[0;36mhist\u001b[1;34m(self, x, bins, range, density, weights, cumulative, bottom, histtype, align, orientation, rwidth, log, color, label, stacked, **kwargs)\u001b[0m\n\u001b[0;32m   6608\u001b[0m             \u001b[0mcolor\u001b[0m \u001b[1;33m=\u001b[0m \u001b[1;33m[\u001b[0m\u001b[0mself\u001b[0m\u001b[1;33m.\u001b[0m\u001b[0m_get_lines\u001b[0m\u001b[1;33m.\u001b[0m\u001b[0mget_next_color\u001b[0m\u001b[1;33m(\u001b[0m\u001b[1;33m)\u001b[0m \u001b[1;32mfor\u001b[0m \u001b[0mi\u001b[0m \u001b[1;32min\u001b[0m \u001b[0mrange\u001b[0m\u001b[1;33m(\u001b[0m\u001b[0mnx\u001b[0m\u001b[1;33m)\u001b[0m\u001b[1;33m]\u001b[0m\u001b[1;33m\u001b[0m\u001b[1;33m\u001b[0m\u001b[0m\n\u001b[0;32m   6609\u001b[0m         \u001b[1;32melse\u001b[0m\u001b[1;33m:\u001b[0m\u001b[1;33m\u001b[0m\u001b[1;33m\u001b[0m\u001b[0m\n\u001b[1;32m-> 6610\u001b[1;33m             \u001b[0mcolor\u001b[0m \u001b[1;33m=\u001b[0m \u001b[0mmcolors\u001b[0m\u001b[1;33m.\u001b[0m\u001b[0mto_rgba_array\u001b[0m\u001b[1;33m(\u001b[0m\u001b[0mcolor\u001b[0m\u001b[1;33m)\u001b[0m\u001b[1;33m\u001b[0m\u001b[1;33m\u001b[0m\u001b[0m\n\u001b[0m\u001b[0;32m   6611\u001b[0m             \u001b[1;32mif\u001b[0m \u001b[0mlen\u001b[0m\u001b[1;33m(\u001b[0m\u001b[0mcolor\u001b[0m\u001b[1;33m)\u001b[0m \u001b[1;33m!=\u001b[0m \u001b[0mnx\u001b[0m\u001b[1;33m:\u001b[0m\u001b[1;33m\u001b[0m\u001b[1;33m\u001b[0m\u001b[0m\n\u001b[0;32m   6612\u001b[0m                 raise ValueError(f\"The 'color' keyword argument must have one \"\n",
      "\u001b[1;32mC:\\Users\\Rohan Bapat\\AppData\\Local\\Continuum\\Anaconda3\\lib\\site-packages\\matplotlib\\colors.py\u001b[0m in \u001b[0;36mto_rgba_array\u001b[1;34m(c, alpha)\u001b[0m\n\u001b[0;32m    336\u001b[0m             \u001b[1;32mreturn\u001b[0m \u001b[0mresult\u001b[0m\u001b[1;33m\u001b[0m\u001b[1;33m\u001b[0m\u001b[0m\n\u001b[0;32m    337\u001b[0m \u001b[1;33m\u001b[0m\u001b[0m\n\u001b[1;32m--> 338\u001b[1;33m     \u001b[1;32mif\u001b[0m \u001b[0mlen\u001b[0m\u001b[1;33m(\u001b[0m\u001b[0mc\u001b[0m\u001b[1;33m)\u001b[0m \u001b[1;33m==\u001b[0m \u001b[1;36m0\u001b[0m\u001b[1;33m:\u001b[0m\u001b[1;33m\u001b[0m\u001b[1;33m\u001b[0m\u001b[0m\n\u001b[0m\u001b[0;32m    339\u001b[0m         \u001b[1;32mreturn\u001b[0m \u001b[0mnp\u001b[0m\u001b[1;33m.\u001b[0m\u001b[0mzeros\u001b[0m\u001b[1;33m(\u001b[0m\u001b[1;33m(\u001b[0m\u001b[1;36m0\u001b[0m\u001b[1;33m,\u001b[0m \u001b[1;36m4\u001b[0m\u001b[1;33m)\u001b[0m\u001b[1;33m,\u001b[0m \u001b[0mfloat\u001b[0m\u001b[1;33m)\u001b[0m\u001b[1;33m\u001b[0m\u001b[1;33m\u001b[0m\u001b[0m\n\u001b[0;32m    340\u001b[0m     \u001b[1;32melse\u001b[0m\u001b[1;33m:\u001b[0m\u001b[1;33m\u001b[0m\u001b[1;33m\u001b[0m\u001b[0m\n",
      "\u001b[1;31mTypeError\u001b[0m: object of type 'int' has no len()"
     ]
    }
   ],
   "source": [
    "plt.clf()\n",
    "fig, ax = plt.subplots(nrows = len(code_antigen_mapping.keys()), ncols = 1,figsize=(10,120))\n",
    "plt.subplots_adjust(hspace=0.5)\n",
    "\n",
    "i=0\n",
    "n_days = 120\n",
    "\n",
    "\n",
    "for code, antigen in code_antigen_mapping.items():\n",
    "    try:\n",
    "        if ~np.isnan(clean_df['DelayAdjusted_' + antigen].mean()):\n",
    "    #         geom_dist = np.random.geometric(p = 1/clean_df['DelayAdjusted_' + antigen].mean(), size = 10000)\n",
    "            geom_dist = np.random.geometric(p = 1/clean_df['Delay_' + antigen].mean(), size = 10000)\n",
    "\n",
    "\n",
    "            ax[i].hist(geom_dist[geom_dist<=n_days], bins = n_days, density=True, cumulative = True, histtype='step', color = 'darkorange')\n",
    "    #         ax[i].hist(clean_df.loc[clean_df['DelayAdjusted_' + antigen]<=n_days*2, 'DelayAdjusted_' + antigen], bins=n_days, density=True, cumulative = True, histtype='step', color = 'navy')\n",
    "            ax[i].hist(clean_df.loc[clean_df['Delay_' + antigen]<=n_days*2, 'Delay_' + antigen], bins=n_days, density=True, cumulative = True, histtype='step', color = 'navy')\n",
    "            ax[i].set_ylabel('% of total vaccinated')\n",
    "            ax[i].set_xlabel('Number of days since vaccine start date')\n",
    "            ax[i].set_title(antigen)\n",
    "            ax[i].axis(xmin=0,xmax=n_days)\n",
    "\n",
    "            i+=1\n",
    "    except KeyError:\n",
    "        next\n",
    "plt.show()\n",
    "#plt.savefig(r'C:\\Users\\Rohan Bapat\\Documents\\Projects\\Immunization Supply Chain\\Resources\\Vaccination delay geometric.jpg', bbox_inches='tight')"
   ]
  },
  {
   "cell_type": "code",
   "execution_count": 26,
   "metadata": {},
   "outputs": [],
   "source": [
    "plt.clf()\n",
    "plt.figure(figsize=(10,6))\n",
    "# fig, ax = plt.subplots(nrows = len(code_antigen_mapping.keys()), ncols = 1,figsize=(10,120))\n",
    "# plt.subplots_adjust(hspace=0.5)\n",
    "\n",
    "i=0\n",
    "n_days = 120\n",
    "\n",
    "for code, antigen in code_antigen_mapping.items():\n",
    "    try:\n",
    "        if ~np.isnan(clean_df['DelayAdjusted_' + antigen].mean()):\n",
    "    #         geom_dist = np.random.geometric(p = 1/clean_df['DelayAdjusted_' + antigen].mean(), size = 10000)\n",
    "#             geom_dist = np.random.geometric(p = 1/clean_df['Delay_' + antigen].mean(), size = 10000)\n",
    "\n",
    "\n",
    "#             ax[i].hist(geom_dist[geom_dist<=n_days], bins = n_days, density=True, cumulative = True, histtype='step', color = 'darkorange')\n",
    "    #         ax[i].hist(clean_df.loc[clean_df['DelayAdjusted_' + antigen]<=n_days*2, 'DelayAdjusted_' + antigen], bins=n_days, density=True, cumulative = True, histtype='step', color = 'navy')\n",
    "            plt.hist(clean_df.loc[clean_df['Delay_' + antigen]<=n_days*2, 'Delay_' + antigen], bins=n_days*2, density=True, cumulative = True, histtype='step', label = antigen)\n",
    "            plt.ylabel('% of total vaccinated')\n",
    "            plt.xlabel('Number of days since vaccine start date')\n",
    "            plt.legend(loc=\"upper left\", bbox_to_anchor=(1, 1))\n",
    "#             plt.title(antigen)\n",
    "            plt.axis(xmin=0,xmax=n_days)\n",
    "\n",
    "            i+=1\n",
    "    except KeyError:\n",
    "        next\n",
    "#plt.show()\n",
    "plt.savefig(r'C:\\Users\\Rohan Bapat\\Documents\\Projects\\Immunization Supply Chain\\Resources\\Vaccination delay by vaccine NFHS.jpg', bbox_inches='tight')"
   ]
  },
  {
   "cell_type": "code",
   "execution_count": null,
   "metadata": {},
   "outputs": [],
   "source": [
    "np.isnan(clean_df['DelayAdjusted_' + antigen].mean())"
   ]
  },
  {
   "cell_type": "code",
   "execution_count": null,
   "metadata": {},
   "outputs": [],
   "source": [
    "clean_df['VacDays_' + antigen].mode()"
   ]
  },
  {
   "cell_type": "code",
   "execution_count": null,
   "metadata": {},
   "outputs": [],
   "source": [
    "clean_df['D_Rotavirus Vaccine 3'].dt.day_name().value_counts()"
   ]
  },
  {
   "cell_type": "code",
   "execution_count": null,
   "metadata": {},
   "outputs": [],
   "source": [
    "clean_df[[col for col in clean_df.columns if 'DelayAdjusted_' in col]].describe()"
   ]
  },
  {
   "cell_type": "code",
   "execution_count": null,
   "metadata": {},
   "outputs": [],
   "source": [
    "vaccine_start_date_dict"
   ]
  },
  {
   "cell_type": "code",
   "execution_count": null,
   "metadata": {},
   "outputs": [],
   "source": [
    "clean_df['D_Pentavalent 1'].describe()"
   ]
  },
  {
   "cell_type": "code",
   "execution_count": null,
   "metadata": {},
   "outputs": [],
   "source": [
    "clean_df = clean_df[(clean_df['D_birth'].dt.year>=2017)]"
   ]
  },
  {
   "cell_type": "code",
   "execution_count": null,
   "metadata": {},
   "outputs": [],
   "source": [
    "clean_df[[col for col in clean_df.columns if col[:7]=='VacDays']].head()"
   ]
  },
  {
   "cell_type": "code",
   "execution_count": null,
   "metadata": {},
   "outputs": [],
   "source": [
    "plt.hist(geom_dist, bins = 150, density=True, cumulative=True, histtype='step')\n",
    "plt.show()"
   ]
  },
  {
   "cell_type": "code",
   "execution_count": null,
   "metadata": {},
   "outputs": [],
   "source": [
    "clean_df['VacDays_BCG'].hist()\n",
    "plt.show()"
   ]
  },
  {
   "cell_type": "code",
   "execution_count": null,
   "metadata": {},
   "outputs": [],
   "source": [
    "clean_df.loc[(clean_df['VacDays_BCG']>=-100) & (clean_df['VacDays_BCG']<=200), 'VacDays_BCG'].hist(bins=200, density=True, cumulative=True, histtype='step')\n",
    "plt.show()"
   ]
  },
  {
   "cell_type": "code",
   "execution_count": null,
   "metadata": {},
   "outputs": [],
   "source": [
    "clean_df['Delay_BCG'].median()"
   ]
  },
  {
   "cell_type": "code",
   "execution_count": null,
   "metadata": {},
   "outputs": [],
   "source": [
    "(clean_df['D_birth'].dt.year.astype(str) + \"-\" + clean_df['D_birth'].dt.month.map(\"{:02}\".format).astype(str)).sort_values().groupby(clean_df['D_birth'].dt.year.astype(str) + \"-\" + clean_df['D_birth'].dt.month.map(\"{:02}\".format).astype(str), sort=False).count().plot(kind='bar', figsize=(10, 5))\n",
    "plt.show()"
   ]
  },
  {
   "cell_type": "code",
   "execution_count": null,
   "metadata": {},
   "outputs": [],
   "source": [
    "plt.clf()\n",
    "(clean_df['D_interview'].dt.year.astype(str) + \"-\" + clean_df['D_interview'].dt.month.map(\"{:02}\".format).astype(str)).sort_values().groupby(clean_df['D_interview'].dt.year.astype(str) + \"-\" + clean_df['D_interview'].dt.month.map(\"{:02}\".format).astype(str), sort=False).count().plot(kind='bar', figsize=(10, 5))\n",
    "plt.show()"
   ]
  },
  {
   "cell_type": "code",
   "execution_count": null,
   "metadata": {},
   "outputs": [],
   "source": []
  },
  {
   "cell_type": "markdown",
   "metadata": {},
   "source": [
    "$CASEID$ -  Case identification is used to uniquely identify each respondent <br>\n",
    "$V006$ - Month of the individual interview <br>\n",
    "$V007$ - Year of the individual interview <br>\n",
    "$V016$ - Day of the individual interview <br>\n",
    "\n",
    "$HW1$ - Age in months of the child is calculated from the country month code of the date of  interview less the century month code of the date of birth of the child. \n",
    "$B18$ - Century day code of birth of child, calculated from B2, B3 and B17 (see note on century day\n",
    "codes) <br>\n",
    "$H1$ - Whether the respondent has a health card for the child and whether she could produce it for\n",
    "the interviewer. Code 1 means the interviewer saw the health card for the child, whereas\n",
    "code 2 means the respondent reported she had a health card for the child but the interviewer\n",
    "did not see it. Code 3 indicates that the respondent had a health card for the child at some\n",
    "point in time, but no longer has the health card. <br>\n",
    "$H2$ - Whether a date of vaccination was recorded on the health card for BCG. Code 1 means the\n",
    "child has a date recorded for the vaccination. Code 2 is used to indicate that the respondent\n",
    "reported that the child had received the vaccination although the health card was not seen or\n",
    "did not exist, or the vaccination was not recorded on the health card, but was reported by the\n",
    "mother. Code 3 is used to indicate situations where the health card is clearly marked to\n",
    "indicate that the vaccination was given, but no date was recorded on the health card for the\n",
    "vaccination <br>\n",
    "\n",
    "\n",
    "$H2D$ - BCG vaccination date - day. <br>\n",
    "$H2M$ - BCG vaccination date - month. <br>\n",
    "$H2Y$ - BCG vaccination date - year. <br>\n",
    "\n",
    "$H3$ - DPT1 - Received <br>\n",
    "$H3D$ - DPT1 - day. <br>\n",
    "$H3M$ - DPT1 - month. <br>\n",
    "$H3Y$ - DPT1 - year.  <br>\n",
    "\n",
    "$H4$ - Polio 1 - Received <br>\n",
    "$H4D$ - Polio 1 - day. <br>\n",
    "$H4M$ - Polio 1 - month. <br>\n",
    "$H4Y$ - Polio 1 - year.  <br>\n",
    "\n",
    "$H5$ - DPT 2 - Received <br>\n",
    "$H5D$ - DPT 2 - day. <br>\n",
    "$H5M$ - DPT 2 - month. <br>\n",
    "$H5Y$ - DPT 2 - year.  <br>\n",
    "\n",
    "$H6$ - Polio 2 - Received <br>\n",
    "$H6D$ - Polio 2 - day. <br>\n",
    "$H6M$ - Polio 2 - month. <br>\n",
    "$H6Y$ - Polio 2 - year.  <br>\n",
    "\n",
    "$H7$ - DPT 3 - Received <br>\n",
    "$H7D$ - DPT 3 - day. <br>\n",
    "$H7M$ - DPT 3 - month. <br>\n",
    "$H7Y$ - DPT 3 - year.  <br>\n",
    "\n",
    "$H8$ - Polio 3 - Received <br>\n",
    "$H8D$ - Polio 3 - day. <br>\n",
    "$H8M$ - Polio 3 - month. <br>\n",
    "$H8Y$ - Polio 3 - year.  <br>\n",
    "\n",
    "$H9$ - Measles 1 - Received <br>\n",
    "$H9D$ - Measles 1 - day. <br>\n",
    "$H9M$ - Measles 1 - month. <br>\n",
    "$H9Y$ - Measles 1 - year.  <br>\n",
    "\n",
    "$H0$ - Polio 0 - Received <br>\n",
    "$H0D$ - Polio 0 - day. <br>\n",
    "$H0M$ - Polio 0 - month. <br>\n",
    "$H0Y$ - Polio 0 - year.  <br>\n",
    "\n",
    "$H50$ - Hepatitis B 0 - Received <br>\n",
    "$H50D$ - Hepatitis B 0 - day. <br>\n",
    "$H50M$ - Hepatitis B 0 - month. <br>\n",
    "$H50Y$ - Hepatitis B 0 - year.  <br>\n",
    "\n",
    "$H51$ - Pentavalent 1 - Received <br>\n",
    "$H51D$ - Pentavalent 1 - day. <br>\n",
    "$H51M$ - Pentavalent 1 - month. <br>\n",
    "$H51Y$ - Pentavalent 1 - year.  <br>\n",
    "\n",
    "$H52$ - Pentavalent 2 - Received <br>\n",
    "$H52D$ - Pentavalent 2 - day. <br>\n",
    "$H52M$ - Pentavalent 2 - month. <br>\n",
    "$H52Y$ - Pentavalent 2 - year.  <br>\n",
    "\n",
    "$H53$ - Pentavalent 3 - Received <br>\n",
    "$H53D$ - Pentavalent 3 - day. <br>\n",
    "$H53M$ - Pentavalent 3 - month. <br>\n",
    "$H53Y$ - Pentavalent 3 - year.  <br>\n",
    "\n",
    "$H54$ - PCV 1 - Received <br>\n",
    "$H54D$ - PCV 1 - day. <br>\n",
    "$H54M$ - PCV 1 - month. <br>\n",
    "$H54Y$ - PCV 1 - year.  <br>\n",
    "\n",
    "$H55$ - PCV 2 - Received <br>\n",
    "$H55D$ - PCV 2 - day. <br>\n",
    "$H55M$ - PCV 2 - month. <br>\n",
    "$H55Y$ - PCV 2 - year.  <br>\n",
    "\n",
    "$H56$ - PCV 3 - Received <br>\n",
    "$H56D$ - PCV 3 - day. <br>\n",
    "$H56M$ - PCV 3 - month. <br>\n",
    "$H56Y$ - PCV 3 - year.  <br>\n",
    "\n",
    "$H57$ - Rotavirus 1 - Received <br>\n",
    "$H57D$ - Rotavirus 1 - day. <br>\n",
    "$H57M$ - Rotavirus 1 - month. <br>\n",
    "$H57Y$ - Rotavirus 1 - year.  <br>\n",
    "\n",
    "$H58$ - Rotavirus 2 - Received <br>\n",
    "$H58D$ - Rotavirus 2 - day. <br>\n",
    "$H58M$ - Rotavirus 2 - month. <br>\n",
    "$H58Y$ - Rotavirus 2 - year.  <br>\n",
    "\n",
    "$H59$ - Rotavirus 3 - Received <br>\n",
    "$H59D$ - Rotavirus 3 - day. <br>\n",
    "$H59M$ - Rotavirus 3 - month. <br>\n",
    "$H59Y$ - Rotavirus 3 - year.  <br>\n",
    "\n",
    "$H61$ - Hepatitis B 1 - Received <br>\n",
    "$H61D$ - Hepatitis B 1 - day. <br>\n",
    "$H61M$ - Hepatitis B 1 - month. <br>\n",
    "$H61Y$ - Hepatitis B 1 - year.  <br>"
   ]
  }
 ],
 "metadata": {
  "kernelspec": {
   "display_name": "Python 3",
   "language": "python",
   "name": "python3"
  },
  "language_info": {
   "codemirror_mode": {
    "name": "ipython",
    "version": 3
   },
   "file_extension": ".py",
   "mimetype": "text/x-python",
   "name": "python",
   "nbconvert_exporter": "python",
   "pygments_lexer": "ipython3",
   "version": "3.6.11"
  }
 },
 "nbformat": 4,
 "nbformat_minor": 2
}
