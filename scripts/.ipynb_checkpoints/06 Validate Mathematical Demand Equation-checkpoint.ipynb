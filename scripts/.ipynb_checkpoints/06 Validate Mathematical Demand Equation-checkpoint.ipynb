{
 "cells": [
  {
   "cell_type": "code",
   "execution_count": 1,
   "metadata": {},
   "outputs": [],
   "source": [
    "import numpy as np\n",
    "\n",
    "import pandas as pd\n",
    "\n",
    "from pathlib import Path\n",
    "\n",
    "import matplotlib.pyplot as plt \n",
    "\n",
    "path_data = Path.cwd().parent / 'data'"
   ]
  },
  {
   "cell_type": "code",
   "execution_count": 2,
   "metadata": {},
   "outputs": [],
   "source": [
    "birth_awc_df = pd.read_csv(path_data / '02 out_birth_awc_lane_assignment.csv')\n",
    "\n",
    "birth_phc_df = pd.read_csv(path_data / '02 out_birth_phc_lane_assignment.csv')\n",
    "\n",
    "vaccine_details_df = pd.read_csv(path_data / '03 in_vaccine_details.csv')\n",
    "\n",
    "vaccine_delay_geom_p = pd.read_csv(path_data / '03 out_vaccine_delay_geom_p.csv')"
   ]
  },
  {
   "cell_type": "code",
   "execution_count": 3,
   "metadata": {},
   "outputs": [],
   "source": [
    "delta = 0.5 # Ratio of (distance from nearest AWC)/(distance from nearest PHC), where caregiver's choice probability is equal = 0.5"
   ]
  },
  {
   "cell_type": "code",
   "execution_count": 4,
   "metadata": {},
   "outputs": [],
   "source": [
    "birth_awc_phc_df = pd.merge(birth_awc_df[['Location ID', 'AWC_ID', 'Distance', 'Births']].rename(columns = {'Distance':'AWC Distance'}), \n",
    "                            birth_phc_df[['Location ID', 'PHC_ID', 'Distance']].rename(columns = {'Distance': 'PHC Distance'}),\n",
    "                            on = 'Location ID', how = 'left')\n",
    "\n",
    "birth_awc_phc_df['AWC PHC Distance Ratio'] = birth_awc_phc_df['AWC Distance'] /  birth_awc_phc_df['PHC Distance']\n",
    "birth_awc_phc_df['Normalized Distance Ratio'] = (birth_awc_phc_df['AWC PHC Distance Ratio'] - delta)/birth_awc_phc_df['AWC PHC Distance Ratio'].var()\n",
    "\n",
    "birth_awc_phc_df['P_AWC'] = 1/(1 + np.exp(birth_awc_phc_df['Normalized Distance Ratio']))"
   ]
  },
  {
   "cell_type": "code",
   "execution_count": 5,
   "metadata": {},
   "outputs": [],
   "source": [
    "vaccine_details_df['Wastage Adjustment'] = 1/(1 - np.array(vaccine_details_df['Wastage']))\n",
    "vaccine_details_df['Wastage Adjusted Volume'] = np.ceil(vaccine_details_df['Average packed volume secondary package'] * vaccine_details_df['Wastage Adjustment'])"
   ]
  },
  {
   "cell_type": "code",
   "execution_count": 11,
   "metadata": {},
   "outputs": [],
   "source": [
    "selected_awc = [1510219, 1510020, 1511016, 1511217, 1511061, 1510059, 1511012]\n",
    "# selected_awc = [1510219, 1510020]"
   ]
  },
  {
   "cell_type": "code",
   "execution_count": 12,
   "metadata": {},
   "outputs": [],
   "source": [
    "pois = lambda x: np.random.poisson(x/365, 730)\n",
    "\n",
    "A = vaccine_details_df['Vaccine']\n",
    "f = 28\n",
    "vac_start = vaccine_details_df[['Vaccine', 'Start Week']]\n",
    "alpha_i = 0.8 \n",
    "beta_i = 0.1 \n",
    "gamma_i = 0.4\n",
    "p_vac = vaccine_delay_geom_p[['Vaccine', 'Vaccination Delay Geom p']]\n",
    "delta_b = 0.2\n",
    "vac_vol = vaccine_details_df[['Vaccine', 'Wastage Adjusted Volume']]\n",
    "\n",
    "t_range = range(600, 730, 30)\n",
    "awc_demand_volume_dict = {}"
   ]
  },
  {
   "cell_type": "code",
   "execution_count": 13,
   "metadata": {},
   "outputs": [
    {
     "name": "stdout",
     "output_type": "stream",
     "text": [
      "1510219\n",
      "1510020\n",
      "11\r"
     ]
    }
   ],
   "source": [
    "for awc in selected_awc:\n",
    "\n",
    "    print(awc)\n",
    "    \n",
    "    birth_awc_iter_df = birth_awc_phc_df.loc[birth_awc_phc_df['AWC_ID'] == awc, :]\n",
    "    \n",
    "    births_array = np.array(list(map(pois, birth_awc_iter_df['Births'].values)))\n",
    "    \n",
    "    N = birth_awc_iter_df.shape[0]\n",
    "    \n",
    "    d = birth_awc_iter_df[['Location ID', 'AWC Distance', 'PHC Distance']].reset_index(drop=True)\n",
    "    \n",
    "    awc_choice_prob = birth_awc_iter_df[['Location ID', 'P_AWC']].reset_index(drop=True)\n",
    "\n",
    "    awc_vaccine_volume = np.zeros((len(t_range), N))\n",
    "\n",
    "    for n in range(N):\n",
    "        print(n,end='\\r')\n",
    "        vac_seeking_probability = max((alpha_i - d.loc[n, ['AWC Distance','PHC Distance']].min() * beta_i),  gamma_i)\n",
    "        for a in A:\n",
    "            for s in range(-4,1):\n",
    "                for i in range(0, f):\n",
    "                    t_start = 0\n",
    "                    for t in t_range:\n",
    "                        t_updated = t - vac_start.loc[vac_start['Vaccine'] == a, 'Start Week'] * 7 + s*f - i\n",
    "                        if births_array[n,t_updated]>0:\n",
    "                            if s==0:\n",
    "                                delay_cdf = 1 - (1 - p_vac.loc[p_vac['Vaccine'] == a, 'Vaccination Delay Geom p'])**(- s*f + i + 1)\n",
    "                            else:\n",
    "                                delay_cdf = (1 - p_vac.loc[p_vac['Vaccine'] == a, 'Vaccination Delay Geom p'])**(- (s-1) * f + i + 1) - (1 - p_vac.loc[p_vac['Vaccine'] == a, 'Vaccination Delay Geom p'])**(- s*f + i + 1)\n",
    "                            awc_vaccine_volume[t_start, n] += (births_array[n,t_updated] * vac_seeking_probability * awc_choice_prob.loc[n, 'P_AWC'] * delay_cdf * (1-delta_b) + float(delta_b if s==0 else 0))*vac_vol.loc[vac_vol['Vaccine']==a,\"Wastage Adjusted Volume\"]\n",
    "                        t_start += 1\n",
    "                        \n",
    "    awc_demand_volume_dict[awc] = awc_vaccine_volume"
   ]
  },
  {
   "cell_type": "code",
   "execution_count": 14,
   "metadata": {},
   "outputs": [
    {
     "data": {
      "text/plain": [
       "[(1510219, 2760.3325653773873), (1510020, 1786.9833545947872)]"
      ]
     },
     "execution_count": 14,
     "metadata": {},
     "output_type": "execute_result"
    }
   ],
   "source": [
    "[(key, np.mean(np.sum(value, axis = 1))) for key,value in awc_demand_volume_dict.items()]"
   ]
  },
  {
   "cell_type": "code",
   "execution_count": 9,
   "metadata": {},
   "outputs": [
    {
     "data": {
      "text/plain": [
       "[(1510219, 3662.2601441935076),\n",
       " (1510020, 2529.391484578592),\n",
       " (1511016, 2420.142017978795),\n",
       " (1511217, 1561.8634606845758),\n",
       " (1511061, 1035.6291410021124),\n",
       " (1510059, 1882.6127328072973),\n",
       " (1511012, 1405.8031914092708)]"
      ]
     },
     "execution_count": 9,
     "metadata": {},
     "output_type": "execute_result"
    }
   ],
   "source": [
    "[(key, np.mean(np.sum(value, axis = 1))) for key,value in awc_demand_volume_dict.items()]"
   ]
  },
  {
   "cell_type": "code",
   "execution_count": null,
   "metadata": {},
   "outputs": [],
   "source": [
    "np.sum(awc_demand_volume_dict[1511016])"
   ]
  },
  {
   "cell_type": "code",
   "execution_count": null,
   "metadata": {},
   "outputs": [],
   "source": [
    "np.sum(awc_demand_volume_dict[1510020])"
   ]
  },
  {
   "cell_type": "code",
   "execution_count": null,
   "metadata": {},
   "outputs": [],
   "source": [
    "a = 'Rotavirus Vaccine 2'\n",
    "n = 0\n",
    "s = -1"
   ]
  },
  {
   "cell_type": "code",
   "execution_count": null,
   "metadata": {},
   "outputs": [],
   "source": [
    "delay_cdf = (1 - p_vac.loc[p_vac['Vaccine'] == a, 'Vaccination Delay Geom p'])**(- s * f) - (1 - p_vac.loc[p_vac['Vaccine'] == a, 'Vaccination Delay Geom p'])**( - s*f + i)"
   ]
  },
  {
   "cell_type": "code",
   "execution_count": null,
   "metadata": {},
   "outputs": [],
   "source": [
    "delay_cdf"
   ]
  },
  {
   "cell_type": "code",
   "execution_count": null,
   "metadata": {},
   "outputs": [],
   "source": [
    "x = float(delay_cdf * (1-delta_b))"
   ]
  },
  {
   "cell_type": "code",
   "execution_count": null,
   "metadata": {},
   "outputs": [],
   "source": [
    "y = delta_b if s==0 else 0"
   ]
  },
  {
   "cell_type": "code",
   "execution_count": null,
   "metadata": {},
   "outputs": [],
   "source": [
    "x+y"
   ]
  },
  {
   "cell_type": "code",
   "execution_count": null,
   "metadata": {},
   "outputs": [],
   "source": [
    "delay_cdf * (1-delta_b) + float(delta_b if s==0 else 0)"
   ]
  },
  {
   "cell_type": "code",
   "execution_count": null,
   "metadata": {},
   "outputs": [],
   "source": [
    "(births_array[n,599] * vac_seeking_probability * (delay_cdf * (1-delta_b) + delta_b if s==0 else 0))*vac_vol.loc[vac_vol['Vaccine']==a,\"Wastage Adjusted Volume\"]"
   ]
  },
  {
   "cell_type": "code",
   "execution_count": null,
   "metadata": {},
   "outputs": [],
   "source": [
    "awc_vaccine_volume = np.zeros((len(t_range), N))\n",
    "\n",
    "vac_seeking_probability = (alpha_i - d.loc[n, 'Distance'] * beta_i).clip(min = gamma_i)\n",
    "\n",
    "\n",
    "for i in range(1, f+1):  \n",
    "    t_start = 0\n",
    "    t_updated = t - vac_start.loc[vac_start['Vaccine'] == a, 'Start Week'] * 7 + s*f - i\n",
    "    if i==1:\n",
    "        print(\"Number of eligible children\")\n",
    "        print(births_array[n,(int(t_updated)-f):int(t_updated)])\n",
    "        print(np.sum(births_array[n,(int(t_updated)-f):int(t_updated)]))\n",
    "    if births_array[n,t_updated]>0:\n",
    "        print(f\"i = {i}\")\n",
    "        delay_cdf = (1 - p_vac.loc[p_vac['Vaccine'] == a, 'Vaccination Delay Geom p'])**(- s * f) - (1 - p_vac.loc[p_vac['Vaccine'] == a, 'Vaccination Delay Geom p'])**( - s*f + i)\n",
    "        print(f\"Delay cdf = {float(delay_cdf)}\")\n",
    "        awc_vaccine_volume[t_start, n] += (births_array[n,t_updated] * vac_seeking_probability * (delay_cdf * (1-delta_b) + float(delta_b if s==0 else 0)))*vac_vol.loc[vac_vol['Vaccine']==a,\"Wastage Adjusted Volume\"]\n",
    "        print(f\"Vaccine volume = {awc_vaccine_volume[t_start, n]}\")\n",
    "    t_start += 1"
   ]
  },
  {
   "cell_type": "markdown",
   "metadata": {},
   "source": [
    "813"
   ]
  },
  {
   "cell_type": "code",
   "execution_count": null,
   "metadata": {},
   "outputs": [],
   "source": [
    "vac_vol.loc[vac_vol['Vaccine']==a,\"Wastage Adjusted Volume\"]"
   ]
  },
  {
   "cell_type": "code",
   "execution_count": null,
   "metadata": {},
   "outputs": [],
   "source": [
    "np.sum(births_array[:,400:500])"
   ]
  },
  {
   "cell_type": "code",
   "execution_count": null,
   "metadata": {},
   "outputs": [],
   "source": [
    "np.mean(np.sum(awc_vaccine_volume, axis =1))"
   ]
  },
  {
   "cell_type": "code",
   "execution_count": null,
   "metadata": {},
   "outputs": [],
   "source": [
    "# n=0\n",
    "# a='BCG'\n",
    "# s=0\n",
    "# t=700\n",
    "# i=1"
   ]
  },
  {
   "cell_type": "code",
   "execution_count": null,
   "metadata": {},
   "outputs": [],
   "source": [
    "# t_updated = t - vac_start.loc[vac_start['Vaccine'] == a, 'Start Week'] * 7 + s*f - i\n",
    "\n",
    "# vac_seeking_probability = (alpha_i - d.loc[n, 'Distance'] * beta_i).clip(min = gamma_i)\n",
    "\n",
    "# delay_cdf = (1 - p_vac.loc[p_vac['Vaccine'] == a, 'Vaccination Delay Geom p'])**(- s * f + i) - (1 - p_vac.loc[p_vac['Vaccine'] == a, 'Vaccination Delay Geom p'])**(- (s-1)*f + i)"
   ]
  },
  {
   "cell_type": "markdown",
   "metadata": {},
   "source": [
    "(a) Di,t is the vaccine demand volume at location i on day t <br>\n",
    "(b) N is the set of birth-nodes assigned to the health facility location i <br>\n",
    "(c) A is the set of antigens (eg. BCG, Pentavalent, Rotavirus etc) as per National\n",
    "Immunization Schedule.\n",
    "(d) s is variable for session relative to time t when child became eligible for vaccination,\n",
    "s = 0 is the current session, s = −1 is previous session and so on.\n",
    "(e) f is the frequency of vaccination. If once every 28 days, then f = 28.\n",
    "(f) Xn,t is the number of births at birth node n on day t. Xn,t ∼ P oi( λn\n",
    "365 ) where λn is\n",
    "annual number of births at node n\n",
    "(g) vac starta is the start date since date of birth when the child is eligible for antigen a\n",
    "(h) α + βd is Vaccination Seeking probability ∈ [0.4, 0.8], d being distance from nearest\n",
    "Health Facility\n",
    "(i) 1/1+eθ is the Caregiver’s Location Choice probability of vaccinating at AWC, θ being\n",
    "AWC/PHC distance ratio.\n",
    "(j) 1 − (1 − pvac)k represents cdf P [delay ≤ k] of Geometric model of Caregiver’s\n",
    "Vaccination Delay, pvac being the vaccine-level delay parameter\n",
    "(k) δb is the fraction of caregivers who delay vaccination due to lack of continuous vaccine\n",
    "availability\n",
    "(l) I is an indicator variable such that I = 1 if s = 0 and I = 0 otherwise. I allows\n",
    "inclusion of δb proportion of caregivers who vaccinate their children immediately\n",
    "without delay\n",
    "(m) vac vola is the Wastage adjusted average packed volume secondary package for antigen a"
   ]
  }
 ],
 "metadata": {
  "kernelspec": {
   "display_name": "Python 3",
   "language": "python",
   "name": "python3"
  },
  "language_info": {
   "codemirror_mode": {
    "name": "ipython",
    "version": 3
   },
   "file_extension": ".py",
   "mimetype": "text/x-python",
   "name": "python",
   "nbconvert_exporter": "python",
   "pygments_lexer": "ipython3",
   "version": "3.6.11"
  }
 },
 "nbformat": 4,
 "nbformat_minor": 2
}
