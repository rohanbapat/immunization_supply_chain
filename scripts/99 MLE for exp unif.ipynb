{
 "cells": [
  {
   "cell_type": "code",
   "execution_count": 1,
   "metadata": {},
   "outputs": [],
   "source": [
    "import numpy as np\n",
    "from scipy.optimize import minimize"
   ]
  },
  {
   "cell_type": "code",
   "execution_count": 28,
   "metadata": {},
   "outputs": [],
   "source": [
    "import matplotlib.pyplot as plt\n",
    "plt.style.use('grayscale')"
   ]
  },
  {
   "cell_type": "code",
   "execution_count": 2,
   "metadata": {},
   "outputs": [],
   "source": [
    "def log_likelihood(params, data):\n",
    "    mu, T = params\n",
    "    if mu <= 0 or T <= 0:\n",
    "        return np.inf  # Penalize invalid parameter values\n",
    "    \n",
    "    log_likelihood_sum = 0\n",
    "    for w in data:\n",
    "        likelihood = (np.exp(-mu * w) * (np.exp(mu * T) - 1)) / T\n",
    "        if likelihood <= 0:\n",
    "            return np.inf  # Avoid log of zero or negative values\n",
    "        log_likelihood_sum += np.log(likelihood)\n",
    "    \n",
    "    return -log_likelihood_sum  # Minimize negative log-likelihood"
   ]
  },
  {
   "cell_type": "code",
   "execution_count": 8,
   "metadata": {},
   "outputs": [
    {
     "data": {
      "text/plain": [
       "0.8049116038238614"
      ]
     },
     "execution_count": 8,
     "metadata": {},
     "output_type": "execute_result"
    }
   ],
   "source": [
    "np.log((np.exp(true_mu * true_T)-1)/true_T)"
   ]
  },
  {
   "cell_type": "code",
   "execution_count": 13,
   "metadata": {},
   "outputs": [],
   "source": [
    "def new_log_likelihood(params, data):\n",
    "    mu, T = params\n",
    "    if mu <= 0 or T <= 0:\n",
    "        return np.inf  # Penalize invalid parameter values\n",
    "\n",
    "    log_likelihood_sum = len(data)*np.log((np.exp(mu * T)-1)/T) - mu*sum(data)\n",
    "    return -log_likelihood_sum"
   ]
  },
  {
   "cell_type": "code",
   "execution_count": 10,
   "metadata": {},
   "outputs": [],
   "source": [
    "def estimate_parameters(data):\n",
    "    initial_guess = [1.0, np.mean(data)]  # Initial guess for mu and T\n",
    "    bounds = [(1e-6, None), (1e-6, None)]  # Ensure positive values\n",
    "    result = minimize(new_log_likelihood, initial_guess, args=(data,), bounds=bounds)\n",
    "    return result.x if result.success else (None, None)"
   ]
  },
  {
   "cell_type": "code",
   "execution_count": 25,
   "metadata": {},
   "outputs": [],
   "source": [
    "# Example usage with synthetic data\n",
    "np.random.seed(42)\n",
    "n_samples = 10000\n",
    "true_mu = 0.5\n",
    "true_T = 5.0\n",
    "exponential_data = np.random.exponential(1 / true_mu, size=n_samples) \n",
    "data = exponential_data + np.random.uniform(0, true_T, size=n_samples)"
   ]
  },
  {
   "cell_type": "code",
   "execution_count": 29,
   "metadata": {},
   "outputs": [
    {
     "data": {
      "image/png": "[encoded data removed]",
      "text/plain": [
       "<Figure size 432x288 with 1 Axes>"
      ]
     },
     "metadata": {},
     "output_type": "display_data"
    }
   ],
   "source": [
    "plt.hist(data, color='red', bins=100)\n",
    "# plt.hist(exponential_data, color = 'blue', bins = 100)\n",
    "plt.show()"
   ]
  },
  {
   "cell_type": "code",
   "execution_count": 30,
   "metadata": {},
   "outputs": [
    {
     "name": "stdout",
     "output_type": "stream",
     "text": [
      "Optimization failed. Could not estimate parameters.\n"
     ]
    },
    {
     "name": "stderr",
     "output_type": "stream",
     "text": [
      "C:\\Users\\Rohan Bapat\\AppData\\Local\\Continuum\\Anaconda3\\lib\\site-packages\\ipykernel_launcher.py:6: RuntimeWarning: overflow encountered in exp\n",
      "  \n",
      "C:\\Users\\Rohan Bapat\\AppData\\Roaming\\Python\\Python36\\site-packages\\scipy\\optimize\\_numdiff.py:497: RuntimeWarning: invalid value encountered in subtract\n",
      "  df = fun(x) - f0\n"
     ]
    }
   ],
   "source": [
    "# Estimate mu and T\n",
    "estimated_mu, estimated_T = estimate_parameters(data)\n",
    "if estimated_mu is not None and estimated_T is not None:\n",
    "    print(f\"Estimated mu: {estimated_mu:.4f}, Estimated T: {estimated_T:.4f}\")\n",
    "else:\n",
    "    print(\"Optimization failed. Could not estimate parameters.\")"
   ]
  },
  {
   "cell_type": "code",
   "execution_count": null,
   "metadata": {},
   "outputs": [],
   "source": [
    "def MLE_Norm(parameters):\n",
    "    # extract parameters\n",
    "    const, beta, std_dev = parameters\n",
    "    # predict the output\n",
    "    pred = const + beta*x\n",
    "    # Calculate the log-likelihood for normal distribution\n",
    "    LL = np.sum(stats.norm.logpdf(y, pred, std_dev))\n",
    "    # Calculate the negative log-likelihood\n",
    "    neg_LL = -1*LL\n",
    "    return neg_LL "
   ]
  },
  {
   "cell_type": "code",
   "execution_count": null,
   "metadata": {},
   "outputs": [],
   "source": []
  }
 ],
 "metadata": {
  "kernelspec": {
   "display_name": "Python 3",
   "language": "python",
   "name": "python3"
  },
  "language_info": {
   "codemirror_mode": {
    "name": "ipython",
    "version": 3
   },
   "file_extension": ".py",
   "mimetype": "text/x-python",
   "name": "python",
   "nbconvert_exporter": "python",
   "pygments_lexer": "ipython3",
   "version": "3.6.11"
  }
 },
 "nbformat": 4,
 "nbformat_minor": 2
}
