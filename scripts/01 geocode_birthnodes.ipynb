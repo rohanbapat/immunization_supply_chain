{
 "cells": [
  {
   "cell_type": "markdown",
   "metadata": {},
   "source": [
    "This script performs 2 main tasks\n",
    "1. Reverse geocode birth nodes - this helps us filter down the birth-nodes in the required district. The raw birth data obtained from WorldPop will contain data points from other adjacent districts. We use geoapify (https://www.geoapify.com/) api to reverse-geocode (https://www.geoapify.com/reverse-geocoding-api) the lat-long and obtain the district name. Once we have the district names, we filter out the birth-nodes corresponding to required district.\n",
    "2. Geocode phc locations - Since the PHC locations for Vikarabad district do not have lat-long information, we will use the geocode api to get the coordinates https://vikarabad.telangana.gov.in/health-2/"
   ]
  },
  {
   "cell_type": "markdown",
   "metadata": {},
   "source": [
    "#### Part 1 - Reverse Geocode birth nodes"
   ]
  },
  {
   "cell_type": "code",
   "execution_count": 3,
   "metadata": {},
   "outputs": [],
   "source": [
    "import os\n",
    "import sys\n",
    "from pathlib import Path\n",
    "\n",
    "import numpy as np"
   ]
  },
  {
   "cell_type": "code",
   "execution_count": 2,
   "metadata": {},
   "outputs": [],
   "source": [
    "# from geopy.geocoders import Nominatim\n",
    "import pandas as pd\n",
    "import os\n",
    "import time\n",
    "import json\n",
    "\n",
    "import requests\n",
    "from requests.structures import CaseInsensitiveDict"
   ]
  },
  {
   "cell_type": "code",
   "execution_count": 4,
   "metadata": {},
   "outputs": [],
   "source": [
    "path_data = Path.cwd().parent / 'data'"
   ]
  },
  {
   "cell_type": "code",
   "execution_count": 78,
   "metadata": {},
   "outputs": [],
   "source": [
    "phc_locations_df = pd.read_csv(path_data / '01 in_phc_locations.csv', encoding= 'latin-1')\n",
    "\n",
    "geoapify_api_key = open(path_data / '01 geoapify_api_key.txt', \"r\").read()\n",
    "\n",
    "births_raw_df = pd.read_csv(path_data / '01 in_births.csv')\n",
    "\n",
    "births_raw_df['District'] = pd.Series(dtype = 'object')"
   ]
  },
  {
   "cell_type": "markdown",
   "metadata": {},
   "source": [
    "Iterate through all locations and obtain the district name. If using this script to geocode locations in other districts, slight modifications might be required to the script due to difference in the response from the api. Print out the 'res' object and adjust code according to requirements."
   ]
  },
  {
   "cell_type": "code",
   "execution_count": null,
   "metadata": {},
   "outputs": [],
   "source": [
    "for i in range(births_raw_df.shape[0]):\n",
    "    \n",
    "    url = f\"https://api.geoapify.com/v1/geocode/reverse?lat={births_raw_df.loc[i,'Latitude']}&lon={births_raw_df.loc[i,'Longitude']}&apiKey={geoapify_api_key}\"\n",
    "    headers = CaseInsensitiveDict()\n",
    "    headers[\"Accept\"] = \"application/json\"\n",
    "    resp = requests.get(url, headers=headers)\n",
    "    res = json.loads(resp.text)\n",
    "    \n",
    "    try:\n",
    "        births_raw_df.loc[i,'District'] = res['features'][0]['properties']['state_district']\n",
    "    except KeyError:\n",
    "        births_raw_df.loc[i,'District'] = res['features'][0]['properties']['county']\n",
    "        \n",
    "    time.sleep(0.25)"
   ]
  },
  {
   "cell_type": "markdown",
   "metadata": {},
   "source": [
    "Filter out data for required district"
   ]
  },
  {
   "cell_type": "code",
   "execution_count": null,
   "metadata": {},
   "outputs": [],
   "source": [
    "births_clean_district_df = births_raw_df[births_raw_df['District'] == 'Vikarabad District']\n",
    "\n",
    "births_clean_district_df = births_clean_district_df.drop(columns= 'District')"
   ]
  },
  {
   "cell_type": "markdown",
   "metadata": {},
   "source": [
    "#### Part 2. Geocode PHC locations "
   ]
  },
  {
   "cell_type": "code",
   "execution_count": 83,
   "metadata": {},
   "outputs": [],
   "source": [
    "phc_locations_df['Latitude'], phc_locations_df['Longitude'] = [0.0,0.0]\n",
    "\n",
    "phc_locations_df = phc_locations_df.replace(u'\\xa0', u'')\n",
    "\n",
    "phc_locations_df['PHC Full Name'] = phc_locations_df['Primary Health Centre Name'] + \", \" + phc_locations_df['Primary Health Centre Location'] + \", \" + phc_locations_df['Mandal']"
   ]
  },
  {
   "cell_type": "code",
   "execution_count": 84,
   "metadata": {},
   "outputs": [],
   "source": [
    "for index, row in phc_locations_df.iterrows():\n",
    "    url = 'https://api.geoapify.com/v1/geocode/search'\n",
    "    params = dict(\n",
    "        text= row['PHC Full Name'],\n",
    "        apiKey=geoapify_api_key\n",
    "    )\n",
    "\n",
    "    resp = requests.get(url=url, params=params)\n",
    "\n",
    "    res = json.loads(resp.text)\n",
    "    try:\n",
    "        phc_locations_df.loc[index, ['Longitude']], phc_locations_df.loc[index, ['Latitude']] = res['features'][0]['geometry']['coordinates']\n",
    "    except IndexError:\n",
    "        phc_locations_df.loc[index, ['Longitude']], phc_locations_df.loc[index, ['Latitude']] = [np.nan, np.nan]\n",
    "    time.sleep(0.25)"
   ]
  },
  {
   "cell_type": "code",
   "execution_count": 76,
   "metadata": {},
   "outputs": [
    {
     "ename": "NameError",
     "evalue": "name 'births_clean_district_df' is not defined",
     "output_type": "error",
     "traceback": [
      "\u001b[1;31m---------------------------------------------------------------------------\u001b[0m",
      "\u001b[1;31mNameError\u001b[0m                                 Traceback (most recent call last)",
      "\u001b[1;32m<ipython-input-76-8ce510203882>\u001b[0m in \u001b[0;36m<module>\u001b[1;34m()\u001b[0m\n\u001b[0;32m      1\u001b[0m \u001b[0mbirths_raw_df\u001b[0m\u001b[1;33m.\u001b[0m\u001b[0mto_csv\u001b[0m\u001b[1;33m(\u001b[0m\u001b[0mpath_data\u001b[0m \u001b[1;33m/\u001b[0m \u001b[1;34m'01 out_births_cleaned_full.csv'\u001b[0m\u001b[1;33m,\u001b[0m \u001b[0mindex\u001b[0m\u001b[1;33m=\u001b[0m \u001b[1;32mFalse\u001b[0m\u001b[1;33m)\u001b[0m\u001b[1;33m\u001b[0m\u001b[1;33m\u001b[0m\u001b[0m\n\u001b[0;32m      2\u001b[0m \u001b[1;33m\u001b[0m\u001b[0m\n\u001b[1;32m----> 3\u001b[1;33m \u001b[0mbirths_clean_district_df\u001b[0m\u001b[1;33m.\u001b[0m\u001b[0mto_csv\u001b[0m\u001b[1;33m(\u001b[0m\u001b[0mpath_data\u001b[0m \u001b[1;33m/\u001b[0m \u001b[1;34m'01 out_births_cleaned_district.csv'\u001b[0m\u001b[1;33m,\u001b[0m \u001b[0mindex\u001b[0m \u001b[1;33m=\u001b[0m \u001b[1;32mFalse\u001b[0m\u001b[1;33m)\u001b[0m\u001b[1;33m\u001b[0m\u001b[1;33m\u001b[0m\u001b[0m\n\u001b[0m\u001b[0;32m      4\u001b[0m \u001b[1;33m\u001b[0m\u001b[0m\n\u001b[0;32m      5\u001b[0m \u001b[0mphc_locations_df\u001b[0m\u001b[1;33m.\u001b[0m\u001b[0mto_csv\u001b[0m\u001b[1;33m(\u001b[0m\u001b[0mpath_data\u001b[0m \u001b[1;33m/\u001b[0m \u001b[1;34m'01 out_phc_locations_geocoded.csv'\u001b[0m\u001b[1;33m,\u001b[0m \u001b[0mindex\u001b[0m\u001b[1;33m=\u001b[0m \u001b[1;32mFalse\u001b[0m\u001b[1;33m)\u001b[0m\u001b[1;33m\u001b[0m\u001b[1;33m\u001b[0m\u001b[0m\n",
      "\u001b[1;31mNameError\u001b[0m: name 'births_clean_district_df' is not defined"
     ]
    }
   ],
   "source": [
    "births_raw_df.to_csv(path_data / '01 out_births_cleaned_full.csv', index= False)\n",
    "\n",
    "births_clean_district_df.to_csv(path_data / '01 out_births_cleaned_district.csv', index = False)"
   ]
  },
  {
   "cell_type": "code",
   "execution_count": 85,
   "metadata": {},
   "outputs": [],
   "source": [
    "phc_locations_df.to_csv(path_data / '01 out_phc_locations_geocoded.csv', index= False)"
   ]
  }
 ],
 "metadata": {
  "kernelspec": {
   "display_name": "Python 3",
   "language": "python",
   "name": "python3"
  },
  "language_info": {
   "codemirror_mode": {
    "name": "ipython",
    "version": 3
   },
   "file_extension": ".py",
   "mimetype": "text/x-python",
   "name": "python",
   "nbconvert_exporter": "python",
   "pygments_lexer": "ipython3",
   "version": "3.6.11"
  }
 },
 "nbformat": 4,
 "nbformat_minor": 2
}
