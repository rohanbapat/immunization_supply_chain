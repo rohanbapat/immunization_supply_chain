{
 "cells": [
  {
   "cell_type": "code",
   "execution_count": 4,
   "metadata": {},
   "outputs": [],
   "source": [
    "import pandas as pd\n",
    "\n",
    "from datetime import datetime, timedelta\n",
    "\n",
    "import matplotlib.pyplot as plt\n",
    "\n",
    "import numpy as np"
   ]
  },
  {
   "cell_type": "code",
   "execution_count": 5,
   "metadata": {},
   "outputs": [],
   "source": [
    "nfhs_raw_df = pd.read_csv(r\"C:\\Users\\Rohan Bapat\\Documents\\Projects\\Immunization Supply Chain\\NFHS data\\Childrens recode SPSS\\NFHS6_ChildRecode_VaccinationDelay_10Mar24.csv\")\n",
    "\n",
    "vaccine_details_df = pd.read_csv(r\"C:\\Users\\Rohan Bapat\\Documents\\Projects\\Immunization Supply Chain\\immunization_supply_chain\\data\\03 in_vaccine_details.csv\")\n",
    "\n",
    "code_antigen_mapping = {'H2':'BCG', 'H3':'DPT 1', 'H4':'Oral Polio Vaccine 1', 'H5':'DPT 2', 'H6':'Oral Polio Vaccine 2', 'H7':'DPT 3', 'H8':'Oral Polio Vaccine 3', 'H9':'Measles & Rubella 1', 'H0':'Oral Polio Vaccine 0', 'H50':'Hepatitis B 0', 'H51':'Pentavalent 1', 'H52':'Pentavalent 2', 'H53':'Pentavalent 3', 'H54':'PCV 1', 'H55':'PCV 2', 'H56':'PCV 3', 'H57':'Rotavirus Vaccine 1', 'H58':'Rotavirus Vaccine 2', 'H59':'Rotavirus Vaccine 3', 'H61':'Hepatitis B 1'}   "
   ]
  },
  {
   "cell_type": "code",
   "execution_count": 6,
   "metadata": {},
   "outputs": [],
   "source": [
    "vaccine_start_date_dict = vaccine_details_df[['Vaccine', 'Start Week']].set_index('Vaccine').T.to_dict('records')[0]\n",
    "\n",
    "vaccine_start_date_dict.update({'DPT 1': 6, 'DPT 2': 10, 'DPT 3': 14, 'Hepatitis B 0' : 0, 'Hepatitis B 1' : 6, 'PCV 3' : 36})\n",
    "\n",
    "vaccine_start_date_dict = dict((k, v * 7) for k, v in vaccine_start_date_dict.items())"
   ]
  },
  {
   "cell_type": "code",
   "execution_count": 7,
   "metadata": {},
   "outputs": [],
   "source": [
    "clean_df = pd.DataFrame()\n",
    "\n",
    "date_1 = datetime.strptime('1900-01-01 00:00:00', '%Y-%m-%d %H:%M:%S')\n",
    "\n",
    "clean_df['D_birth'] = nfhs_raw_df['B18'].apply(lambda x: date_1 + timedelta(days=x-2))\n",
    "\n",
    "clean_df['D_interview'] = pd.to_datetime(dict(year=nfhs_raw_df['V007'], month=nfhs_raw_df['V006'], day=nfhs_raw_df['V016']))"
   ]
  },
  {
   "cell_type": "code",
   "execution_count": 8,
   "metadata": {},
   "outputs": [],
   "source": [
    "for code, antigen in code_antigen_mapping.items():\n",
    "    clean_df['D_'+antigen] = nfhs_raw_df[code+'Y'] + '-' + nfhs_raw_df[code+'M'] + '-' + nfhs_raw_df[code + 'D']\n",
    "    clean_df['D_'+antigen] = pd.to_datetime(clean_df['D_'+antigen], errors='coerce')\n",
    "    clean_df['VacDays_' + antigen] = (clean_df['D_' + antigen] - clean_df['D_birth']).dt.days\n",
    "    clean_df['Delay_' + antigen] = (clean_df['VacDays_' + antigen] - vaccine_start_date_dict[antigen]).clip(lower = 0)\n",
    "    try:\n",
    "        clean_df['DelayAdjusted_' + antigen] = (clean_df['VacDays_' + antigen] - int(clean_df['VacDays_' + antigen].mode())-1).clip(lower = 0)\n",
    "    except TypeError:\n",
    "        next"
   ]
  },
  {
   "cell_type": "code",
   "execution_count": 12,
   "metadata": {},
   "outputs": [
    {
     "data": {
      "text/plain": [
       "['DelayAdjusted_BCG',\n",
       " 'DelayAdjusted_DPT 1',\n",
       " 'DelayAdjusted_Oral Polio Vaccine 1',\n",
       " 'DelayAdjusted_DPT 2',\n",
       " 'DelayAdjusted_Oral Polio Vaccine 2',\n",
       " 'DelayAdjusted_DPT 3',\n",
       " 'DelayAdjusted_Oral Polio Vaccine 3',\n",
       " 'DelayAdjusted_Measles & Rubella 1',\n",
       " 'DelayAdjusted_Oral Polio Vaccine 0',\n",
       " 'DelayAdjusted_Hepatitis B 0',\n",
       " 'DelayAdjusted_Pentavalent 1',\n",
       " 'DelayAdjusted_Pentavalent 2',\n",
       " 'DelayAdjusted_Pentavalent 3',\n",
       " 'DelayAdjusted_Rotavirus Vaccine 1',\n",
       " 'DelayAdjusted_Rotavirus Vaccine 2',\n",
       " 'DelayAdjusted_Rotavirus Vaccine 3',\n",
       " 'DelayAdjusted_Hepatitis B 1']"
      ]
     },
     "execution_count": 12,
     "metadata": {},
     "output_type": "execute_result"
    }
   ],
   "source": [
    "(clean_df['D_birth'].dt.year + \"-\" + clean_df['D_birth'].dt.month)"
   ]
  },
  {
   "cell_type": "code",
   "execution_count": 16,
   "metadata": {},
   "outputs": [],
   "source": [
    "plt.clf()\n",
    "fig, ax = plt.subplots(nrows = len(code_antigen_mapping.keys()), ncols = 1,figsize=(10,120))\n",
    "plt.subplots_adjust(hspace=0.5)\n",
    "\n",
    "i=0\n",
    "n_days = 120\n",
    "\n",
    "\n",
    "for code, antigen in code_antigen_mapping.items():\n",
    "    try:\n",
    "        if ~np.isnan(clean_df['DelayAdjusted_' + antigen].mean()):\n",
    "    #         geom_dist = np.random.geometric(p = 1/clean_df['DelayAdjusted_' + antigen].mean(), size = 10000)\n",
    "            geom_dist = np.random.geometric(p = 1/clean_df['Delay_' + antigen].mean(), size = 10000)\n",
    "\n",
    "\n",
    "            ax[i].hist(geom_dist[geom_dist<=n_days], bins = n_days, density=True, cumulative = True, histtype='step', color = 'darkorange')\n",
    "    #         ax[i].hist(clean_df.loc[clean_df['DelayAdjusted_' + antigen]<=n_days*2, 'DelayAdjusted_' + antigen], bins=n_days, density=True, cumulative = True, histtype='step', color = 'navy')\n",
    "            ax[i].hist(clean_df.loc[clean_df['Delay_' + antigen]<=n_days*2, 'Delay_' + antigen], bins=n_days, density=True, cumulative = True, histtype='step', color = 'navy')\n",
    "            ax[i].set_ylabel('% of total vaccinated')\n",
    "            ax[i].set_xlabel('Number of days since vaccine start date')\n",
    "            ax[i].set_title(antigen)\n",
    "            ax[i].axis(xmin=0,xmax=n_days)\n",
    "\n",
    "            i+=1\n",
    "    except KeyError:\n",
    "        next\n",
    "# plt.show()\n",
    "plt.savefig(r'C:\\Users\\Rohan Bapat\\Documents\\Projects\\Immunization Supply Chain\\Resources\\Vaccination delay geometric.jpg', bbox_inches='tight')"
   ]
  },
  {
   "cell_type": "code",
   "execution_count": 64,
   "metadata": {},
   "outputs": [
    {
     "data": {
      "text/plain": [
       "True"
      ]
     },
     "execution_count": 64,
     "metadata": {},
     "output_type": "execute_result"
    }
   ],
   "source": [
    "np.isnan(clean_df['DelayAdjusted_' + antigen].mean())"
   ]
  },
  {
   "cell_type": "code",
   "execution_count": 38,
   "metadata": {},
   "outputs": [
    {
     "data": {
      "text/plain": [
       "Series([], dtype: float64)"
      ]
     },
     "execution_count": 38,
     "metadata": {},
     "output_type": "execute_result"
    }
   ],
   "source": [
    "clean_df['VacDays_' + antigen].mode()"
   ]
  },
  {
   "cell_type": "code",
   "execution_count": 7,
   "metadata": {},
   "outputs": [
    {
     "data": {
      "text/plain": [
       "Wednesday    13344\n",
       "Thursday      5242\n",
       "Tuesday       5105\n",
       "Saturday      4854\n",
       "Friday        4059\n",
       "Monday        2508\n",
       "Sunday        1136\n",
       "Name: D_Rotavirus Vaccine 3, dtype: int64"
      ]
     },
     "execution_count": 7,
     "metadata": {},
     "output_type": "execute_result"
    }
   ],
   "source": [
    "clean_df['D_Rotavirus Vaccine 3'].dt.day_name().value_counts()"
   ]
  },
  {
   "cell_type": "code",
   "execution_count": 40,
   "metadata": {},
   "outputs": [
    {
     "data": {
      "text/html": [
       "<div>\n",
       "<style scoped>\n",
       "    .dataframe tbody tr th:only-of-type {\n",
       "        vertical-align: middle;\n",
       "    }\n",
       "\n",
       "    .dataframe tbody tr th {\n",
       "        vertical-align: top;\n",
       "    }\n",
       "\n",
       "    .dataframe thead th {\n",
       "        text-align: right;\n",
       "    }\n",
       "</style>\n",
       "<table border=\"1\" class=\"dataframe\">\n",
       "  <thead>\n",
       "    <tr style=\"text-align: right;\">\n",
       "      <th></th>\n",
       "      <th>DelayAdjusted_BCG</th>\n",
       "      <th>DelayAdjusted_DPT 1</th>\n",
       "      <th>DelayAdjusted_Oral Polio Vaccine 1</th>\n",
       "      <th>DelayAdjusted_DPT 2</th>\n",
       "      <th>DelayAdjusted_Oral Polio Vaccine 2</th>\n",
       "      <th>DelayAdjusted_DPT 3</th>\n",
       "      <th>DelayAdjusted_Oral Polio Vaccine 3</th>\n",
       "      <th>DelayAdjusted_Measles &amp; Rubella 1</th>\n",
       "      <th>DelayAdjusted_Oral Polio Vaccine 0</th>\n",
       "      <th>DelayAdjusted_Hepatitis B 0</th>\n",
       "      <th>DelayAdjusted_Pentavalent 1</th>\n",
       "      <th>DelayAdjusted_Pentavalent 2</th>\n",
       "      <th>DelayAdjusted_Pentavalent 3</th>\n",
       "      <th>DelayAdjusted_PCV 1</th>\n",
       "      <th>DelayAdjusted_PCV 2</th>\n",
       "      <th>DelayAdjusted_PCV 3</th>\n",
       "      <th>DelayAdjusted_Rotavirus Vaccine 1</th>\n",
       "      <th>DelayAdjusted_Rotavirus Vaccine 2</th>\n",
       "      <th>DelayAdjusted_Rotavirus Vaccine 3</th>\n",
       "      <th>DelayAdjusted_Hepatitis B 1</th>\n",
       "    </tr>\n",
       "  </thead>\n",
       "  <tbody>\n",
       "    <tr>\n",
       "      <th>count</th>\n",
       "      <td>107501.00000</td>\n",
       "      <td>97993.000000</td>\n",
       "      <td>98285.000000</td>\n",
       "      <td>91601.000000</td>\n",
       "      <td>91689.000000</td>\n",
       "      <td>84572.000000</td>\n",
       "      <td>84114.000000</td>\n",
       "      <td>57824.000000</td>\n",
       "      <td>93635.000000</td>\n",
       "      <td>73478.000000</td>\n",
       "      <td>94546.000000</td>\n",
       "      <td>88538.000000</td>\n",
       "      <td>81646.000000</td>\n",
       "      <td>0.0</td>\n",
       "      <td>0.0</td>\n",
       "      <td>0.0</td>\n",
       "      <td>45624.000000</td>\n",
       "      <td>40845.000000</td>\n",
       "      <td>36248.000000</td>\n",
       "      <td>95115.000000</td>\n",
       "    </tr>\n",
       "    <tr>\n",
       "      <th>mean</th>\n",
       "      <td>15.22970</td>\n",
       "      <td>35.335575</td>\n",
       "      <td>22.530732</td>\n",
       "      <td>30.450475</td>\n",
       "      <td>28.727296</td>\n",
       "      <td>44.544329</td>\n",
       "      <td>39.255867</td>\n",
       "      <td>37.565924</td>\n",
       "      <td>9.417130</td>\n",
       "      <td>13.037004</td>\n",
       "      <td>24.273835</td>\n",
       "      <td>29.904967</td>\n",
       "      <td>44.233716</td>\n",
       "      <td>NaN</td>\n",
       "      <td>NaN</td>\n",
       "      <td>NaN</td>\n",
       "      <td>29.701561</td>\n",
       "      <td>33.316783</td>\n",
       "      <td>38.341067</td>\n",
       "      <td>25.105987</td>\n",
       "    </tr>\n",
       "    <tr>\n",
       "      <th>std</th>\n",
       "      <td>46.16485</td>\n",
       "      <td>89.976394</td>\n",
       "      <td>48.497691</td>\n",
       "      <td>62.805859</td>\n",
       "      <td>56.961079</td>\n",
       "      <td>71.248053</td>\n",
       "      <td>70.433399</td>\n",
       "      <td>67.748430</td>\n",
       "      <td>39.462015</td>\n",
       "      <td>57.748580</td>\n",
       "      <td>56.295250</td>\n",
       "      <td>60.163599</td>\n",
       "      <td>69.892806</td>\n",
       "      <td>NaN</td>\n",
       "      <td>NaN</td>\n",
       "      <td>NaN</td>\n",
       "      <td>67.362535</td>\n",
       "      <td>71.685345</td>\n",
       "      <td>69.285460</td>\n",
       "      <td>56.854876</td>\n",
       "    </tr>\n",
       "    <tr>\n",
       "      <th>min</th>\n",
       "      <td>0.00000</td>\n",
       "      <td>0.000000</td>\n",
       "      <td>0.000000</td>\n",
       "      <td>0.000000</td>\n",
       "      <td>0.000000</td>\n",
       "      <td>0.000000</td>\n",
       "      <td>0.000000</td>\n",
       "      <td>0.000000</td>\n",
       "      <td>0.000000</td>\n",
       "      <td>0.000000</td>\n",
       "      <td>0.000000</td>\n",
       "      <td>0.000000</td>\n",
       "      <td>0.000000</td>\n",
       "      <td>NaN</td>\n",
       "      <td>NaN</td>\n",
       "      <td>NaN</td>\n",
       "      <td>0.000000</td>\n",
       "      <td>0.000000</td>\n",
       "      <td>0.000000</td>\n",
       "      <td>0.000000</td>\n",
       "    </tr>\n",
       "    <tr>\n",
       "      <th>25%</th>\n",
       "      <td>0.00000</td>\n",
       "      <td>1.000000</td>\n",
       "      <td>0.000000</td>\n",
       "      <td>0.000000</td>\n",
       "      <td>0.000000</td>\n",
       "      <td>3.000000</td>\n",
       "      <td>0.000000</td>\n",
       "      <td>1.000000</td>\n",
       "      <td>0.000000</td>\n",
       "      <td>0.000000</td>\n",
       "      <td>0.000000</td>\n",
       "      <td>0.000000</td>\n",
       "      <td>3.000000</td>\n",
       "      <td>NaN</td>\n",
       "      <td>NaN</td>\n",
       "      <td>NaN</td>\n",
       "      <td>0.000000</td>\n",
       "      <td>0.000000</td>\n",
       "      <td>0.000000</td>\n",
       "      <td>0.000000</td>\n",
       "    </tr>\n",
       "    <tr>\n",
       "      <th>50%</th>\n",
       "      <td>0.00000</td>\n",
       "      <td>10.000000</td>\n",
       "      <td>9.000000</td>\n",
       "      <td>9.000000</td>\n",
       "      <td>9.000000</td>\n",
       "      <td>20.000000</td>\n",
       "      <td>12.000000</td>\n",
       "      <td>15.000000</td>\n",
       "      <td>0.000000</td>\n",
       "      <td>0.000000</td>\n",
       "      <td>8.000000</td>\n",
       "      <td>9.000000</td>\n",
       "      <td>20.000000</td>\n",
       "      <td>NaN</td>\n",
       "      <td>NaN</td>\n",
       "      <td>NaN</td>\n",
       "      <td>10.000000</td>\n",
       "      <td>10.000000</td>\n",
       "      <td>12.000000</td>\n",
       "      <td>9.000000</td>\n",
       "    </tr>\n",
       "    <tr>\n",
       "      <th>75%</th>\n",
       "      <td>10.00000</td>\n",
       "      <td>26.000000</td>\n",
       "      <td>24.000000</td>\n",
       "      <td>34.000000</td>\n",
       "      <td>33.000000</td>\n",
       "      <td>55.000000</td>\n",
       "      <td>48.000000</td>\n",
       "      <td>41.000000</td>\n",
       "      <td>1.000000</td>\n",
       "      <td>0.000000</td>\n",
       "      <td>24.000000</td>\n",
       "      <td>34.000000</td>\n",
       "      <td>55.000000</td>\n",
       "      <td>NaN</td>\n",
       "      <td>NaN</td>\n",
       "      <td>NaN</td>\n",
       "      <td>26.000000</td>\n",
       "      <td>35.000000</td>\n",
       "      <td>47.000000</td>\n",
       "      <td>25.000000</td>\n",
       "    </tr>\n",
       "    <tr>\n",
       "      <th>max</th>\n",
       "      <td>1038.00000</td>\n",
       "      <td>1018.000000</td>\n",
       "      <td>949.000000</td>\n",
       "      <td>898.000000</td>\n",
       "      <td>898.000000</td>\n",
       "      <td>933.000000</td>\n",
       "      <td>890.000000</td>\n",
       "      <td>783.000000</td>\n",
       "      <td>1043.000000</td>\n",
       "      <td>997.000000</td>\n",
       "      <td>933.000000</td>\n",
       "      <td>917.000000</td>\n",
       "      <td>911.000000</td>\n",
       "      <td>NaN</td>\n",
       "      <td>NaN</td>\n",
       "      <td>NaN</td>\n",
       "      <td>950.000000</td>\n",
       "      <td>941.000000</td>\n",
       "      <td>904.000000</td>\n",
       "      <td>934.000000</td>\n",
       "    </tr>\n",
       "  </tbody>\n",
       "</table>\n",
       "</div>"
      ],
      "text/plain": [
       "       DelayAdjusted_BCG  DelayAdjusted_DPT 1  \\\n",
       "count       107501.00000         97993.000000   \n",
       "mean            15.22970            35.335575   \n",
       "std             46.16485            89.976394   \n",
       "min              0.00000             0.000000   \n",
       "25%              0.00000             1.000000   \n",
       "50%              0.00000            10.000000   \n",
       "75%             10.00000            26.000000   \n",
       "max           1038.00000          1018.000000   \n",
       "\n",
       "       DelayAdjusted_Oral Polio Vaccine 1  DelayAdjusted_DPT 2  \\\n",
       "count                        98285.000000         91601.000000   \n",
       "mean                            22.530732            30.450475   \n",
       "std                             48.497691            62.805859   \n",
       "min                              0.000000             0.000000   \n",
       "25%                              0.000000             0.000000   \n",
       "50%                              9.000000             9.000000   \n",
       "75%                             24.000000            34.000000   \n",
       "max                            949.000000           898.000000   \n",
       "\n",
       "       DelayAdjusted_Oral Polio Vaccine 2  DelayAdjusted_DPT 3  \\\n",
       "count                        91689.000000         84572.000000   \n",
       "mean                            28.727296            44.544329   \n",
       "std                             56.961079            71.248053   \n",
       "min                              0.000000             0.000000   \n",
       "25%                              0.000000             3.000000   \n",
       "50%                              9.000000            20.000000   \n",
       "75%                             33.000000            55.000000   \n",
       "max                            898.000000           933.000000   \n",
       "\n",
       "       DelayAdjusted_Oral Polio Vaccine 3  DelayAdjusted_Measles & Rubella 1  \\\n",
       "count                        84114.000000                       57824.000000   \n",
       "mean                            39.255867                          37.565924   \n",
       "std                             70.433399                          67.748430   \n",
       "min                              0.000000                           0.000000   \n",
       "25%                              0.000000                           1.000000   \n",
       "50%                             12.000000                          15.000000   \n",
       "75%                             48.000000                          41.000000   \n",
       "max                            890.000000                         783.000000   \n",
       "\n",
       "       DelayAdjusted_Oral Polio Vaccine 0  DelayAdjusted_Hepatitis B 0  \\\n",
       "count                        93635.000000                 73478.000000   \n",
       "mean                             9.417130                    13.037004   \n",
       "std                             39.462015                    57.748580   \n",
       "min                              0.000000                     0.000000   \n",
       "25%                              0.000000                     0.000000   \n",
       "50%                              0.000000                     0.000000   \n",
       "75%                              1.000000                     0.000000   \n",
       "max                           1043.000000                   997.000000   \n",
       "\n",
       "       DelayAdjusted_Pentavalent 1  DelayAdjusted_Pentavalent 2  \\\n",
       "count                 94546.000000                 88538.000000   \n",
       "mean                     24.273835                    29.904967   \n",
       "std                      56.295250                    60.163599   \n",
       "min                       0.000000                     0.000000   \n",
       "25%                       0.000000                     0.000000   \n",
       "50%                       8.000000                     9.000000   \n",
       "75%                      24.000000                    34.000000   \n",
       "max                     933.000000                   917.000000   \n",
       "\n",
       "       DelayAdjusted_Pentavalent 3  DelayAdjusted_PCV 1  DelayAdjusted_PCV 2  \\\n",
       "count                 81646.000000                  0.0                  0.0   \n",
       "mean                     44.233716                  NaN                  NaN   \n",
       "std                      69.892806                  NaN                  NaN   \n",
       "min                       0.000000                  NaN                  NaN   \n",
       "25%                       3.000000                  NaN                  NaN   \n",
       "50%                      20.000000                  NaN                  NaN   \n",
       "75%                      55.000000                  NaN                  NaN   \n",
       "max                     911.000000                  NaN                  NaN   \n",
       "\n",
       "       DelayAdjusted_PCV 3  DelayAdjusted_Rotavirus Vaccine 1  \\\n",
       "count                  0.0                       45624.000000   \n",
       "mean                   NaN                          29.701561   \n",
       "std                    NaN                          67.362535   \n",
       "min                    NaN                           0.000000   \n",
       "25%                    NaN                           0.000000   \n",
       "50%                    NaN                          10.000000   \n",
       "75%                    NaN                          26.000000   \n",
       "max                    NaN                         950.000000   \n",
       "\n",
       "       DelayAdjusted_Rotavirus Vaccine 2  DelayAdjusted_Rotavirus Vaccine 3  \\\n",
       "count                       40845.000000                       36248.000000   \n",
       "mean                           33.316783                          38.341067   \n",
       "std                            71.685345                          69.285460   \n",
       "min                             0.000000                           0.000000   \n",
       "25%                             0.000000                           0.000000   \n",
       "50%                            10.000000                          12.000000   \n",
       "75%                            35.000000                          47.000000   \n",
       "max                           941.000000                         904.000000   \n",
       "\n",
       "       DelayAdjusted_Hepatitis B 1  \n",
       "count                 95115.000000  \n",
       "mean                     25.105987  \n",
       "std                      56.854876  \n",
       "min                       0.000000  \n",
       "25%                       0.000000  \n",
       "50%                       9.000000  \n",
       "75%                      25.000000  \n",
       "max                     934.000000  "
      ]
     },
     "execution_count": 40,
     "metadata": {},
     "output_type": "execute_result"
    }
   ],
   "source": [
    "clean_df[[col for col in clean_df.columns if 'DelayAdjusted_' in col]].describe()"
   ]
  },
  {
   "cell_type": "code",
   "execution_count": 9,
   "metadata": {},
   "outputs": [
    {
     "data": {
      "text/plain": [
       "{'BCG': 0,\n",
       " 'DPT 1': 42,\n",
       " 'DPT 2': 70,\n",
       " 'DPT 3': 98,\n",
       " 'Hepatitis B': 0,\n",
       " 'Hepatitis B 0': 0,\n",
       " 'Hepatitis B 1': 42,\n",
       " 'Inactivated Polio Vaccine 1': 35,\n",
       " 'Inactivated Polio Vaccine 2': 84,\n",
       " 'Japanese Encephalitis JE-1': 273,\n",
       " 'Measles & Rubella 1': 273,\n",
       " 'Oral Polio Vaccine 0': 0,\n",
       " 'Oral Polio Vaccine 1': 35,\n",
       " 'Oral Polio Vaccine 2': 63,\n",
       " 'Oral Polio Vaccine 3': 84,\n",
       " 'PCV 1': 35,\n",
       " 'PCV 2': 84,\n",
       " 'PCV 3': 252,\n",
       " 'PCV Booster': 273,\n",
       " 'Pentavalent 1': 35,\n",
       " 'Pentavalent 2': 63,\n",
       " 'Pentavalent 3': 84,\n",
       " 'Rotavirus Vaccine 1': 35,\n",
       " 'Rotavirus Vaccine 2': 63,\n",
       " 'Rotavirus Vaccine 3': 84}"
      ]
     },
     "execution_count": 9,
     "metadata": {},
     "output_type": "execute_result"
    }
   ],
   "source": [
    "vaccine_start_date_dict"
   ]
  },
  {
   "cell_type": "code",
   "execution_count": 22,
   "metadata": {},
   "outputs": [
    {
     "name": "stderr",
     "output_type": "stream",
     "text": [
      "C:\\Users\\Rohan Bapat\\AppData\\Local\\Continuum\\Anaconda3\\lib\\site-packages\\ipykernel_launcher.py:1: FutureWarning: Treating datetime data as categorical rather than numeric in `.describe` is deprecated and will be removed in a future version of pandas. Specify `datetime_is_numeric=True` to silence this warning and adopt the future behavior now.\n",
      "  \"\"\"Entry point for launching an IPython kernel.\n"
     ]
    },
    {
     "data": {
      "text/plain": [
       "count                   94546\n",
       "unique                   1667\n",
       "top       2019-02-06 00:00:00\n",
       "freq                      380\n",
       "first     2016-08-10 00:00:00\n",
       "last      2021-04-17 00:00:00\n",
       "Name: D_Pentavalent 1, dtype: object"
      ]
     },
     "execution_count": 22,
     "metadata": {},
     "output_type": "execute_result"
    }
   ],
   "source": [
    "clean_df['D_Pentavalent 1'].describe()"
   ]
  },
  {
   "cell_type": "code",
   "execution_count": null,
   "metadata": {},
   "outputs": [],
   "source": [
    "clean_df = clean_df[(clean_df['D_birth'].dt.year>=2017)]"
   ]
  },
  {
   "cell_type": "code",
   "execution_count": null,
   "metadata": {},
   "outputs": [],
   "source": [
    "clean_df[[col for col in clean_df.columns if col[:7]=='VacDays']].head()"
   ]
  },
  {
   "cell_type": "code",
   "execution_count": null,
   "metadata": {},
   "outputs": [],
   "source": [
    "plt.hist(geom_dist, bins = 150, density=True, cumulative=True, histtype='step')\n",
    "plt.show()"
   ]
  },
  {
   "cell_type": "code",
   "execution_count": 11,
   "metadata": {},
   "outputs": [
    {
     "data": {
      "image/png": "[encoded data removed]",
      "text/plain": [
       "<Figure size 432x288 with 1 Axes>"
      ]
     },
     "metadata": {},
     "output_type": "display_data"
    }
   ],
   "source": [
    "clean_df['VacDays_BCG'].hist()\n",
    "plt.show()"
   ]
  },
  {
   "cell_type": "code",
   "execution_count": 12,
   "metadata": {},
   "outputs": [
    {
     "data": {
      "image/png": "[encoded data removed]",
      "text/plain": [
       "<Figure size 432x288 with 1 Axes>"
      ]
     },
     "metadata": {},
     "output_type": "display_data"
    }
   ],
   "source": [
    "clean_df.loc[(clean_df['VacDays_BCG']>=-100) & (clean_df['VacDays_BCG']<=200), 'VacDays_BCG'].hist(bins=200, density=True, cumulative=True, histtype='step')\n",
    "plt.show()"
   ]
  },
  {
   "cell_type": "code",
   "execution_count": 49,
   "metadata": {},
   "outputs": [
    {
     "data": {
      "text/plain": [
       "1.0"
      ]
     },
     "execution_count": 49,
     "metadata": {},
     "output_type": "execute_result"
    }
   ],
   "source": [
    "clean_df['Delay_BCG'].median()"
   ]
  },
  {
   "cell_type": "code",
   "execution_count": 20,
   "metadata": {},
   "outputs": [
    {
     "data": {
      "image/png": "[encoded data removed]",
      "text/plain": [
       "<Figure size 720x360 with 1 Axes>"
      ]
     },
     "metadata": {},
     "output_type": "display_data"
    }
   ],
   "source": [
    "(clean_df['D_birth'].dt.year.astype(str) + \"-\" + clean_df['D_birth'].dt.month.map(\"{:02}\".format).astype(str)).sort_values().groupby(clean_df['D_birth'].dt.year.astype(str) + \"-\" + clean_df['D_birth'].dt.month.map(\"{:02}\".format).astype(str), sort=False).count().plot(kind='bar', figsize=(10, 5))\n",
    "plt.show()"
   ]
  },
  {
   "cell_type": "code",
   "execution_count": 21,
   "metadata": {},
   "outputs": [
    {
     "data": {
      "image/png": "[encoded data removed]",
      "text/plain": [
       "<Figure size 720x360 with 1 Axes>"
      ]
     },
     "metadata": {},
     "output_type": "display_data"
    }
   ],
   "source": [
    "plt.clf()\n",
    "(clean_df['D_interview'].dt.year.astype(str) + \"-\" + clean_df['D_interview'].dt.month.map(\"{:02}\".format).astype(str)).sort_values().groupby(clean_df['D_interview'].dt.year.astype(str) + \"-\" + clean_df['D_interview'].dt.month.map(\"{:02}\".format).astype(str), sort=False).count().plot(kind='bar', figsize=(10, 5))\n",
    "plt.show()"
   ]
  },
  {
   "cell_type": "code",
   "execution_count": null,
   "metadata": {},
   "outputs": [],
   "source": []
  },
  {
   "cell_type": "markdown",
   "metadata": {},
   "source": [
    "$CASEID$ -  Case identification is used to uniquely identify each respondent <br>\n",
    "$V006$ - Month of the individual interview <br>\n",
    "$V007$ - Year of the individual interview <br>\n",
    "$V016$ - Day of the individual interview <br>\n",
    "\n",
    "$HW1$ - Age in months of the child is calculated from the country month code of the date of  interview less the century month code of the date of birth of the child. \n",
    "$B18$ - Century day code of birth of child, calculated from B2, B3 and B17 (see note on century day\n",
    "codes) <br>\n",
    "$H1$ - Whether the respondent has a health card for the child and whether she could produce it for\n",
    "the interviewer. Code 1 means the interviewer saw the health card for the child, whereas\n",
    "code 2 means the respondent reported she had a health card for the child but the interviewer\n",
    "did not see it. Code 3 indicates that the respondent had a health card for the child at some\n",
    "point in time, but no longer has the health card. <br>\n",
    "$H2$ - Whether a date of vaccination was recorded on the health card for BCG. Code 1 means the\n",
    "child has a date recorded for the vaccination. Code 2 is used to indicate that the respondent\n",
    "reported that the child had received the vaccination although the health card was not seen or\n",
    "did not exist, or the vaccination was not recorded on the health card, but was reported by the\n",
    "mother. Code 3 is used to indicate situations where the health card is clearly marked to\n",
    "indicate that the vaccination was given, but no date was recorded on the health card for the\n",
    "vaccination <br>\n",
    "\n",
    "\n",
    "$H2D$ - BCG vaccination date - day. <br>\n",
    "$H2M$ - BCG vaccination date - month. <br>\n",
    "$H2Y$ - BCG vaccination date - year. <br>\n",
    "\n",
    "$H3$ - DPT1 - Received <br>\n",
    "$H3D$ - DPT1 - day. <br>\n",
    "$H3M$ - DPT1 - month. <br>\n",
    "$H3Y$ - DPT1 - year.  <br>\n",
    "\n",
    "$H4$ - Polio 1 - Received <br>\n",
    "$H4D$ - Polio 1 - day. <br>\n",
    "$H4M$ - Polio 1 - month. <br>\n",
    "$H4Y$ - Polio 1 - year.  <br>\n",
    "\n",
    "$H5$ - DPT 2 - Received <br>\n",
    "$H5D$ - DPT 2 - day. <br>\n",
    "$H5M$ - DPT 2 - month. <br>\n",
    "$H5Y$ - DPT 2 - year.  <br>\n",
    "\n",
    "$H6$ - Polio 2 - Received <br>\n",
    "$H6D$ - Polio 2 - day. <br>\n",
    "$H6M$ - Polio 2 - month. <br>\n",
    "$H6Y$ - Polio 2 - year.  <br>\n",
    "\n",
    "$H7$ - DPT 3 - Received <br>\n",
    "$H7D$ - DPT 3 - day. <br>\n",
    "$H7M$ - DPT 3 - month. <br>\n",
    "$H7Y$ - DPT 3 - year.  <br>\n",
    "\n",
    "$H8$ - Polio 3 - Received <br>\n",
    "$H8D$ - Polio 3 - day. <br>\n",
    "$H8M$ - Polio 3 - month. <br>\n",
    "$H8Y$ - Polio 3 - year.  <br>\n",
    "\n",
    "$H9$ - Measles 1 - Received <br>\n",
    "$H9D$ - Measles 1 - day. <br>\n",
    "$H9M$ - Measles 1 - month. <br>\n",
    "$H9Y$ - Measles 1 - year.  <br>\n",
    "\n",
    "$H0$ - Polio 0 - Received <br>\n",
    "$H0D$ - Polio 0 - day. <br>\n",
    "$H0M$ - Polio 0 - month. <br>\n",
    "$H0Y$ - Polio 0 - year.  <br>\n",
    "\n",
    "$H50$ - Hepatitis B 0 - Received <br>\n",
    "$H50D$ - Hepatitis B 0 - day. <br>\n",
    "$H50M$ - Hepatitis B 0 - month. <br>\n",
    "$H50Y$ - Hepatitis B 0 - year.  <br>\n",
    "\n",
    "$H51$ - Pentavalent 1 - Received <br>\n",
    "$H51D$ - Pentavalent 1 - day. <br>\n",
    "$H51M$ - Pentavalent 1 - month. <br>\n",
    "$H51Y$ - Pentavalent 1 - year.  <br>\n",
    "\n",
    "$H52$ - Pentavalent 2 - Received <br>\n",
    "$H52D$ - Pentavalent 2 - day. <br>\n",
    "$H52M$ - Pentavalent 2 - month. <br>\n",
    "$H52Y$ - Pentavalent 2 - year.  <br>\n",
    "\n",
    "$H53$ - Pentavalent 3 - Received <br>\n",
    "$H53D$ - Pentavalent 3 - day. <br>\n",
    "$H53M$ - Pentavalent 3 - month. <br>\n",
    "$H53Y$ - Pentavalent 3 - year.  <br>\n",
    "\n",
    "$H54$ - PCV 1 - Received <br>\n",
    "$H54D$ - PCV 1 - day. <br>\n",
    "$H54M$ - PCV 1 - month. <br>\n",
    "$H54Y$ - PCV 1 - year.  <br>\n",
    "\n",
    "$H55$ - PCV 2 - Received <br>\n",
    "$H55D$ - PCV 2 - day. <br>\n",
    "$H55M$ - PCV 2 - month. <br>\n",
    "$H55Y$ - PCV 2 - year.  <br>\n",
    "\n",
    "$H56$ - PCV 3 - Received <br>\n",
    "$H56D$ - PCV 3 - day. <br>\n",
    "$H56M$ - PCV 3 - month. <br>\n",
    "$H56Y$ - PCV 3 - year.  <br>\n",
    "\n",
    "$H57$ - Rotavirus 1 - Received <br>\n",
    "$H57D$ - Rotavirus 1 - day. <br>\n",
    "$H57M$ - Rotavirus 1 - month. <br>\n",
    "$H57Y$ - Rotavirus 1 - year.  <br>\n",
    "\n",
    "$H58$ - Rotavirus 2 - Received <br>\n",
    "$H58D$ - Rotavirus 2 - day. <br>\n",
    "$H58M$ - Rotavirus 2 - month. <br>\n",
    "$H58Y$ - Rotavirus 2 - year.  <br>\n",
    "\n",
    "$H59$ - Rotavirus 3 - Received <br>\n",
    "$H59D$ - Rotavirus 3 - day. <br>\n",
    "$H59M$ - Rotavirus 3 - month. <br>\n",
    "$H59Y$ - Rotavirus 3 - year.  <br>\n",
    "\n",
    "$H61$ - Hepatitis B 1 - Received <br>\n",
    "$H61D$ - Hepatitis B 1 - day. <br>\n",
    "$H61M$ - Hepatitis B 1 - month. <br>\n",
    "$H61Y$ - Hepatitis B 1 - year.  <br>"
   ]
  }
 ],
 "metadata": {
  "kernelspec": {
   "display_name": "Python 3",
   "language": "python",
   "name": "python3"
  },
  "language_info": {
   "codemirror_mode": {
    "name": "ipython",
    "version": 3
   },
   "file_extension": ".py",
   "mimetype": "text/x-python",
   "name": "python",
   "nbconvert_exporter": "python",
   "pygments_lexer": "ipython3",
   "version": "3.6.11"
  }
 },
 "nbformat": 4,
 "nbformat_minor": 2
}
