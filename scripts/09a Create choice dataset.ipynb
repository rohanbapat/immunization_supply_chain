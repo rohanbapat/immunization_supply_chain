{
 "cells": [
  {
   "cell_type": "code",
   "execution_count": 1,
   "metadata": {},
   "outputs": [],
   "source": [
    "import SimulateDemand\n",
    "import pandas as pd\n",
    "import numpy as np"
   ]
  },
  {
   "cell_type": "code",
   "execution_count": 2,
   "metadata": {},
   "outputs": [],
   "source": [
    "scen_params_setting = {'scen1': {'ss_mode': 'periodic', 'ss_replenishment_source': 'phc', 'replenishmentdisruption': 0 , 'ccedisruption':0},\n",
    "                       'scen2': {'ss_mode': 'periodic', 'ss_replenishment_source': 'phc', 'replenishmentdisruption': 0.2 , 'ccedisruption':0},\n",
    "                       'scen3': {'ss_mode': 'periodic', 'ss_replenishment_source': 'phc', 'replenishmentdisruption': 0 , 'ccedisruption':4/365},\n",
    "                       'scen4': {'ss_mode': 'periodic-2device', 'ss_replenishment_source': 'phc', 'replenishmentdisruption': 0 , 'ccedisruption':0},\n",
    "                       'scen5': {'ss_mode': 'periodic-2device', 'ss_replenishment_source': 'phc', 'replenishmentdisruption': 0.2 , 'ccedisruption':0},\n",
    "                       'scen6': {'ss_mode': 'periodic-2device', 'ss_replenishment_source': 'phc', 'replenishmentdisruption': 0 , 'ccedisruption':4/365},\n",
    "                       'scen7': {'ss_mode': 'periodic-2device', 'ss_replenishment_source': 'phc', 'replenishmentdisruption': 0.2 , 'ccedisruption':4/365},\n",
    "                       'scen8': {'ss_mode': 'continuous', 'ss_replenishment_source': 'phc', 'replenishmentdisruption': 0 , 'ccedisruption':0},\n",
    "                       'scen9': {'ss_mode': 'continuous', 'ss_replenishment_source': 'phc', 'replenishmentdisruption': 0.2 , 'ccedisruption':0},\n",
    "                       'scen10': {'ss_mode': 'continuous', 'ss_replenishment_source': 'phc', 'replenishmentdisruption': 0 , 'ccedisruption':4/365},\n",
    "                       'scen11': {'ss_mode': 'continuous', 'ss_replenishment_source': 'dvs', 'replenishmentdisruption': 0 , 'ccedisruption':0},\n",
    "                       'scen12': {'ss_mode': 'continuous', 'ss_replenishment_source': 'dvs', 'replenishmentdisruption': 0.2 , 'ccedisruption':0},\n",
    "                       'scen13': {'ss_mode': 'continuous', 'ss_replenishment_source': 'dvs', 'replenishmentdisruption': 0 , 'ccedisruption':4/365},\n",
    "                       'scen14': {'ss_mode': 'continuous', 'ss_replenishment_source': 'dvs', 'replenishmentdisruption': 0.2 , 'ccedisruption':4/365}\n",
    "                      }"
   ]
  },
  {
   "cell_type": "code",
   "execution_count": 3,
   "metadata": {},
   "outputs": [
    {
     "name": "stdout",
     "output_type": "stream",
     "text": [
      "scen1 37136\n",
      "scen2 37991\n",
      "scen3 43866\n",
      "scen4 38027\n",
      "scen5 37644\n",
      "scen6 35818\n",
      "scen7 34980\n",
      "scen8 34852\n",
      "scen9 48581\n",
      "scen10 40241\n",
      "scen11 32931\n",
      "scen12 38939\n",
      "scen13 40889\n",
      "scen14 38530\n"
     ]
    }
   ],
   "source": [
    "i=0\n",
    "\n",
    "choices_df = pd.DataFrame()\n",
    "\n",
    "for scen, scen_params in scen_params_setting.items():\n",
    "    scen_df = SimulateDemand.main(i, scen, scen_params['ss_mode'], scen_params['ss_replenishment_source'], scen_params['replenishmentdisruption'], scen_params['ccedisruption'])\n",
    "    choices_df = choices_df.append(scen_df)\n",
    "    print(scen, scen_df.shape[0])\n",
    "    i+=1"
   ]
  },
  {
   "cell_type": "code",
   "execution_count": 5,
   "metadata": {},
   "outputs": [],
   "source": [
    "choices_df.to_csv(r\"C:\\Users\\Rohan Bapat\\Documents\\Projects\\Immunization Supply Chain\\immunization_supply_chain\\data\\09 choices for MLE smallerrors.csv\", index = False)"
   ]
  },
  {
   "cell_type": "code",
   "execution_count": 21,
   "metadata": {},
   "outputs": [
    {
     "data": {
      "text/plain": [
       "536557"
      ]
     },
     "execution_count": 21,
     "metadata": {},
     "output_type": "execute_result"
    }
   ],
   "source": [
    "choices_df[choices_df['ChosenNO']==1].shape[0]"
   ]
  },
  {
   "cell_type": "code",
   "execution_count": 22,
   "metadata": {},
   "outputs": [],
   "source": [
    "choices_sample = choices_df[choices_df['ChosenNO']==1].sample(300000)"
   ]
  },
  {
   "cell_type": "code",
   "execution_count": 23,
   "metadata": {},
   "outputs": [],
   "source": [
    "choices_sample = choices_sample.append(choices_df[choices_df['ChosenNO']!=1].sample(10000, replace = True))"
   ]
  },
  {
   "cell_type": "code",
   "execution_count": 24,
   "metadata": {},
   "outputs": [
    {
     "data": {
      "text/plain": [
       "310000"
      ]
     },
     "execution_count": 24,
     "metadata": {},
     "output_type": "execute_result"
    }
   ],
   "source": [
    "choices_sample.shape[0]"
   ]
  },
  {
   "cell_type": "code",
   "execution_count": 25,
   "metadata": {},
   "outputs": [],
   "source": [
    "choices_sample.to_csv(r\"C:\\Users\\Rohan Bapat\\Documents\\Projects\\Immunization Supply Chain\\immunization_supply_chain\\data\\09 choices for MLE sample v2.csv\", index = False)"
   ]
  },
  {
   "cell_type": "code",
   "execution_count": 10,
   "metadata": {},
   "outputs": [
    {
     "data": {
      "text/plain": [
       "Index(['index', 'uno1', 'uno2', 'dist_phc', 'dist_ss',\n",
       "       'days_to_next_session_ss', 'sociodemographic', 'prior_unserved_phc',\n",
       "       'prior_unserved_ss', 'log_days_since_due_date', 'day', 'ChosenSS',\n",
       "       'ChosenPHC', 'ChosenNO'],\n",
       "      dtype='object')"
      ]
     },
     "execution_count": 10,
     "metadata": {},
     "output_type": "execute_result"
    }
   ],
   "source": [
    "choices_sample.columns"
   ]
  }
 ],
 "metadata": {
  "kernelspec": {
   "display_name": "Python 3",
   "language": "python",
   "name": "python3"
  },
  "language_info": {
   "codemirror_mode": {
    "name": "ipython",
    "version": 3
   },
   "file_extension": ".py",
   "mimetype": "text/x-python",
   "name": "python",
   "nbconvert_exporter": "python",
   "pygments_lexer": "ipython3",
   "version": "3.6.11"
  }
 },
 "nbformat": 4,
 "nbformat_minor": 2
}
